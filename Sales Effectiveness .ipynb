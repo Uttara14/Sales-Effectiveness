{
 "cells": [
  {
   "cell_type": "markdown",
   "id": "807bced3",
   "metadata": {},
   "source": [
    "## Business Case \n",
    "\n",
    "FicZon Inc is an IT solution provider with products ranging from on premises products to SAAS based solutions. FicZon major leads generation channel is digital and through their website. \n",
    "FicZon business is majorly dependent on the sales force \n",
    "effectiveness. As the market is maturing and more new competitors \n",
    "entering the market, FicZon is experiencing the dip in sales.\n",
    "\n",
    "Effective sales is dependent on lead quality and as of now, this is \n",
    "based on manual categorization and highly depended on sales staff. \n",
    "Though there is a quality process, which continuously updates the \n",
    "lead categorization, it’s value is in for post analysis, rather than \n",
    "conversation.\n",
    "\n",
    "FicZon wants to explore Machine Learning to pre-categorize the lead \n",
    "quality and as result, expecting significant increase in sales \n",
    "effectiveness."
   ]
  },
  {
   "cell_type": "markdown",
   "id": "168efdc1",
   "metadata": {},
   "source": [
    "## Project Goal : \n",
    "1. Data exploration insights – Sales effectiveness.\n",
    "2. ML model to predict the Lead Category (High Potential , Low \n",
    "   Potential)\n"
   ]
  },
  {
   "cell_type": "markdown",
   "id": "0fee0d76",
   "metadata": {},
   "source": [
    "## Task : Classification"
   ]
  },
  {
   "cell_type": "markdown",
   "id": "1d24702e",
   "metadata": {},
   "source": [
    "## Importing Libraries:"
   ]
  },
  {
   "cell_type": "code",
   "execution_count": 1,
   "id": "0e872ca7",
   "metadata": {},
   "outputs": [
    {
     "name": "stdout",
     "output_type": "stream",
     "text": [
      "Requirement already satisfied: pymysql in c:\\users\\uttara\\anaconda3\\lib\\site-packages (1.1.0)\n",
      "Requirement already satisfied: mysql-connector-python in c:\\users\\uttara\\anaconda3\\lib\\site-packages (8.1.0)\n",
      "Requirement already satisfied: protobuf<=4.21.12,>=4.21.1 in c:\\users\\uttara\\anaconda3\\lib\\site-packages (from mysql-connector-python) (4.21.12)\n"
     ]
    }
   ],
   "source": [
    "!pip install pymysql\n",
    "!pip install mysql-connector-python"
   ]
  },
  {
   "cell_type": "code",
   "execution_count": 2,
   "id": "f7ea70dd",
   "metadata": {},
   "outputs": [],
   "source": [
    "import numpy as np\n",
    "import pandas as pd\n",
    "import matplotlib.pyplot as plt\n",
    "import seaborn as sns\n",
    "from sqlalchemy import create_engine\n",
    "import mysql.connector\n",
    "from mysql.connector import (connection)\n",
    "import warnings \n",
    "warnings.filterwarnings(\"ignore\")"
   ]
  },
  {
   "cell_type": "markdown",
   "id": "4f791122",
   "metadata": {},
   "source": [
    "## Data Collection"
   ]
  },
  {
   "cell_type": "code",
   "execution_count": 3,
   "id": "e6630d90",
   "metadata": {},
   "outputs": [],
   "source": [
    "# Connecting to database server\n",
    "connector = mysql.connector.connect(host = ' 18.136.157.135',\n",
    "                                    user = 'dm_team2',\n",
    "                                    password = 'DM!$Team&27@9!20!',\n",
    "                                    database = 'project_sales')"
   ]
  },
  {
   "cell_type": "code",
   "execution_count": 4,
   "id": "060492e1",
   "metadata": {},
   "outputs": [
    {
     "name": "stdout",
     "output_type": "stream",
     "text": [
      "  Tables_in_project_sales\n",
      "0                    data\n"
     ]
    }
   ],
   "source": [
    "# Fetching data from data base\n",
    "database_tables = pd.read_sql_query('show tables', connector)\n",
    "print(database_tables)"
   ]
  },
  {
   "cell_type": "code",
   "execution_count": 5,
   "id": "8d65ffbe",
   "metadata": {},
   "outputs": [],
   "source": [
    "query = 'select * from data'"
   ]
  },
  {
   "cell_type": "code",
   "execution_count": 6,
   "id": "6efee125",
   "metadata": {},
   "outputs": [],
   "source": [
    "data = pd.read_sql(query, connector)"
   ]
  },
  {
   "cell_type": "code",
   "execution_count": 7,
   "id": "b1ed74bc",
   "metadata": {},
   "outputs": [],
   "source": [
    "data = data.replace('', pd.NA)"
   ]
  },
  {
   "cell_type": "code",
   "execution_count": 8,
   "id": "47731170",
   "metadata": {},
   "outputs": [],
   "source": [
    "pd.set_option('display.max_columns', None)"
   ]
  },
  {
   "cell_type": "markdown",
   "id": "e672d75d",
   "metadata": {},
   "source": [
    "## Basic Checks"
   ]
  },
  {
   "cell_type": "code",
   "execution_count": 9,
   "id": "b47d25d3",
   "metadata": {
    "scrolled": true
   },
   "outputs": [
    {
     "data": {
      "text/html": [
       "<div>\n",
       "<style scoped>\n",
       "    .dataframe tbody tr th:only-of-type {\n",
       "        vertical-align: middle;\n",
       "    }\n",
       "\n",
       "    .dataframe tbody tr th {\n",
       "        vertical-align: top;\n",
       "    }\n",
       "\n",
       "    .dataframe thead th {\n",
       "        text-align: right;\n",
       "    }\n",
       "</style>\n",
       "<table border=\"1\" class=\"dataframe\">\n",
       "  <thead>\n",
       "    <tr style=\"text-align: right;\">\n",
       "      <th></th>\n",
       "      <th>Created</th>\n",
       "      <th>Product_ID</th>\n",
       "      <th>Source</th>\n",
       "      <th>Mobile</th>\n",
       "      <th>EMAIL</th>\n",
       "      <th>Sales_Agent</th>\n",
       "      <th>Location</th>\n",
       "      <th>Delivery_Mode</th>\n",
       "      <th>Status</th>\n",
       "    </tr>\n",
       "  </thead>\n",
       "  <tbody>\n",
       "    <tr>\n",
       "      <th>0</th>\n",
       "      <td>14-11-2018 10:05</td>\n",
       "      <td>&lt;NA&gt;</td>\n",
       "      <td>Website</td>\n",
       "      <td>984XXXXXXX</td>\n",
       "      <td>aXXXXXXX@gmail.com</td>\n",
       "      <td>Sales-Agent-11</td>\n",
       "      <td>&lt;NA&gt;</td>\n",
       "      <td>Mode-5</td>\n",
       "      <td>Open</td>\n",
       "    </tr>\n",
       "    <tr>\n",
       "      <th>1</th>\n",
       "      <td>14-11-2018 09:22</td>\n",
       "      <td>&lt;NA&gt;</td>\n",
       "      <td>Website</td>\n",
       "      <td>XXXXXXX</td>\n",
       "      <td>#VALUE!</td>\n",
       "      <td>Sales-Agent-10</td>\n",
       "      <td>&lt;NA&gt;</td>\n",
       "      <td>Mode-5</td>\n",
       "      <td>Open</td>\n",
       "    </tr>\n",
       "    <tr>\n",
       "      <th>2</th>\n",
       "      <td>14-11-2018 09:21</td>\n",
       "      <td>&lt;NA&gt;</td>\n",
       "      <td>Website</td>\n",
       "      <td>XXXXXXX</td>\n",
       "      <td>dXXXXXXX@yahoo.com</td>\n",
       "      <td>Sales-Agent-10</td>\n",
       "      <td>&lt;NA&gt;</td>\n",
       "      <td>Mode-5</td>\n",
       "      <td>Open</td>\n",
       "    </tr>\n",
       "    <tr>\n",
       "      <th>3</th>\n",
       "      <td>14-11-2018 08:46</td>\n",
       "      <td>&lt;NA&gt;</td>\n",
       "      <td>Website</td>\n",
       "      <td>XXXXXXX</td>\n",
       "      <td>wXXXXXXX@gmail.com</td>\n",
       "      <td>Sales-Agent-10</td>\n",
       "      <td>&lt;NA&gt;</td>\n",
       "      <td>Mode-5</td>\n",
       "      <td>Open</td>\n",
       "    </tr>\n",
       "    <tr>\n",
       "      <th>4</th>\n",
       "      <td>14-11-2018 07:34</td>\n",
       "      <td>&lt;NA&gt;</td>\n",
       "      <td>Website</td>\n",
       "      <td>XXXXXXX</td>\n",
       "      <td>cXXXXXXX@gmail.com</td>\n",
       "      <td>Sales-Agent-10</td>\n",
       "      <td>&lt;NA&gt;</td>\n",
       "      <td>Mode-5</td>\n",
       "      <td>Open</td>\n",
       "    </tr>\n",
       "  </tbody>\n",
       "</table>\n",
       "</div>"
      ],
      "text/plain": [
       "            Created Product_ID   Source      Mobile               EMAIL  \\\n",
       "0  14-11-2018 10:05       <NA>  Website  984XXXXXXX  aXXXXXXX@gmail.com   \n",
       "1  14-11-2018 09:22       <NA>  Website     XXXXXXX             #VALUE!   \n",
       "2  14-11-2018 09:21       <NA>  Website     XXXXXXX  dXXXXXXX@yahoo.com   \n",
       "3  14-11-2018 08:46       <NA>  Website     XXXXXXX  wXXXXXXX@gmail.com   \n",
       "4  14-11-2018 07:34       <NA>  Website     XXXXXXX  cXXXXXXX@gmail.com   \n",
       "\n",
       "      Sales_Agent Location Delivery_Mode Status  \n",
       "0  Sales-Agent-11     <NA>        Mode-5   Open  \n",
       "1  Sales-Agent-10     <NA>        Mode-5   Open  \n",
       "2  Sales-Agent-10     <NA>        Mode-5   Open  \n",
       "3  Sales-Agent-10     <NA>        Mode-5   Open  \n",
       "4  Sales-Agent-10     <NA>        Mode-5   Open  "
      ]
     },
     "execution_count": 9,
     "metadata": {},
     "output_type": "execute_result"
    }
   ],
   "source": [
    "data.head()"
   ]
  },
  {
   "cell_type": "code",
   "execution_count": 10,
   "id": "eec5b049",
   "metadata": {},
   "outputs": [
    {
     "data": {
      "text/html": [
       "<div>\n",
       "<style scoped>\n",
       "    .dataframe tbody tr th:only-of-type {\n",
       "        vertical-align: middle;\n",
       "    }\n",
       "\n",
       "    .dataframe tbody tr th {\n",
       "        vertical-align: top;\n",
       "    }\n",
       "\n",
       "    .dataframe thead th {\n",
       "        text-align: right;\n",
       "    }\n",
       "</style>\n",
       "<table border=\"1\" class=\"dataframe\">\n",
       "  <thead>\n",
       "    <tr style=\"text-align: right;\">\n",
       "      <th></th>\n",
       "      <th>Created</th>\n",
       "      <th>Product_ID</th>\n",
       "      <th>Source</th>\n",
       "      <th>Mobile</th>\n",
       "      <th>EMAIL</th>\n",
       "      <th>Sales_Agent</th>\n",
       "      <th>Location</th>\n",
       "      <th>Delivery_Mode</th>\n",
       "      <th>Status</th>\n",
       "    </tr>\n",
       "  </thead>\n",
       "  <tbody>\n",
       "    <tr>\n",
       "      <th>7417</th>\n",
       "      <td>28-04-2018 09:45</td>\n",
       "      <td>9</td>\n",
       "      <td>Call</td>\n",
       "      <td>&lt;NA&gt;</td>\n",
       "      <td>aXXXXXXX@gmail.com</td>\n",
       "      <td>Sales-Agent-6</td>\n",
       "      <td>Mumbai</td>\n",
       "      <td>Mode-4</td>\n",
       "      <td>LOST</td>\n",
       "    </tr>\n",
       "    <tr>\n",
       "      <th>7418</th>\n",
       "      <td>28-04-2018 09:43</td>\n",
       "      <td>15</td>\n",
       "      <td>Call</td>\n",
       "      <td>&lt;NA&gt;</td>\n",
       "      <td>#VALUE!</td>\n",
       "      <td>Sales-Agent-12</td>\n",
       "      <td>Other Locations</td>\n",
       "      <td>Mode-5</td>\n",
       "      <td>LOST</td>\n",
       "    </tr>\n",
       "    <tr>\n",
       "      <th>7419</th>\n",
       "      <td>28-04-2018 09:20</td>\n",
       "      <td>5</td>\n",
       "      <td>Live Chat-Direct</td>\n",
       "      <td>&lt;NA&gt;</td>\n",
       "      <td>sXXXXXXX@gmail.com</td>\n",
       "      <td>Sales-Agent-11</td>\n",
       "      <td>Bangalore</td>\n",
       "      <td>Mode-1</td>\n",
       "      <td>Not Responding</td>\n",
       "    </tr>\n",
       "    <tr>\n",
       "      <th>7420</th>\n",
       "      <td>28-04-2018 08:04</td>\n",
       "      <td>21</td>\n",
       "      <td>CRM form</td>\n",
       "      <td>&lt;NA&gt;</td>\n",
       "      <td>YXXXXXXX@gmail.com</td>\n",
       "      <td>Sales-Agent-4</td>\n",
       "      <td>Other Locations</td>\n",
       "      <td>Mode-1</td>\n",
       "      <td>Just Enquiry</td>\n",
       "    </tr>\n",
       "    <tr>\n",
       "      <th>7421</th>\n",
       "      <td>28-04-2018 07:54</td>\n",
       "      <td>25</td>\n",
       "      <td>Website</td>\n",
       "      <td>&lt;NA&gt;</td>\n",
       "      <td>cXXXXXXX@gmail.com</td>\n",
       "      <td>Sales-Agent-3</td>\n",
       "      <td>Chennai</td>\n",
       "      <td>Mode-1</td>\n",
       "      <td>CONVERTED</td>\n",
       "    </tr>\n",
       "  </tbody>\n",
       "</table>\n",
       "</div>"
      ],
      "text/plain": [
       "               Created Product_ID            Source Mobile  \\\n",
       "7417  28-04-2018 09:45          9              Call   <NA>   \n",
       "7418  28-04-2018 09:43         15              Call   <NA>   \n",
       "7419  28-04-2018 09:20          5  Live Chat-Direct   <NA>   \n",
       "7420  28-04-2018 08:04         21          CRM form   <NA>   \n",
       "7421  28-04-2018 07:54         25           Website   <NA>   \n",
       "\n",
       "                   EMAIL     Sales_Agent         Location Delivery_Mode  \\\n",
       "7417  aXXXXXXX@gmail.com   Sales-Agent-6           Mumbai        Mode-4   \n",
       "7418             #VALUE!  Sales-Agent-12  Other Locations        Mode-5   \n",
       "7419  sXXXXXXX@gmail.com  Sales-Agent-11        Bangalore        Mode-1   \n",
       "7420  YXXXXXXX@gmail.com   Sales-Agent-4  Other Locations        Mode-1   \n",
       "7421  cXXXXXXX@gmail.com   Sales-Agent-3          Chennai        Mode-1   \n",
       "\n",
       "              Status  \n",
       "7417            LOST  \n",
       "7418            LOST  \n",
       "7419  Not Responding  \n",
       "7420    Just Enquiry  \n",
       "7421       CONVERTED  "
      ]
     },
     "execution_count": 10,
     "metadata": {},
     "output_type": "execute_result"
    }
   ],
   "source": [
    "data.tail()"
   ]
  },
  {
   "cell_type": "code",
   "execution_count": 11,
   "id": "a42747bc",
   "metadata": {},
   "outputs": [
    {
     "data": {
      "text/plain": [
       "Index(['Created', 'Product_ID', 'Source', 'Mobile', 'EMAIL', 'Sales_Agent',\n",
       "       'Location', 'Delivery_Mode', 'Status'],\n",
       "      dtype='object')"
      ]
     },
     "execution_count": 11,
     "metadata": {},
     "output_type": "execute_result"
    }
   ],
   "source": [
    "data.columns"
   ]
  },
  {
   "cell_type": "code",
   "execution_count": 12,
   "id": "7bc6d9fc",
   "metadata": {},
   "outputs": [
    {
     "data": {
      "text/plain": [
       "(7422, 9)"
      ]
     },
     "execution_count": 12,
     "metadata": {},
     "output_type": "execute_result"
    }
   ],
   "source": [
    "data.shape"
   ]
  },
  {
   "cell_type": "code",
   "execution_count": 13,
   "id": "efb3b667",
   "metadata": {},
   "outputs": [
    {
     "name": "stdout",
     "output_type": "stream",
     "text": [
      "<class 'pandas.core.frame.DataFrame'>\n",
      "RangeIndex: 7422 entries, 0 to 7421\n",
      "Data columns (total 9 columns):\n",
      " #   Column         Non-Null Count  Dtype \n",
      "---  ------         --------------  ----- \n",
      " 0   Created        7422 non-null   object\n",
      " 1   Product_ID     7364 non-null   object\n",
      " 2   Source         7405 non-null   object\n",
      " 3   Mobile         5612 non-null   object\n",
      " 4   EMAIL          7422 non-null   object\n",
      " 5   Sales_Agent    7399 non-null   object\n",
      " 6   Location       7364 non-null   object\n",
      " 7   Delivery_Mode  7422 non-null   object\n",
      " 8   Status         7422 non-null   object\n",
      "dtypes: object(9)\n",
      "memory usage: 522.0+ KB\n"
     ]
    }
   ],
   "source": [
    "data.info()"
   ]
  },
  {
   "cell_type": "markdown",
   "id": "d8f6fbff",
   "metadata": {},
   "source": [
    "- All features of datatype are object"
   ]
  },
  {
   "cell_type": "code",
   "execution_count": 14,
   "id": "8caf0178",
   "metadata": {},
   "outputs": [
    {
     "data": {
      "text/html": [
       "<div>\n",
       "<style scoped>\n",
       "    .dataframe tbody tr th:only-of-type {\n",
       "        vertical-align: middle;\n",
       "    }\n",
       "\n",
       "    .dataframe tbody tr th {\n",
       "        vertical-align: top;\n",
       "    }\n",
       "\n",
       "    .dataframe thead th {\n",
       "        text-align: right;\n",
       "    }\n",
       "</style>\n",
       "<table border=\"1\" class=\"dataframe\">\n",
       "  <thead>\n",
       "    <tr style=\"text-align: right;\">\n",
       "      <th></th>\n",
       "      <th>Created</th>\n",
       "      <th>Product_ID</th>\n",
       "      <th>Source</th>\n",
       "      <th>Mobile</th>\n",
       "      <th>EMAIL</th>\n",
       "      <th>Sales_Agent</th>\n",
       "      <th>Location</th>\n",
       "      <th>Delivery_Mode</th>\n",
       "      <th>Status</th>\n",
       "    </tr>\n",
       "  </thead>\n",
       "  <tbody>\n",
       "    <tr>\n",
       "      <th>count</th>\n",
       "      <td>7422</td>\n",
       "      <td>7364</td>\n",
       "      <td>7405</td>\n",
       "      <td>5612</td>\n",
       "      <td>7422</td>\n",
       "      <td>7399</td>\n",
       "      <td>7364</td>\n",
       "      <td>7422</td>\n",
       "      <td>7422</td>\n",
       "    </tr>\n",
       "    <tr>\n",
       "      <th>unique</th>\n",
       "      <td>6752</td>\n",
       "      <td>29</td>\n",
       "      <td>25</td>\n",
       "      <td>486</td>\n",
       "      <td>883</td>\n",
       "      <td>12</td>\n",
       "      <td>17</td>\n",
       "      <td>5</td>\n",
       "      <td>11</td>\n",
       "    </tr>\n",
       "    <tr>\n",
       "      <th>top</th>\n",
       "      <td>26-09-2018 11:30</td>\n",
       "      <td>18</td>\n",
       "      <td>Call</td>\n",
       "      <td>XXXXXXX</td>\n",
       "      <td>#VALUE!</td>\n",
       "      <td>Sales-Agent-4</td>\n",
       "      <td>Other Locations</td>\n",
       "      <td>Mode-5</td>\n",
       "      <td>Junk Lead</td>\n",
       "    </tr>\n",
       "    <tr>\n",
       "      <th>freq</th>\n",
       "      <td>4</td>\n",
       "      <td>1711</td>\n",
       "      <td>2547</td>\n",
       "      <td>222</td>\n",
       "      <td>1701</td>\n",
       "      <td>1500</td>\n",
       "      <td>2500</td>\n",
       "      <td>2975</td>\n",
       "      <td>1536</td>\n",
       "    </tr>\n",
       "  </tbody>\n",
       "</table>\n",
       "</div>"
      ],
      "text/plain": [
       "                 Created Product_ID Source   Mobile    EMAIL    Sales_Agent  \\\n",
       "count               7422       7364   7405     5612     7422           7399   \n",
       "unique              6752         29     25      486      883             12   \n",
       "top     26-09-2018 11:30         18   Call  XXXXXXX  #VALUE!  Sales-Agent-4   \n",
       "freq                   4       1711   2547      222     1701           1500   \n",
       "\n",
       "               Location Delivery_Mode     Status  \n",
       "count              7364          7422       7422  \n",
       "unique               17             5         11  \n",
       "top     Other Locations        Mode-5  Junk Lead  \n",
       "freq               2500          2975       1536  "
      ]
     },
     "execution_count": 14,
     "metadata": {},
     "output_type": "execute_result"
    }
   ],
   "source": [
    "data.describe(include = 'O')"
   ]
  },
  {
   "cell_type": "markdown",
   "id": "2723250e",
   "metadata": {},
   "source": [
    "- There is no constant feature in the dataset."
   ]
  },
  {
   "cell_type": "markdown",
   "id": "dcac052a",
   "metadata": {},
   "source": [
    "## Domain Analysis:\n",
    "\n",
    "* SALES EFFECTIVENESS:\n",
    "\n",
    "Sales effectiveness refers to the ability of a company's sales professionals to “win” at each stage of the customer's buying process, and ultimately earn the business on the right terms and in the right timeframe. Improving sales effectiveness is not just a sales function issue; it's a company issue, as it requires deep collaboration between sales and marketing to understand what is working and not working, and continuous improvement of the knowledge, messages, skills, and strategies that sales people apply as they work sales opportunities.\n",
    "\n",
    "Sales effectiveness has historically been used to describe a category of technologies and consulting services aimed at helping companies improve their sales results. \n",
    "\n",
    "* SALES FORCE EFFECTIVENESS:\n",
    "\n",
    "The purpose of sales force effectiveness is to increase company revenues through increased customer acquisition, product/service sales, and up-selling/cross-selling additional products and services. The purpose of sales force effectiveness metrics is \"to measure the performance of a sales force and of individual salespeople.\" \n",
    "\n",
    "\"When analyzing the performance of a salesperson, a number of metrics can be compared. These can reveal more about the salesperson than can be gauged by his or her total sales. When analyzing the performance of a sales team, an increase in revenue-per-rep can indicate improvement in salesforce effectiveness.\"\n",
    "\n",
    "* DISCOVERING BEST PRACTICES:\n",
    "\n",
    "After defining sales effectiveness, identifying the metrics that matter, and assessing their effectiveness, company leaders will likely find that sellers regularly follow inefficient processes without even knowing it. By doing so, sellers end up wasting time and energy on systems and strategies that don’t have high return values, which prevents them from closing deals and winning more sales.\n",
    "\n",
    "Once organizations gain clear measurements of their sales processes, they can ask a few key questions to find out which tasks are most and least effective:\n",
    "\n",
    "What doesn’t work?\n",
    "What works really well?\n",
    "How can what works get even better?\n",
    "By asking and answering these questions, sales leaders can weed out the bad processes and get sellers to focus only on the ones that work best, increasing sales force effectiveness and improving win rates.\n",
    "\n",
    "* HERE COMES MACHINE LEARNING\n",
    "\n",
    "From a machine learning perspective, where you can train ML models on customer attributes, lead origin, and other details available.\n",
    "\n",
    "How do you get the target variable? The status of the lead will help you create the target variable.\n",
    "\n",
    "* TARGET VARIABLE = STATUS\n",
    "\n",
    "In target veriable 11 labels are present (Junk Lead,Not Responding,CONVERTED,Just Enquiry,Potential,Long Term,In Progress Positive,In Progress Negative,LOST,Open,converted )\n",
    "\n",
    "This all labels is tell about the customer lead category [high potential, low potential]\n",
    "\n",
    "1.Created:\n",
    "This is unique feature in data tell about activity related to the selling and no of goods sold in certain date as well as time.\n",
    "\n",
    "2.Product ID:\n",
    "Id of particular product.\n",
    "\n",
    "3.Source:\n",
    "The source contains imformation about the customer systematic search like call, live chats, and campaign.\n",
    "\n",
    "4.Mobile:\n",
    "This is a unique feature contains a Mobile no of customer.\n",
    "\n",
    "5.Email:\n",
    "This also unique feature contains a Email-id of customer.\n",
    "\n",
    "6.Sales Agent:\n",
    "\n",
    "Sales agent is a front line customer service, A person or a company that acts as a sales agent on behalf of the exporting company ( principal ), introducing its products to potential buyers in the external market, in exchange for a commission based on the value of the business deals arranged and paid to the principal.\n",
    "\n",
    "7.Location:\n",
    "The Location of sale field always has the main business address in it and has to be changed manually. \n",
    "This feature contain lots of different location.\n",
    "8.Delivery mode:\n",
    "There are 5 types of Delivery modes are in the dataset.\n",
    "\n",
    "9. Status:\n",
    "This is a target variable tell about the lead category of customer.[high potential, low potential]\n",
    "\n",
    " #### DATA SUMMARY :\n",
    "\n",
    "- The data is supervised and categorical including target veriable.\n",
    "- In this data two features Mobile and Email Id are unique so we will drop those columns.\n",
    "- All feature is contain lots of different label so will compress and merge the labels such that only the main ones were included.\n",
    "- In this data some feature contain blank spaces so we need to replace with NAN values.\n",
    "- No need to handle outliers.\n",
    "- Used encoding technique to handle categorical feature."
   ]
  },
  {
   "cell_type": "markdown",
   "id": "4f96c5fd",
   "metadata": {},
   "source": [
    "# Exploratory Data Analysis\n",
    "\n",
    "## Univariate Analysis\n",
    "\n",
    "### 1. Product ID"
   ]
  },
  {
   "cell_type": "code",
   "execution_count": 15,
   "id": "705a89e4",
   "metadata": {},
   "outputs": [
    {
     "data": {
      "image/png": "[encoded data removed]",
      "text/plain": [
       "<Figure size 1200x700 with 1 Axes>"
      ]
     },
     "metadata": {},
     "output_type": "display_data"
    }
   ],
   "source": [
    "plt.figure(figsize=(12,7))\n",
    "sns.countplot(data.Product_ID)\n",
    "plt.xlabel('Product ID', fontsize = 18)\n",
    "plt.show()"
   ]
  },
  {
   "cell_type": "markdown",
   "id": "5b9243e2",
   "metadata": {},
   "source": [
    "- Observation:\n",
    "Above Plot shows that 9,19,18,15,27,5 these are maximumm sold out products compare to \n",
    "other products."
   ]
  },
  {
   "cell_type": "markdown",
   "id": "8810048d",
   "metadata": {},
   "source": [
    " ### 2. Source "
   ]
  },
  {
   "cell_type": "code",
   "execution_count": 16,
   "id": "aa6700cd",
   "metadata": {},
   "outputs": [
    {
     "data": {
      "image/png": "[encoded data removed]",
      "text/plain": [
       "<Figure size 1200x700 with 1 Axes>"
      ]
     },
     "metadata": {},
     "output_type": "display_data"
    }
   ],
   "source": [
    "plt.figure(figsize=(12,7))\n",
    "sns.countplot(data.Source)\n",
    "plt.xticks(rotation = 90)\n",
    "plt.xlabel('Source', fontsize = 18)\n",
    "plt.show()"
   ]
  },
  {
   "cell_type": "markdown",
   "id": "b662d89f",
   "metadata": {},
   "source": [
    "- Observation:\n",
    "Majority of sales done from source of call, website and live-chat direct compare to other types of sources."
   ]
  },
  {
   "cell_type": "markdown",
   "id": "e6b66bc2",
   "metadata": {},
   "source": [
    "### 3. Sales Agent"
   ]
  },
  {
   "cell_type": "code",
   "execution_count": 17,
   "id": "cfc9b510",
   "metadata": {},
   "outputs": [
    {
     "data": {
      "image/png": "[encoded data removed]",
      "text/plain": [
       "<Figure size 1000x600 with 1 Axes>"
      ]
     },
     "metadata": {},
     "output_type": "display_data"
    }
   ],
   "source": [
    "plt.figure(figsize=(10,6))\n",
    "sns.countplot(data.Sales_Agent)\n",
    "plt.xticks(rotation = 90)\n",
    "plt.xlabel('Sales Agent', fontsize = 18)\n",
    "plt.show()"
   ]
  },
  {
   "cell_type": "markdown",
   "id": "b02c1505",
   "metadata": {},
   "source": [
    "### 4. Location"
   ]
  },
  {
   "cell_type": "code",
   "execution_count": 18,
   "id": "588081b2",
   "metadata": {},
   "outputs": [
    {
     "data": {
      "image/png": "[encoded data removed]",
      "text/plain": [
       "<Figure size 1000x600 with 1 Axes>"
      ]
     },
     "metadata": {},
     "output_type": "display_data"
    }
   ],
   "source": [
    "plt.figure(figsize=(10,6))\n",
    "sns.countplot(data.Location)\n",
    "plt.xticks(rotation = 90)\n",
    "plt.xlabel('Location', fontsize = 18)\n",
    "plt.show()"
   ]
  },
  {
   "cell_type": "markdown",
   "id": "3dd386ae",
   "metadata": {},
   "source": [
    "Observation :\n",
    "1. There are total 17 different locations where company sales its products.\n",
    "2. Other Loactions and Bangalore region has done more sales.\n",
    "3. Chennai has done quite high sales compare to Hydrabad, Delhi and Mumbai.\n",
    "4. Rest of locations has performed poor."
   ]
  },
  {
   "cell_type": "markdown",
   "id": "6ffd6084",
   "metadata": {},
   "source": [
    "### 5. Delivery Mode"
   ]
  },
  {
   "cell_type": "code",
   "execution_count": 19,
   "id": "9269f46b",
   "metadata": {},
   "outputs": [
    {
     "data": {
      "image/png": "[encoded data removed]",
      "text/plain": [
       "<Figure size 1000x600 with 1 Axes>"
      ]
     },
     "metadata": {},
     "output_type": "display_data"
    }
   ],
   "source": [
    "plt.figure(figsize=(10,6))\n",
    "sns.countplot(data.Delivery_Mode)\n",
    "plt.xticks(rotation = 90)\n",
    "plt.xlabel('Delivery Mode', fontsize = 18)\n",
    "plt.show()"
   ]
  },
  {
   "cell_type": "markdown",
   "id": "72a47569",
   "metadata": {},
   "source": [
    "Observation:\n",
    "1. There are 5 types of delivery mode of company products.\n",
    "2. Mode 5 has highest count followed by Mode 1 and Mode 3.\n",
    "3. Mode 4 and Mode 2 used very less times.\n"
   ]
  },
  {
   "cell_type": "markdown",
   "id": "236cb943",
   "metadata": {},
   "source": [
    "### 6. Status"
   ]
  },
  {
   "cell_type": "code",
   "execution_count": 20,
   "id": "fc21751c",
   "metadata": {},
   "outputs": [
    {
     "data": {
      "image/png": "[encoded data removed]",
      "text/plain": [
       "<Figure size 1000x600 with 1 Axes>"
      ]
     },
     "metadata": {},
     "output_type": "display_data"
    }
   ],
   "source": [
    "plt.figure(figsize=(10,6))\n",
    "sns.countplot(data.Status)\n",
    "plt.xticks(rotation = 90)\n",
    "plt.xlabel('Status', fontsize = 18)\n",
    "plt.show()"
   ]
  },
  {
   "cell_type": "markdown",
   "id": "6552b740",
   "metadata": {},
   "source": [
    "Observation:\n",
    "- Above plot shows that there are 11 types of categories of status out of which Junk lead has highest count which means these are low potential customer compare to others. "
   ]
  },
  {
   "cell_type": "markdown",
   "id": "d5674a3e",
   "metadata": {},
   "source": [
    "### 1. Getting the Source call with the Delivery - 5"
   ]
  },
  {
   "cell_type": "code",
   "execution_count": 21,
   "id": "5ae3e582",
   "metadata": {},
   "outputs": [
    {
     "data": {
      "text/html": [
       "<div>\n",
       "<style scoped>\n",
       "    .dataframe tbody tr th:only-of-type {\n",
       "        vertical-align: middle;\n",
       "    }\n",
       "\n",
       "    .dataframe tbody tr th {\n",
       "        vertical-align: top;\n",
       "    }\n",
       "\n",
       "    .dataframe thead th {\n",
       "        text-align: right;\n",
       "    }\n",
       "</style>\n",
       "<table border=\"1\" class=\"dataframe\">\n",
       "  <thead>\n",
       "    <tr style=\"text-align: right;\">\n",
       "      <th></th>\n",
       "      <th>Created</th>\n",
       "      <th>Product_ID</th>\n",
       "      <th>Source</th>\n",
       "      <th>Mobile</th>\n",
       "      <th>EMAIL</th>\n",
       "      <th>Sales_Agent</th>\n",
       "      <th>Location</th>\n",
       "      <th>Delivery_Mode</th>\n",
       "      <th>Status</th>\n",
       "    </tr>\n",
       "  </thead>\n",
       "  <tbody>\n",
       "    <tr>\n",
       "      <th>19</th>\n",
       "      <td>13-11-2018 18:48</td>\n",
       "      <td>19</td>\n",
       "      <td>Call</td>\n",
       "      <td>701XXXXXXX</td>\n",
       "      <td>#VALUE!</td>\n",
       "      <td>Sales-Agent-4</td>\n",
       "      <td>Other Locations</td>\n",
       "      <td>Mode-5</td>\n",
       "      <td>Potential</td>\n",
       "    </tr>\n",
       "    <tr>\n",
       "      <th>28</th>\n",
       "      <td>13-11-2018 16:09</td>\n",
       "      <td>27</td>\n",
       "      <td>Call</td>\n",
       "      <td>994XXXXXXX</td>\n",
       "      <td>mXXXXXXXs@mail.com</td>\n",
       "      <td>Sales-Agent-11</td>\n",
       "      <td>Chennai</td>\n",
       "      <td>Mode-5</td>\n",
       "      <td>In Progress Positive</td>\n",
       "    </tr>\n",
       "    <tr>\n",
       "      <th>40</th>\n",
       "      <td>13-11-2018 12:26</td>\n",
       "      <td>9</td>\n",
       "      <td>Call</td>\n",
       "      <td>992XXXXXXX</td>\n",
       "      <td>gXXXXXXXologies.in</td>\n",
       "      <td>Sales-Agent-4</td>\n",
       "      <td>Chennai</td>\n",
       "      <td>Mode-5</td>\n",
       "      <td>Potential</td>\n",
       "    </tr>\n",
       "    <tr>\n",
       "      <th>43</th>\n",
       "      <td>13-11-2018 11:29</td>\n",
       "      <td>2</td>\n",
       "      <td>Call</td>\n",
       "      <td>894XXXXXXX</td>\n",
       "      <td>#VALUE!</td>\n",
       "      <td>Sales-Agent-9</td>\n",
       "      <td>Other Locations</td>\n",
       "      <td>Mode-5</td>\n",
       "      <td>In Progress Positive</td>\n",
       "    </tr>\n",
       "    <tr>\n",
       "      <th>44</th>\n",
       "      <td>13-11-2018 11:29</td>\n",
       "      <td>9</td>\n",
       "      <td>Call</td>\n",
       "      <td>888XXXXXXX</td>\n",
       "      <td>sXXXXXXXe@live.com</td>\n",
       "      <td>Sales-Agent-11</td>\n",
       "      <td>Bangalore</td>\n",
       "      <td>Mode-5</td>\n",
       "      <td>In Progress Positive</td>\n",
       "    </tr>\n",
       "    <tr>\n",
       "      <th>...</th>\n",
       "      <td>...</td>\n",
       "      <td>...</td>\n",
       "      <td>...</td>\n",
       "      <td>...</td>\n",
       "      <td>...</td>\n",
       "      <td>...</td>\n",
       "      <td>...</td>\n",
       "      <td>...</td>\n",
       "      <td>...</td>\n",
       "    </tr>\n",
       "    <tr>\n",
       "      <th>7374</th>\n",
       "      <td>30-04-2018 10:38</td>\n",
       "      <td>15</td>\n",
       "      <td>Call</td>\n",
       "      <td>&lt;NA&gt;</td>\n",
       "      <td>#VALUE!</td>\n",
       "      <td>Sales-Agent-11</td>\n",
       "      <td>Other Locations</td>\n",
       "      <td>Mode-5</td>\n",
       "      <td>Junk Lead</td>\n",
       "    </tr>\n",
       "    <tr>\n",
       "      <th>7396</th>\n",
       "      <td>28-04-2018 16:12</td>\n",
       "      <td>15</td>\n",
       "      <td>Call</td>\n",
       "      <td>&lt;NA&gt;</td>\n",
       "      <td>#VALUE!</td>\n",
       "      <td>Sales-Agent-7</td>\n",
       "      <td>Other Locations</td>\n",
       "      <td>Mode-5</td>\n",
       "      <td>Junk Lead</td>\n",
       "    </tr>\n",
       "    <tr>\n",
       "      <th>7398</th>\n",
       "      <td>28-04-2018 16:11</td>\n",
       "      <td>15</td>\n",
       "      <td>Call</td>\n",
       "      <td>&lt;NA&gt;</td>\n",
       "      <td>#VALUE!</td>\n",
       "      <td>Sales-Agent-2</td>\n",
       "      <td>Delhi</td>\n",
       "      <td>Mode-5</td>\n",
       "      <td>Junk Lead</td>\n",
       "    </tr>\n",
       "    <tr>\n",
       "      <th>7399</th>\n",
       "      <td>28-04-2018 16:08</td>\n",
       "      <td>15</td>\n",
       "      <td>Call</td>\n",
       "      <td>&lt;NA&gt;</td>\n",
       "      <td>#VALUE!</td>\n",
       "      <td>Sales-Agent-12</td>\n",
       "      <td>Other Locations</td>\n",
       "      <td>Mode-5</td>\n",
       "      <td>In Progress Negative</td>\n",
       "    </tr>\n",
       "    <tr>\n",
       "      <th>7418</th>\n",
       "      <td>28-04-2018 09:43</td>\n",
       "      <td>15</td>\n",
       "      <td>Call</td>\n",
       "      <td>&lt;NA&gt;</td>\n",
       "      <td>#VALUE!</td>\n",
       "      <td>Sales-Agent-12</td>\n",
       "      <td>Other Locations</td>\n",
       "      <td>Mode-5</td>\n",
       "      <td>LOST</td>\n",
       "    </tr>\n",
       "  </tbody>\n",
       "</table>\n",
       "<p>1551 rows × 9 columns</p>\n",
       "</div>"
      ],
      "text/plain": [
       "               Created Product_ID Source      Mobile               EMAIL  \\\n",
       "19    13-11-2018 18:48         19   Call  701XXXXXXX             #VALUE!   \n",
       "28    13-11-2018 16:09         27   Call  994XXXXXXX  mXXXXXXXs@mail.com   \n",
       "40    13-11-2018 12:26          9   Call  992XXXXXXX  gXXXXXXXologies.in   \n",
       "43    13-11-2018 11:29          2   Call  894XXXXXXX             #VALUE!   \n",
       "44    13-11-2018 11:29          9   Call  888XXXXXXX  sXXXXXXXe@live.com   \n",
       "...                ...        ...    ...         ...                 ...   \n",
       "7374  30-04-2018 10:38         15   Call        <NA>             #VALUE!   \n",
       "7396  28-04-2018 16:12         15   Call        <NA>             #VALUE!   \n",
       "7398  28-04-2018 16:11         15   Call        <NA>             #VALUE!   \n",
       "7399  28-04-2018 16:08         15   Call        <NA>             #VALUE!   \n",
       "7418  28-04-2018 09:43         15   Call        <NA>             #VALUE!   \n",
       "\n",
       "         Sales_Agent         Location Delivery_Mode                Status  \n",
       "19     Sales-Agent-4  Other Locations        Mode-5             Potential  \n",
       "28    Sales-Agent-11          Chennai        Mode-5  In Progress Positive  \n",
       "40     Sales-Agent-4          Chennai        Mode-5             Potential  \n",
       "43     Sales-Agent-9  Other Locations        Mode-5  In Progress Positive  \n",
       "44    Sales-Agent-11        Bangalore        Mode-5  In Progress Positive  \n",
       "...              ...              ...           ...                   ...  \n",
       "7374  Sales-Agent-11  Other Locations        Mode-5             Junk Lead  \n",
       "7396   Sales-Agent-7  Other Locations        Mode-5             Junk Lead  \n",
       "7398   Sales-Agent-2            Delhi        Mode-5             Junk Lead  \n",
       "7399  Sales-Agent-12  Other Locations        Mode-5  In Progress Negative  \n",
       "7418  Sales-Agent-12  Other Locations        Mode-5                  LOST  \n",
       "\n",
       "[1551 rows x 9 columns]"
      ]
     },
     "execution_count": 21,
     "metadata": {},
     "output_type": "execute_result"
    }
   ],
   "source": [
    "data.loc[(data.Source == \"Call\") & (data.Delivery_Mode == \"Mode-5\")]"
   ]
  },
  {
   "cell_type": "code",
   "execution_count": 22,
   "id": "34dd7ec2",
   "metadata": {},
   "outputs": [
    {
     "data": {
      "text/plain": [
       "20.89733225545675"
      ]
     },
     "execution_count": 22,
     "metadata": {},
     "output_type": "execute_result"
    }
   ],
   "source": [
    "# Percentqage of source call with delivery mode-5\n",
    "len(data.loc[(data.Source == \"Call\") & (data.Delivery_Mode == \"Mode-5\")])/7422*100"
   ]
  },
  {
   "cell_type": "markdown",
   "id": "f25d1ae1",
   "metadata": {},
   "source": [
    "- Here almost 21% of customer has preferred call with delivery mode-5."
   ]
  },
  {
   "cell_type": "markdown",
   "id": "a52ac1f1",
   "metadata": {},
   "source": [
    "### 2.1 Sales agent 11 with status of potential "
   ]
  },
  {
   "cell_type": "code",
   "execution_count": 23,
   "id": "eadda49b",
   "metadata": {},
   "outputs": [
    {
     "data": {
      "text/html": [
       "<div>\n",
       "<style scoped>\n",
       "    .dataframe tbody tr th:only-of-type {\n",
       "        vertical-align: middle;\n",
       "    }\n",
       "\n",
       "    .dataframe tbody tr th {\n",
       "        vertical-align: top;\n",
       "    }\n",
       "\n",
       "    .dataframe thead th {\n",
       "        text-align: right;\n",
       "    }\n",
       "</style>\n",
       "<table border=\"1\" class=\"dataframe\">\n",
       "  <thead>\n",
       "    <tr style=\"text-align: right;\">\n",
       "      <th></th>\n",
       "      <th>Created</th>\n",
       "      <th>Product_ID</th>\n",
       "      <th>Source</th>\n",
       "      <th>Mobile</th>\n",
       "      <th>EMAIL</th>\n",
       "      <th>Sales_Agent</th>\n",
       "      <th>Location</th>\n",
       "      <th>Delivery_Mode</th>\n",
       "      <th>Status</th>\n",
       "    </tr>\n",
       "  </thead>\n",
       "  <tbody>\n",
       "    <tr>\n",
       "      <th>24</th>\n",
       "      <td>13-11-2018 17:09</td>\n",
       "      <td>18</td>\n",
       "      <td>Website</td>\n",
       "      <td>790XXXXXXX</td>\n",
       "      <td>gXXXXXXX@gmail.com</td>\n",
       "      <td>Sales-Agent-11</td>\n",
       "      <td>Trivandrum</td>\n",
       "      <td>Mode-1</td>\n",
       "      <td>Potential</td>\n",
       "    </tr>\n",
       "    <tr>\n",
       "      <th>32</th>\n",
       "      <td>13-11-2018 15:15</td>\n",
       "      <td>27</td>\n",
       "      <td>Live Chat-Direct</td>\n",
       "      <td>858XXXXXXX</td>\n",
       "      <td>#VALUE!</td>\n",
       "      <td>Sales-Agent-11</td>\n",
       "      <td>Hyderabad</td>\n",
       "      <td>Mode-3</td>\n",
       "      <td>Potential</td>\n",
       "    </tr>\n",
       "    <tr>\n",
       "      <th>35</th>\n",
       "      <td>13-11-2018 13:52</td>\n",
       "      <td>9</td>\n",
       "      <td>Website</td>\n",
       "      <td>900XXXXXXX</td>\n",
       "      <td>sXXXXXXX@gmail.com</td>\n",
       "      <td>Sales-Agent-11</td>\n",
       "      <td>Bangalore</td>\n",
       "      <td>Mode-1</td>\n",
       "      <td>Potential</td>\n",
       "    </tr>\n",
       "    <tr>\n",
       "      <th>51</th>\n",
       "      <td>13-11-2018 11:09</td>\n",
       "      <td>15</td>\n",
       "      <td>Call</td>\n",
       "      <td>994XXXXXXX</td>\n",
       "      <td>#VALUE!</td>\n",
       "      <td>Sales-Agent-11</td>\n",
       "      <td>Other Locations</td>\n",
       "      <td>Mode-5</td>\n",
       "      <td>Potential</td>\n",
       "    </tr>\n",
       "    <tr>\n",
       "      <th>70</th>\n",
       "      <td>12-11-2018 17:23</td>\n",
       "      <td>18</td>\n",
       "      <td>Website</td>\n",
       "      <td>902XXXXXXX</td>\n",
       "      <td>mXXXXXXX@gmail.com</td>\n",
       "      <td>Sales-Agent-11</td>\n",
       "      <td>Chennai</td>\n",
       "      <td>Mode-1</td>\n",
       "      <td>Potential</td>\n",
       "    </tr>\n",
       "    <tr>\n",
       "      <th>...</th>\n",
       "      <td>...</td>\n",
       "      <td>...</td>\n",
       "      <td>...</td>\n",
       "      <td>...</td>\n",
       "      <td>...</td>\n",
       "      <td>...</td>\n",
       "      <td>...</td>\n",
       "      <td>...</td>\n",
       "      <td>...</td>\n",
       "    </tr>\n",
       "    <tr>\n",
       "      <th>5878</th>\n",
       "      <td>05-06-2018 16:32</td>\n",
       "      <td>18</td>\n",
       "      <td>Website</td>\n",
       "      <td>&lt;NA&gt;</td>\n",
       "      <td>mXXXXXXX@gmail.com</td>\n",
       "      <td>Sales-Agent-11</td>\n",
       "      <td>Hyderabad</td>\n",
       "      <td>Mode-1</td>\n",
       "      <td>Potential</td>\n",
       "    </tr>\n",
       "    <tr>\n",
       "      <th>5881</th>\n",
       "      <td>05-06-2018 15:19</td>\n",
       "      <td>10</td>\n",
       "      <td>Website</td>\n",
       "      <td>&lt;NA&gt;</td>\n",
       "      <td>sXXXXXXX@cisco.com</td>\n",
       "      <td>Sales-Agent-11</td>\n",
       "      <td>Delhi</td>\n",
       "      <td>Mode-1</td>\n",
       "      <td>Potential</td>\n",
       "    </tr>\n",
       "    <tr>\n",
       "      <th>6812</th>\n",
       "      <td>13-05-2018 16:20</td>\n",
       "      <td>27</td>\n",
       "      <td>Live Chat-Adwords Remarketing</td>\n",
       "      <td>&lt;NA&gt;</td>\n",
       "      <td>gXXXXXXX@gmail.com</td>\n",
       "      <td>Sales-Agent-11</td>\n",
       "      <td>Chennai</td>\n",
       "      <td>Mode-3</td>\n",
       "      <td>Potential</td>\n",
       "    </tr>\n",
       "    <tr>\n",
       "      <th>6886</th>\n",
       "      <td>10-05-2018 21:30</td>\n",
       "      <td>5</td>\n",
       "      <td>&lt;NA&gt;</td>\n",
       "      <td>&lt;NA&gt;</td>\n",
       "      <td>aXXXXXXX.j@pwc.com</td>\n",
       "      <td>Sales-Agent-11</td>\n",
       "      <td>Other Locations</td>\n",
       "      <td>Mode-1</td>\n",
       "      <td>Potential</td>\n",
       "    </tr>\n",
       "    <tr>\n",
       "      <th>7172</th>\n",
       "      <td>04-05-2018 00:38</td>\n",
       "      <td>5</td>\n",
       "      <td>Website</td>\n",
       "      <td>&lt;NA&gt;</td>\n",
       "      <td>mXXXXXXXotmail.com</td>\n",
       "      <td>Sales-Agent-11</td>\n",
       "      <td>Chennai</td>\n",
       "      <td>Mode-1</td>\n",
       "      <td>Potential</td>\n",
       "    </tr>\n",
       "  </tbody>\n",
       "</table>\n",
       "<p>249 rows × 9 columns</p>\n",
       "</div>"
      ],
      "text/plain": [
       "               Created Product_ID                         Source      Mobile  \\\n",
       "24    13-11-2018 17:09         18                        Website  790XXXXXXX   \n",
       "32    13-11-2018 15:15         27               Live Chat-Direct  858XXXXXXX   \n",
       "35    13-11-2018 13:52          9                        Website  900XXXXXXX   \n",
       "51    13-11-2018 11:09         15                           Call  994XXXXXXX   \n",
       "70    12-11-2018 17:23         18                        Website  902XXXXXXX   \n",
       "...                ...        ...                            ...         ...   \n",
       "5878  05-06-2018 16:32         18                        Website        <NA>   \n",
       "5881  05-06-2018 15:19         10                        Website        <NA>   \n",
       "6812  13-05-2018 16:20         27  Live Chat-Adwords Remarketing        <NA>   \n",
       "6886  10-05-2018 21:30          5                           <NA>        <NA>   \n",
       "7172  04-05-2018 00:38          5                        Website        <NA>   \n",
       "\n",
       "                   EMAIL     Sales_Agent         Location Delivery_Mode  \\\n",
       "24    gXXXXXXX@gmail.com  Sales-Agent-11       Trivandrum        Mode-1   \n",
       "32               #VALUE!  Sales-Agent-11        Hyderabad        Mode-3   \n",
       "35    sXXXXXXX@gmail.com  Sales-Agent-11        Bangalore        Mode-1   \n",
       "51               #VALUE!  Sales-Agent-11  Other Locations        Mode-5   \n",
       "70    mXXXXXXX@gmail.com  Sales-Agent-11          Chennai        Mode-1   \n",
       "...                  ...             ...              ...           ...   \n",
       "5878  mXXXXXXX@gmail.com  Sales-Agent-11        Hyderabad        Mode-1   \n",
       "5881  sXXXXXXX@cisco.com  Sales-Agent-11            Delhi        Mode-1   \n",
       "6812  gXXXXXXX@gmail.com  Sales-Agent-11          Chennai        Mode-3   \n",
       "6886  aXXXXXXX.j@pwc.com  Sales-Agent-11  Other Locations        Mode-1   \n",
       "7172  mXXXXXXXotmail.com  Sales-Agent-11          Chennai        Mode-1   \n",
       "\n",
       "         Status  \n",
       "24    Potential  \n",
       "32    Potential  \n",
       "35    Potential  \n",
       "51    Potential  \n",
       "70    Potential  \n",
       "...         ...  \n",
       "5878  Potential  \n",
       "5881  Potential  \n",
       "6812  Potential  \n",
       "6886  Potential  \n",
       "7172  Potential  \n",
       "\n",
       "[249 rows x 9 columns]"
      ]
     },
     "execution_count": 23,
     "metadata": {},
     "output_type": "execute_result"
    }
   ],
   "source": [
    "data.loc[(data.Sales_Agent == 'Sales-Agent-11') & (data.Status == 'Potential')]"
   ]
  },
  {
   "cell_type": "code",
   "execution_count": 24,
   "id": "6209338e",
   "metadata": {},
   "outputs": [
    {
     "data": {
      "text/plain": [
       "3.354890864995958"
      ]
     },
     "execution_count": 24,
     "metadata": {},
     "output_type": "execute_result"
    }
   ],
   "source": [
    "len(data.loc[(data.Sales_Agent == 'Sales-Agent-11') & (data.Status == 'Potential')])/7422*100"
   ]
  },
  {
   "cell_type": "markdown",
   "id": "9069ad7e",
   "metadata": {},
   "source": [
    "- Sales Agent 11 has only 3% potential customer."
   ]
  },
  {
   "cell_type": "markdown",
   "id": "8832467e",
   "metadata": {},
   "source": [
    "### 2.2 Sales Agent 4 with status Potential"
   ]
  },
  {
   "cell_type": "code",
   "execution_count": 25,
   "id": "e562ba2b",
   "metadata": {},
   "outputs": [
    {
     "data": {
      "text/html": [
       "<div>\n",
       "<style scoped>\n",
       "    .dataframe tbody tr th:only-of-type {\n",
       "        vertical-align: middle;\n",
       "    }\n",
       "\n",
       "    .dataframe tbody tr th {\n",
       "        vertical-align: top;\n",
       "    }\n",
       "\n",
       "    .dataframe thead th {\n",
       "        text-align: right;\n",
       "    }\n",
       "</style>\n",
       "<table border=\"1\" class=\"dataframe\">\n",
       "  <thead>\n",
       "    <tr style=\"text-align: right;\">\n",
       "      <th></th>\n",
       "      <th>Created</th>\n",
       "      <th>Product_ID</th>\n",
       "      <th>Source</th>\n",
       "      <th>Mobile</th>\n",
       "      <th>EMAIL</th>\n",
       "      <th>Sales_Agent</th>\n",
       "      <th>Location</th>\n",
       "      <th>Delivery_Mode</th>\n",
       "      <th>Status</th>\n",
       "    </tr>\n",
       "  </thead>\n",
       "  <tbody>\n",
       "    <tr>\n",
       "      <th>19</th>\n",
       "      <td>13-11-2018 18:48</td>\n",
       "      <td>19</td>\n",
       "      <td>Call</td>\n",
       "      <td>701XXXXXXX</td>\n",
       "      <td>#VALUE!</td>\n",
       "      <td>Sales-Agent-4</td>\n",
       "      <td>Other Locations</td>\n",
       "      <td>Mode-5</td>\n",
       "      <td>Potential</td>\n",
       "    </tr>\n",
       "    <tr>\n",
       "      <th>29</th>\n",
       "      <td>13-11-2018 15:50</td>\n",
       "      <td>19</td>\n",
       "      <td>Live Chat-Direct</td>\n",
       "      <td>+49XXXXXXX</td>\n",
       "      <td>vXXXXXXX@gmail.com</td>\n",
       "      <td>Sales-Agent-4</td>\n",
       "      <td>UK</td>\n",
       "      <td>Mode-2</td>\n",
       "      <td>Potential</td>\n",
       "    </tr>\n",
       "    <tr>\n",
       "      <th>34</th>\n",
       "      <td>13-11-2018 13:53</td>\n",
       "      <td>9</td>\n",
       "      <td>Call</td>\n",
       "      <td>974XXXXXXX</td>\n",
       "      <td>#VALUE!</td>\n",
       "      <td>Sales-Agent-4</td>\n",
       "      <td>Bangalore</td>\n",
       "      <td>Mode-1</td>\n",
       "      <td>Potential</td>\n",
       "    </tr>\n",
       "    <tr>\n",
       "      <th>40</th>\n",
       "      <td>13-11-2018 12:26</td>\n",
       "      <td>9</td>\n",
       "      <td>Call</td>\n",
       "      <td>992XXXXXXX</td>\n",
       "      <td>gXXXXXXXologies.in</td>\n",
       "      <td>Sales-Agent-4</td>\n",
       "      <td>Chennai</td>\n",
       "      <td>Mode-5</td>\n",
       "      <td>Potential</td>\n",
       "    </tr>\n",
       "    <tr>\n",
       "      <th>58</th>\n",
       "      <td>13-11-2018 10:18</td>\n",
       "      <td>27</td>\n",
       "      <td>Website</td>\n",
       "      <td>967XXXXXXX</td>\n",
       "      <td>sXXXXXXX@gmail.com</td>\n",
       "      <td>Sales-Agent-4</td>\n",
       "      <td>Hyderabad</td>\n",
       "      <td>Mode-1</td>\n",
       "      <td>Potential</td>\n",
       "    </tr>\n",
       "    <tr>\n",
       "      <th>...</th>\n",
       "      <td>...</td>\n",
       "      <td>...</td>\n",
       "      <td>...</td>\n",
       "      <td>...</td>\n",
       "      <td>...</td>\n",
       "      <td>...</td>\n",
       "      <td>...</td>\n",
       "      <td>...</td>\n",
       "      <td>...</td>\n",
       "    </tr>\n",
       "    <tr>\n",
       "      <th>7127</th>\n",
       "      <td>04-05-2018 20:10</td>\n",
       "      <td>21</td>\n",
       "      <td>CRM form</td>\n",
       "      <td>&lt;NA&gt;</td>\n",
       "      <td>pXXXXXXX@gmail.com</td>\n",
       "      <td>Sales-Agent-4</td>\n",
       "      <td>Bangalore</td>\n",
       "      <td>Mode-1</td>\n",
       "      <td>Potential</td>\n",
       "    </tr>\n",
       "    <tr>\n",
       "      <th>7163</th>\n",
       "      <td>04-05-2018 09:18</td>\n",
       "      <td>19</td>\n",
       "      <td>Website</td>\n",
       "      <td>&lt;NA&gt;</td>\n",
       "      <td>sXXXXXXX@gmail.com</td>\n",
       "      <td>Sales-Agent-4</td>\n",
       "      <td>Bangalore</td>\n",
       "      <td>Mode-1</td>\n",
       "      <td>Potential</td>\n",
       "    </tr>\n",
       "    <tr>\n",
       "      <th>7237</th>\n",
       "      <td>02-05-2018 15:20</td>\n",
       "      <td>19</td>\n",
       "      <td>CRM form</td>\n",
       "      <td>&lt;NA&gt;</td>\n",
       "      <td>cXXXXXXXffmail.com</td>\n",
       "      <td>Sales-Agent-4</td>\n",
       "      <td>Bangalore</td>\n",
       "      <td>Mode-1</td>\n",
       "      <td>Potential</td>\n",
       "    </tr>\n",
       "    <tr>\n",
       "      <th>7257</th>\n",
       "      <td>02-05-2018 12:25</td>\n",
       "      <td>21</td>\n",
       "      <td>Call</td>\n",
       "      <td>&lt;NA&gt;</td>\n",
       "      <td>nXXXXXXX@gmail.com</td>\n",
       "      <td>Sales-Agent-4</td>\n",
       "      <td>Bangalore</td>\n",
       "      <td>Mode-1</td>\n",
       "      <td>Potential</td>\n",
       "    </tr>\n",
       "    <tr>\n",
       "      <th>7333</th>\n",
       "      <td>30-04-2018 15:56</td>\n",
       "      <td>21</td>\n",
       "      <td>Call</td>\n",
       "      <td>&lt;NA&gt;</td>\n",
       "      <td>aXXXXXXX@gmail.com</td>\n",
       "      <td>Sales-Agent-4</td>\n",
       "      <td>Delhi</td>\n",
       "      <td>Mode-1</td>\n",
       "      <td>Potential</td>\n",
       "    </tr>\n",
       "  </tbody>\n",
       "</table>\n",
       "<p>145 rows × 9 columns</p>\n",
       "</div>"
      ],
      "text/plain": [
       "               Created Product_ID            Source      Mobile  \\\n",
       "19    13-11-2018 18:48         19              Call  701XXXXXXX   \n",
       "29    13-11-2018 15:50         19  Live Chat-Direct  +49XXXXXXX   \n",
       "34    13-11-2018 13:53          9              Call  974XXXXXXX   \n",
       "40    13-11-2018 12:26          9              Call  992XXXXXXX   \n",
       "58    13-11-2018 10:18         27           Website  967XXXXXXX   \n",
       "...                ...        ...               ...         ...   \n",
       "7127  04-05-2018 20:10         21          CRM form        <NA>   \n",
       "7163  04-05-2018 09:18         19           Website        <NA>   \n",
       "7237  02-05-2018 15:20         19          CRM form        <NA>   \n",
       "7257  02-05-2018 12:25         21              Call        <NA>   \n",
       "7333  30-04-2018 15:56         21              Call        <NA>   \n",
       "\n",
       "                   EMAIL    Sales_Agent         Location Delivery_Mode  \\\n",
       "19               #VALUE!  Sales-Agent-4  Other Locations        Mode-5   \n",
       "29    vXXXXXXX@gmail.com  Sales-Agent-4               UK        Mode-2   \n",
       "34               #VALUE!  Sales-Agent-4        Bangalore        Mode-1   \n",
       "40    gXXXXXXXologies.in  Sales-Agent-4          Chennai        Mode-5   \n",
       "58    sXXXXXXX@gmail.com  Sales-Agent-4        Hyderabad        Mode-1   \n",
       "...                  ...            ...              ...           ...   \n",
       "7127  pXXXXXXX@gmail.com  Sales-Agent-4        Bangalore        Mode-1   \n",
       "7163  sXXXXXXX@gmail.com  Sales-Agent-4        Bangalore        Mode-1   \n",
       "7237  cXXXXXXXffmail.com  Sales-Agent-4        Bangalore        Mode-1   \n",
       "7257  nXXXXXXX@gmail.com  Sales-Agent-4        Bangalore        Mode-1   \n",
       "7333  aXXXXXXX@gmail.com  Sales-Agent-4            Delhi        Mode-1   \n",
       "\n",
       "         Status  \n",
       "19    Potential  \n",
       "29    Potential  \n",
       "34    Potential  \n",
       "40    Potential  \n",
       "58    Potential  \n",
       "...         ...  \n",
       "7127  Potential  \n",
       "7163  Potential  \n",
       "7237  Potential  \n",
       "7257  Potential  \n",
       "7333  Potential  \n",
       "\n",
       "[145 rows x 9 columns]"
      ]
     },
     "execution_count": 25,
     "metadata": {},
     "output_type": "execute_result"
    }
   ],
   "source": [
    "data.loc[(data.Sales_Agent == 'Sales-Agent-4') & (data.Status == 'Potential')]"
   ]
  },
  {
   "cell_type": "code",
   "execution_count": 26,
   "id": "01b26967",
   "metadata": {},
   "outputs": [
    {
     "data": {
      "text/plain": [
       "1.953651306925357"
      ]
     },
     "execution_count": 26,
     "metadata": {},
     "output_type": "execute_result"
    }
   ],
   "source": [
    "len(data.loc[(data.Sales_Agent == 'Sales-Agent-4') & (data.Status == 'Potential')])/7422*100"
   ]
  },
  {
   "cell_type": "markdown",
   "id": "d8bcd978",
   "metadata": {},
   "source": [
    "### 3. Junk Lead status customer"
   ]
  },
  {
   "cell_type": "code",
   "execution_count": 27,
   "id": "ce63600f",
   "metadata": {},
   "outputs": [
    {
     "data": {
      "text/html": [
       "<div>\n",
       "<style scoped>\n",
       "    .dataframe tbody tr th:only-of-type {\n",
       "        vertical-align: middle;\n",
       "    }\n",
       "\n",
       "    .dataframe tbody tr th {\n",
       "        vertical-align: top;\n",
       "    }\n",
       "\n",
       "    .dataframe thead th {\n",
       "        text-align: right;\n",
       "    }\n",
       "</style>\n",
       "<table border=\"1\" class=\"dataframe\">\n",
       "  <thead>\n",
       "    <tr style=\"text-align: right;\">\n",
       "      <th></th>\n",
       "      <th>Created</th>\n",
       "      <th>Product_ID</th>\n",
       "      <th>Source</th>\n",
       "      <th>Mobile</th>\n",
       "      <th>EMAIL</th>\n",
       "      <th>Sales_Agent</th>\n",
       "      <th>Location</th>\n",
       "      <th>Delivery_Mode</th>\n",
       "      <th>Status</th>\n",
       "    </tr>\n",
       "  </thead>\n",
       "  <tbody>\n",
       "    <tr>\n",
       "      <th>36</th>\n",
       "      <td>13-11-2018 13:34</td>\n",
       "      <td>19</td>\n",
       "      <td>Website</td>\n",
       "      <td>982XXXXXXX</td>\n",
       "      <td>vXXXXXXX@gmail.com</td>\n",
       "      <td>Sales-Agent-7</td>\n",
       "      <td>Other Locations</td>\n",
       "      <td>Mode-1</td>\n",
       "      <td>Junk Lead</td>\n",
       "    </tr>\n",
       "    <tr>\n",
       "      <th>74</th>\n",
       "      <td>12-11-2018 15:17</td>\n",
       "      <td>15</td>\n",
       "      <td>Call</td>\n",
       "      <td>883XXXXXXX</td>\n",
       "      <td>#VALUE!</td>\n",
       "      <td>Sales-Agent-9</td>\n",
       "      <td>Other Locations</td>\n",
       "      <td>Mode-5</td>\n",
       "      <td>Junk Lead</td>\n",
       "    </tr>\n",
       "    <tr>\n",
       "      <th>76</th>\n",
       "      <td>12-11-2018 15:15</td>\n",
       "      <td>15</td>\n",
       "      <td>Call</td>\n",
       "      <td>886XXXXXXX</td>\n",
       "      <td>#VALUE!</td>\n",
       "      <td>Sales-Agent-11</td>\n",
       "      <td>Other Locations</td>\n",
       "      <td>Mode-5</td>\n",
       "      <td>Junk Lead</td>\n",
       "    </tr>\n",
       "    <tr>\n",
       "      <th>88</th>\n",
       "      <td>12-11-2018 13:16</td>\n",
       "      <td>15</td>\n",
       "      <td>Call</td>\n",
       "      <td>790XXXXXXX</td>\n",
       "      <td>#VALUE!</td>\n",
       "      <td>Sales-Agent-7</td>\n",
       "      <td>Other Locations</td>\n",
       "      <td>Mode-5</td>\n",
       "      <td>Junk Lead</td>\n",
       "    </tr>\n",
       "    <tr>\n",
       "      <th>89</th>\n",
       "      <td>12-11-2018 13:16</td>\n",
       "      <td>15</td>\n",
       "      <td>Call</td>\n",
       "      <td>974XXXXXXX</td>\n",
       "      <td>#VALUE!</td>\n",
       "      <td>Sales-Agent-11</td>\n",
       "      <td>Other Locations</td>\n",
       "      <td>Mode-5</td>\n",
       "      <td>Junk Lead</td>\n",
       "    </tr>\n",
       "    <tr>\n",
       "      <th>...</th>\n",
       "      <td>...</td>\n",
       "      <td>...</td>\n",
       "      <td>...</td>\n",
       "      <td>...</td>\n",
       "      <td>...</td>\n",
       "      <td>...</td>\n",
       "      <td>...</td>\n",
       "      <td>...</td>\n",
       "      <td>...</td>\n",
       "    </tr>\n",
       "    <tr>\n",
       "      <th>7396</th>\n",
       "      <td>28-04-2018 16:12</td>\n",
       "      <td>15</td>\n",
       "      <td>Call</td>\n",
       "      <td>&lt;NA&gt;</td>\n",
       "      <td>#VALUE!</td>\n",
       "      <td>Sales-Agent-7</td>\n",
       "      <td>Other Locations</td>\n",
       "      <td>Mode-5</td>\n",
       "      <td>Junk Lead</td>\n",
       "    </tr>\n",
       "    <tr>\n",
       "      <th>7398</th>\n",
       "      <td>28-04-2018 16:11</td>\n",
       "      <td>15</td>\n",
       "      <td>Call</td>\n",
       "      <td>&lt;NA&gt;</td>\n",
       "      <td>#VALUE!</td>\n",
       "      <td>Sales-Agent-2</td>\n",
       "      <td>Delhi</td>\n",
       "      <td>Mode-5</td>\n",
       "      <td>Junk Lead</td>\n",
       "    </tr>\n",
       "    <tr>\n",
       "      <th>7401</th>\n",
       "      <td>28-04-2018 15:35</td>\n",
       "      <td>18</td>\n",
       "      <td>Live Chat-Blog</td>\n",
       "      <td>&lt;NA&gt;</td>\n",
       "      <td>gXXXXXXX@gmail.com</td>\n",
       "      <td>Sales-Agent-3</td>\n",
       "      <td>Chennai</td>\n",
       "      <td>Mode-1</td>\n",
       "      <td>Junk Lead</td>\n",
       "    </tr>\n",
       "    <tr>\n",
       "      <th>7405</th>\n",
       "      <td>28-04-2018 13:35</td>\n",
       "      <td>18</td>\n",
       "      <td>Live Chat-Direct</td>\n",
       "      <td>&lt;NA&gt;</td>\n",
       "      <td>sXXXXXXX@gmail.com</td>\n",
       "      <td>Sales-Agent-3</td>\n",
       "      <td>Bangalore</td>\n",
       "      <td>Mode-1</td>\n",
       "      <td>Junk Lead</td>\n",
       "    </tr>\n",
       "    <tr>\n",
       "      <th>7416</th>\n",
       "      <td>28-04-2018 10:00</td>\n",
       "      <td>19</td>\n",
       "      <td>Live Chat-Direct</td>\n",
       "      <td>&lt;NA&gt;</td>\n",
       "      <td>uXXXXXXX@gmail.com</td>\n",
       "      <td>Sales-Agent-9</td>\n",
       "      <td>Other Locations</td>\n",
       "      <td>Mode-3</td>\n",
       "      <td>Junk Lead</td>\n",
       "    </tr>\n",
       "  </tbody>\n",
       "</table>\n",
       "<p>1536 rows × 9 columns</p>\n",
       "</div>"
      ],
      "text/plain": [
       "               Created Product_ID            Source      Mobile  \\\n",
       "36    13-11-2018 13:34         19           Website  982XXXXXXX   \n",
       "74    12-11-2018 15:17         15              Call  883XXXXXXX   \n",
       "76    12-11-2018 15:15         15              Call  886XXXXXXX   \n",
       "88    12-11-2018 13:16         15              Call  790XXXXXXX   \n",
       "89    12-11-2018 13:16         15              Call  974XXXXXXX   \n",
       "...                ...        ...               ...         ...   \n",
       "7396  28-04-2018 16:12         15              Call        <NA>   \n",
       "7398  28-04-2018 16:11         15              Call        <NA>   \n",
       "7401  28-04-2018 15:35         18    Live Chat-Blog        <NA>   \n",
       "7405  28-04-2018 13:35         18  Live Chat-Direct        <NA>   \n",
       "7416  28-04-2018 10:00         19  Live Chat-Direct        <NA>   \n",
       "\n",
       "                   EMAIL     Sales_Agent         Location Delivery_Mode  \\\n",
       "36    vXXXXXXX@gmail.com   Sales-Agent-7  Other Locations        Mode-1   \n",
       "74               #VALUE!   Sales-Agent-9  Other Locations        Mode-5   \n",
       "76               #VALUE!  Sales-Agent-11  Other Locations        Mode-5   \n",
       "88               #VALUE!   Sales-Agent-7  Other Locations        Mode-5   \n",
       "89               #VALUE!  Sales-Agent-11  Other Locations        Mode-5   \n",
       "...                  ...             ...              ...           ...   \n",
       "7396             #VALUE!   Sales-Agent-7  Other Locations        Mode-5   \n",
       "7398             #VALUE!   Sales-Agent-2            Delhi        Mode-5   \n",
       "7401  gXXXXXXX@gmail.com   Sales-Agent-3          Chennai        Mode-1   \n",
       "7405  sXXXXXXX@gmail.com   Sales-Agent-3        Bangalore        Mode-1   \n",
       "7416  uXXXXXXX@gmail.com   Sales-Agent-9  Other Locations        Mode-3   \n",
       "\n",
       "         Status  \n",
       "36    Junk Lead  \n",
       "74    Junk Lead  \n",
       "76    Junk Lead  \n",
       "88    Junk Lead  \n",
       "89    Junk Lead  \n",
       "...         ...  \n",
       "7396  Junk Lead  \n",
       "7398  Junk Lead  \n",
       "7401  Junk Lead  \n",
       "7405  Junk Lead  \n",
       "7416  Junk Lead  \n",
       "\n",
       "[1536 rows x 9 columns]"
      ]
     },
     "execution_count": 27,
     "metadata": {},
     "output_type": "execute_result"
    }
   ],
   "source": [
    "data.loc[data['Status'] == 'Junk Lead']"
   ]
  },
  {
   "cell_type": "code",
   "execution_count": 28,
   "id": "1e291cb9",
   "metadata": {},
   "outputs": [
    {
     "data": {
      "text/plain": [
       "20.695230396119644"
      ]
     },
     "execution_count": 28,
     "metadata": {},
     "output_type": "execute_result"
    }
   ],
   "source": [
    "# Percentage\n",
    "len(data.loc[data['Status'] == 'Junk Lead'])/7422*100"
   ]
  },
  {
   "cell_type": "markdown",
   "id": "cba75cf7",
   "metadata": {},
   "source": [
    "- Almost 21% of customer status is junk lead."
   ]
  },
  {
   "cell_type": "markdown",
   "id": "f8266e99",
   "metadata": {},
   "source": [
    "### 4.1 Other Locations "
   ]
  },
  {
   "cell_type": "code",
   "execution_count": 29,
   "id": "d5dfb35e",
   "metadata": {},
   "outputs": [
    {
     "data": {
      "text/html": [
       "<div>\n",
       "<style scoped>\n",
       "    .dataframe tbody tr th:only-of-type {\n",
       "        vertical-align: middle;\n",
       "    }\n",
       "\n",
       "    .dataframe tbody tr th {\n",
       "        vertical-align: top;\n",
       "    }\n",
       "\n",
       "    .dataframe thead th {\n",
       "        text-align: right;\n",
       "    }\n",
       "</style>\n",
       "<table border=\"1\" class=\"dataframe\">\n",
       "  <thead>\n",
       "    <tr style=\"text-align: right;\">\n",
       "      <th></th>\n",
       "      <th>Created</th>\n",
       "      <th>Product_ID</th>\n",
       "      <th>Source</th>\n",
       "      <th>Mobile</th>\n",
       "      <th>EMAIL</th>\n",
       "      <th>Sales_Agent</th>\n",
       "      <th>Location</th>\n",
       "      <th>Delivery_Mode</th>\n",
       "      <th>Status</th>\n",
       "    </tr>\n",
       "  </thead>\n",
       "  <tbody>\n",
       "    <tr>\n",
       "      <th>19</th>\n",
       "      <td>13-11-2018 18:48</td>\n",
       "      <td>19</td>\n",
       "      <td>Call</td>\n",
       "      <td>701XXXXXXX</td>\n",
       "      <td>#VALUE!</td>\n",
       "      <td>Sales-Agent-4</td>\n",
       "      <td>Other Locations</td>\n",
       "      <td>Mode-5</td>\n",
       "      <td>Potential</td>\n",
       "    </tr>\n",
       "    <tr>\n",
       "      <th>27</th>\n",
       "      <td>13-11-2018 16:35</td>\n",
       "      <td>18</td>\n",
       "      <td>Live Chat-Direct</td>\n",
       "      <td>XXXXXXX</td>\n",
       "      <td>nXXXXXXXabirla.com</td>\n",
       "      <td>Sales-Agent-9</td>\n",
       "      <td>Other Locations</td>\n",
       "      <td>Mode-3</td>\n",
       "      <td>Not Responding</td>\n",
       "    </tr>\n",
       "    <tr>\n",
       "      <th>36</th>\n",
       "      <td>13-11-2018 13:34</td>\n",
       "      <td>19</td>\n",
       "      <td>Website</td>\n",
       "      <td>982XXXXXXX</td>\n",
       "      <td>vXXXXXXX@gmail.com</td>\n",
       "      <td>Sales-Agent-7</td>\n",
       "      <td>Other Locations</td>\n",
       "      <td>Mode-1</td>\n",
       "      <td>Junk Lead</td>\n",
       "    </tr>\n",
       "    <tr>\n",
       "      <th>43</th>\n",
       "      <td>13-11-2018 11:29</td>\n",
       "      <td>2</td>\n",
       "      <td>Call</td>\n",
       "      <td>894XXXXXXX</td>\n",
       "      <td>#VALUE!</td>\n",
       "      <td>Sales-Agent-9</td>\n",
       "      <td>Other Locations</td>\n",
       "      <td>Mode-5</td>\n",
       "      <td>In Progress Positive</td>\n",
       "    </tr>\n",
       "    <tr>\n",
       "      <th>45</th>\n",
       "      <td>13-11-2018 11:28</td>\n",
       "      <td>15</td>\n",
       "      <td>Call</td>\n",
       "      <td>986XXXXXXX</td>\n",
       "      <td>#VALUE!</td>\n",
       "      <td>Sales-Agent-11</td>\n",
       "      <td>Other Locations</td>\n",
       "      <td>Mode-5</td>\n",
       "      <td>Not Responding</td>\n",
       "    </tr>\n",
       "    <tr>\n",
       "      <th>...</th>\n",
       "      <td>...</td>\n",
       "      <td>...</td>\n",
       "      <td>...</td>\n",
       "      <td>...</td>\n",
       "      <td>...</td>\n",
       "      <td>...</td>\n",
       "      <td>...</td>\n",
       "      <td>...</td>\n",
       "      <td>...</td>\n",
       "    </tr>\n",
       "    <tr>\n",
       "      <th>7399</th>\n",
       "      <td>28-04-2018 16:08</td>\n",
       "      <td>15</td>\n",
       "      <td>Call</td>\n",
       "      <td>&lt;NA&gt;</td>\n",
       "      <td>#VALUE!</td>\n",
       "      <td>Sales-Agent-12</td>\n",
       "      <td>Other Locations</td>\n",
       "      <td>Mode-5</td>\n",
       "      <td>In Progress Negative</td>\n",
       "    </tr>\n",
       "    <tr>\n",
       "      <th>7402</th>\n",
       "      <td>28-04-2018 14:46</td>\n",
       "      <td>9</td>\n",
       "      <td>Live Chat-Direct</td>\n",
       "      <td>&lt;NA&gt;</td>\n",
       "      <td>rXXXXXXX@gmail.com</td>\n",
       "      <td>Sales-Agent-11</td>\n",
       "      <td>Other Locations</td>\n",
       "      <td>Mode-1</td>\n",
       "      <td>CONVERTED</td>\n",
       "    </tr>\n",
       "    <tr>\n",
       "      <th>7416</th>\n",
       "      <td>28-04-2018 10:00</td>\n",
       "      <td>19</td>\n",
       "      <td>Live Chat-Direct</td>\n",
       "      <td>&lt;NA&gt;</td>\n",
       "      <td>uXXXXXXX@gmail.com</td>\n",
       "      <td>Sales-Agent-9</td>\n",
       "      <td>Other Locations</td>\n",
       "      <td>Mode-3</td>\n",
       "      <td>Junk Lead</td>\n",
       "    </tr>\n",
       "    <tr>\n",
       "      <th>7418</th>\n",
       "      <td>28-04-2018 09:43</td>\n",
       "      <td>15</td>\n",
       "      <td>Call</td>\n",
       "      <td>&lt;NA&gt;</td>\n",
       "      <td>#VALUE!</td>\n",
       "      <td>Sales-Agent-12</td>\n",
       "      <td>Other Locations</td>\n",
       "      <td>Mode-5</td>\n",
       "      <td>LOST</td>\n",
       "    </tr>\n",
       "    <tr>\n",
       "      <th>7420</th>\n",
       "      <td>28-04-2018 08:04</td>\n",
       "      <td>21</td>\n",
       "      <td>CRM form</td>\n",
       "      <td>&lt;NA&gt;</td>\n",
       "      <td>YXXXXXXX@gmail.com</td>\n",
       "      <td>Sales-Agent-4</td>\n",
       "      <td>Other Locations</td>\n",
       "      <td>Mode-1</td>\n",
       "      <td>Just Enquiry</td>\n",
       "    </tr>\n",
       "  </tbody>\n",
       "</table>\n",
       "<p>2500 rows × 9 columns</p>\n",
       "</div>"
      ],
      "text/plain": [
       "               Created Product_ID            Source      Mobile  \\\n",
       "19    13-11-2018 18:48         19              Call  701XXXXXXX   \n",
       "27    13-11-2018 16:35         18  Live Chat-Direct     XXXXXXX   \n",
       "36    13-11-2018 13:34         19           Website  982XXXXXXX   \n",
       "43    13-11-2018 11:29          2              Call  894XXXXXXX   \n",
       "45    13-11-2018 11:28         15              Call  986XXXXXXX   \n",
       "...                ...        ...               ...         ...   \n",
       "7399  28-04-2018 16:08         15              Call        <NA>   \n",
       "7402  28-04-2018 14:46          9  Live Chat-Direct        <NA>   \n",
       "7416  28-04-2018 10:00         19  Live Chat-Direct        <NA>   \n",
       "7418  28-04-2018 09:43         15              Call        <NA>   \n",
       "7420  28-04-2018 08:04         21          CRM form        <NA>   \n",
       "\n",
       "                   EMAIL     Sales_Agent         Location Delivery_Mode  \\\n",
       "19               #VALUE!   Sales-Agent-4  Other Locations        Mode-5   \n",
       "27    nXXXXXXXabirla.com   Sales-Agent-9  Other Locations        Mode-3   \n",
       "36    vXXXXXXX@gmail.com   Sales-Agent-7  Other Locations        Mode-1   \n",
       "43               #VALUE!   Sales-Agent-9  Other Locations        Mode-5   \n",
       "45               #VALUE!  Sales-Agent-11  Other Locations        Mode-5   \n",
       "...                  ...             ...              ...           ...   \n",
       "7399             #VALUE!  Sales-Agent-12  Other Locations        Mode-5   \n",
       "7402  rXXXXXXX@gmail.com  Sales-Agent-11  Other Locations        Mode-1   \n",
       "7416  uXXXXXXX@gmail.com   Sales-Agent-9  Other Locations        Mode-3   \n",
       "7418             #VALUE!  Sales-Agent-12  Other Locations        Mode-5   \n",
       "7420  YXXXXXXX@gmail.com   Sales-Agent-4  Other Locations        Mode-1   \n",
       "\n",
       "                    Status  \n",
       "19               Potential  \n",
       "27          Not Responding  \n",
       "36               Junk Lead  \n",
       "43    In Progress Positive  \n",
       "45          Not Responding  \n",
       "...                    ...  \n",
       "7399  In Progress Negative  \n",
       "7402             CONVERTED  \n",
       "7416             Junk Lead  \n",
       "7418                  LOST  \n",
       "7420          Just Enquiry  \n",
       "\n",
       "[2500 rows x 9 columns]"
      ]
     },
     "execution_count": 29,
     "metadata": {},
     "output_type": "execute_result"
    }
   ],
   "source": [
    "data.loc[data['Location'] == 'Other Locations']"
   ]
  },
  {
   "cell_type": "code",
   "execution_count": 30,
   "id": "f2636df5",
   "metadata": {},
   "outputs": [
    {
     "data": {
      "text/plain": [
       "33.68364322285098"
      ]
     },
     "execution_count": 30,
     "metadata": {},
     "output_type": "execute_result"
    }
   ],
   "source": [
    "# Getting percentage\n",
    "len(data.loc[data['Location'] == 'Other Locations'])/7422*100"
   ]
  },
  {
   "cell_type": "markdown",
   "id": "68ecdc41",
   "metadata": {},
   "source": [
    "- Around 34% customer are from other locations."
   ]
  },
  {
   "cell_type": "markdown",
   "id": "962830cb",
   "metadata": {},
   "source": [
    "### 4.2 Bangalore Location"
   ]
  },
  {
   "cell_type": "code",
   "execution_count": 31,
   "id": "e928bd3f",
   "metadata": {
    "scrolled": true
   },
   "outputs": [
    {
     "data": {
      "text/html": [
       "<div>\n",
       "<style scoped>\n",
       "    .dataframe tbody tr th:only-of-type {\n",
       "        vertical-align: middle;\n",
       "    }\n",
       "\n",
       "    .dataframe tbody tr th {\n",
       "        vertical-align: top;\n",
       "    }\n",
       "\n",
       "    .dataframe thead th {\n",
       "        text-align: right;\n",
       "    }\n",
       "</style>\n",
       "<table border=\"1\" class=\"dataframe\">\n",
       "  <thead>\n",
       "    <tr style=\"text-align: right;\">\n",
       "      <th></th>\n",
       "      <th>Created</th>\n",
       "      <th>Product_ID</th>\n",
       "      <th>Source</th>\n",
       "      <th>Mobile</th>\n",
       "      <th>EMAIL</th>\n",
       "      <th>Sales_Agent</th>\n",
       "      <th>Location</th>\n",
       "      <th>Delivery_Mode</th>\n",
       "      <th>Status</th>\n",
       "    </tr>\n",
       "  </thead>\n",
       "  <tbody>\n",
       "    <tr>\n",
       "      <th>18</th>\n",
       "      <td>13-11-2018 18:51</td>\n",
       "      <td>9</td>\n",
       "      <td>Live Chat-Google Organic</td>\n",
       "      <td>971XXXXXXX</td>\n",
       "      <td>mXXXXXXX@gmail.com</td>\n",
       "      <td>Sales-Agent-3</td>\n",
       "      <td>Bangalore</td>\n",
       "      <td>Mode-1</td>\n",
       "      <td>Potential</td>\n",
       "    </tr>\n",
       "    <tr>\n",
       "      <th>26</th>\n",
       "      <td>13-11-2018 16:37</td>\n",
       "      <td>18</td>\n",
       "      <td>Call</td>\n",
       "      <td>740XXXXXXX</td>\n",
       "      <td>nXXXXXXX@gmail.com</td>\n",
       "      <td>Sales-Agent-7</td>\n",
       "      <td>Bangalore</td>\n",
       "      <td>Mode-1</td>\n",
       "      <td>In Progress Positive</td>\n",
       "    </tr>\n",
       "    <tr>\n",
       "      <th>31</th>\n",
       "      <td>13-11-2018 15:16</td>\n",
       "      <td>18</td>\n",
       "      <td>Call</td>\n",
       "      <td>953XXXXXXX</td>\n",
       "      <td>#VALUE!</td>\n",
       "      <td>Sales-Agent-7</td>\n",
       "      <td>Bangalore</td>\n",
       "      <td>Mode-1</td>\n",
       "      <td>Not Responding</td>\n",
       "    </tr>\n",
       "    <tr>\n",
       "      <th>33</th>\n",
       "      <td>13-11-2018 14:11</td>\n",
       "      <td>9</td>\n",
       "      <td>By Recommendation</td>\n",
       "      <td>974XXXXXXX</td>\n",
       "      <td>cXXXXXXX@gmail.com</td>\n",
       "      <td>Sales-Agent-7</td>\n",
       "      <td>Bangalore</td>\n",
       "      <td>Mode-4</td>\n",
       "      <td>Potential</td>\n",
       "    </tr>\n",
       "    <tr>\n",
       "      <th>34</th>\n",
       "      <td>13-11-2018 13:53</td>\n",
       "      <td>9</td>\n",
       "      <td>Call</td>\n",
       "      <td>974XXXXXXX</td>\n",
       "      <td>#VALUE!</td>\n",
       "      <td>Sales-Agent-4</td>\n",
       "      <td>Bangalore</td>\n",
       "      <td>Mode-1</td>\n",
       "      <td>Potential</td>\n",
       "    </tr>\n",
       "    <tr>\n",
       "      <th>...</th>\n",
       "      <td>...</td>\n",
       "      <td>...</td>\n",
       "      <td>...</td>\n",
       "      <td>...</td>\n",
       "      <td>...</td>\n",
       "      <td>...</td>\n",
       "      <td>...</td>\n",
       "      <td>...</td>\n",
       "      <td>...</td>\n",
       "    </tr>\n",
       "    <tr>\n",
       "      <th>7409</th>\n",
       "      <td>28-04-2018 12:19</td>\n",
       "      <td>19</td>\n",
       "      <td>Call</td>\n",
       "      <td>&lt;NA&gt;</td>\n",
       "      <td>aXXXXXXX@gmail.com</td>\n",
       "      <td>Sales-Agent-2</td>\n",
       "      <td>Bangalore</td>\n",
       "      <td>Mode-4</td>\n",
       "      <td>Long Term</td>\n",
       "    </tr>\n",
       "    <tr>\n",
       "      <th>7410</th>\n",
       "      <td>28-04-2018 11:58</td>\n",
       "      <td>18</td>\n",
       "      <td>Call</td>\n",
       "      <td>&lt;NA&gt;</td>\n",
       "      <td>aXXXXXXX@gmail.com</td>\n",
       "      <td>Sales-Agent-4</td>\n",
       "      <td>Bangalore</td>\n",
       "      <td>Mode-1</td>\n",
       "      <td>CONVERTED</td>\n",
       "    </tr>\n",
       "    <tr>\n",
       "      <th>7412</th>\n",
       "      <td>28-04-2018 11:25</td>\n",
       "      <td>18</td>\n",
       "      <td>Just Dial</td>\n",
       "      <td>&lt;NA&gt;</td>\n",
       "      <td>cXXXXXXX@gmail.com</td>\n",
       "      <td>Sales-Agent-3</td>\n",
       "      <td>Bangalore</td>\n",
       "      <td>Mode-1</td>\n",
       "      <td>Long Term</td>\n",
       "    </tr>\n",
       "    <tr>\n",
       "      <th>7415</th>\n",
       "      <td>28-04-2018 10:50</td>\n",
       "      <td>21</td>\n",
       "      <td>Live Chat-Direct</td>\n",
       "      <td>&lt;NA&gt;</td>\n",
       "      <td>aXXXXXXX@gmail.com</td>\n",
       "      <td>Sales-Agent-4</td>\n",
       "      <td>Bangalore</td>\n",
       "      <td>Mode-1</td>\n",
       "      <td>In Progress Negative</td>\n",
       "    </tr>\n",
       "    <tr>\n",
       "      <th>7419</th>\n",
       "      <td>28-04-2018 09:20</td>\n",
       "      <td>5</td>\n",
       "      <td>Live Chat-Direct</td>\n",
       "      <td>&lt;NA&gt;</td>\n",
       "      <td>sXXXXXXX@gmail.com</td>\n",
       "      <td>Sales-Agent-11</td>\n",
       "      <td>Bangalore</td>\n",
       "      <td>Mode-1</td>\n",
       "      <td>Not Responding</td>\n",
       "    </tr>\n",
       "  </tbody>\n",
       "</table>\n",
       "<p>2084 rows × 9 columns</p>\n",
       "</div>"
      ],
      "text/plain": [
       "               Created Product_ID                    Source      Mobile  \\\n",
       "18    13-11-2018 18:51          9  Live Chat-Google Organic  971XXXXXXX   \n",
       "26    13-11-2018 16:37         18                      Call  740XXXXXXX   \n",
       "31    13-11-2018 15:16         18                      Call  953XXXXXXX   \n",
       "33    13-11-2018 14:11          9         By Recommendation  974XXXXXXX   \n",
       "34    13-11-2018 13:53          9                      Call  974XXXXXXX   \n",
       "...                ...        ...                       ...         ...   \n",
       "7409  28-04-2018 12:19         19                      Call        <NA>   \n",
       "7410  28-04-2018 11:58         18                      Call        <NA>   \n",
       "7412  28-04-2018 11:25         18                 Just Dial        <NA>   \n",
       "7415  28-04-2018 10:50         21          Live Chat-Direct        <NA>   \n",
       "7419  28-04-2018 09:20          5          Live Chat-Direct        <NA>   \n",
       "\n",
       "                   EMAIL     Sales_Agent   Location Delivery_Mode  \\\n",
       "18    mXXXXXXX@gmail.com   Sales-Agent-3  Bangalore        Mode-1   \n",
       "26    nXXXXXXX@gmail.com   Sales-Agent-7  Bangalore        Mode-1   \n",
       "31               #VALUE!   Sales-Agent-7  Bangalore        Mode-1   \n",
       "33    cXXXXXXX@gmail.com   Sales-Agent-7  Bangalore        Mode-4   \n",
       "34               #VALUE!   Sales-Agent-4  Bangalore        Mode-1   \n",
       "...                  ...             ...        ...           ...   \n",
       "7409  aXXXXXXX@gmail.com   Sales-Agent-2  Bangalore        Mode-4   \n",
       "7410  aXXXXXXX@gmail.com   Sales-Agent-4  Bangalore        Mode-1   \n",
       "7412  cXXXXXXX@gmail.com   Sales-Agent-3  Bangalore        Mode-1   \n",
       "7415  aXXXXXXX@gmail.com   Sales-Agent-4  Bangalore        Mode-1   \n",
       "7419  sXXXXXXX@gmail.com  Sales-Agent-11  Bangalore        Mode-1   \n",
       "\n",
       "                    Status  \n",
       "18               Potential  \n",
       "26    In Progress Positive  \n",
       "31          Not Responding  \n",
       "33               Potential  \n",
       "34               Potential  \n",
       "...                    ...  \n",
       "7409             Long Term  \n",
       "7410             CONVERTED  \n",
       "7412             Long Term  \n",
       "7415  In Progress Negative  \n",
       "7419        Not Responding  \n",
       "\n",
       "[2084 rows x 9 columns]"
      ]
     },
     "execution_count": 31,
     "metadata": {},
     "output_type": "execute_result"
    }
   ],
   "source": [
    "data.loc[data['Location'] == 'Bangalore']"
   ]
  },
  {
   "cell_type": "code",
   "execution_count": 32,
   "id": "f1c4cdef",
   "metadata": {},
   "outputs": [
    {
     "data": {
      "text/plain": [
       "28.078684990568583"
      ]
     },
     "execution_count": 32,
     "metadata": {},
     "output_type": "execute_result"
    }
   ],
   "source": [
    "# Getting percentage\n",
    "len(data.loc[data['Location'] == 'Bangalore'])/7422*100"
   ]
  },
  {
   "cell_type": "markdown",
   "id": "6561844e",
   "metadata": {},
   "source": [
    "- 28% of customers from Bangalore location."
   ]
  },
  {
   "cell_type": "markdown",
   "id": "0d8969d2",
   "metadata": {},
   "source": [
    "### 5.1 Maximum Selling Product '18'"
   ]
  },
  {
   "cell_type": "code",
   "execution_count": 33,
   "id": "f4c64ff9",
   "metadata": {},
   "outputs": [
    {
     "data": {
      "text/plain": [
       "23.053085421719214"
      ]
     },
     "execution_count": 33,
     "metadata": {},
     "output_type": "execute_result"
    }
   ],
   "source": [
    "# Get percentage\n",
    "len(data.loc[data['Product_ID'] == '18'])/7422*100"
   ]
  },
  {
   "cell_type": "markdown",
   "id": "2f2056da",
   "metadata": {},
   "source": [
    "- Out of all selling products this 18 no product sales is 23%."
   ]
  },
  {
   "cell_type": "markdown",
   "id": "984ff48c",
   "metadata": {},
   "source": [
    "### 5.2 Maximum Selling Product '15'"
   ]
  },
  {
   "cell_type": "code",
   "execution_count": 34,
   "id": "ecfa412e",
   "metadata": {},
   "outputs": [
    {
     "data": {
      "text/plain": [
       "20.45270816491512"
      ]
     },
     "execution_count": 34,
     "metadata": {},
     "output_type": "execute_result"
    }
   ],
   "source": [
    "# Get percentage\n",
    "len(data.loc[data['Product_ID'] == '15'])/7422*100"
   ]
  },
  {
   "cell_type": "markdown",
   "id": "880da830",
   "metadata": {},
   "source": [
    "- This product no 15 also has 20% sales. "
   ]
  },
  {
   "cell_type": "markdown",
   "id": "a4c442db",
   "metadata": {},
   "source": [
    "## Data Preprocessing/Feature Engineering"
   ]
  },
  {
   "cell_type": "code",
   "execution_count": 35,
   "id": "84c34aef",
   "metadata": {},
   "outputs": [
    {
     "data": {
      "text/plain": [
       "2"
      ]
     },
     "execution_count": 35,
     "metadata": {},
     "output_type": "execute_result"
    }
   ],
   "source": [
    "# Checking for duplicates\n",
    "data.duplicated().sum()"
   ]
  },
  {
   "cell_type": "code",
   "execution_count": 36,
   "id": "3f843a42",
   "metadata": {},
   "outputs": [
    {
     "name": "stdout",
     "output_type": "stream",
     "text": [
      "(7420, 9)\n"
     ]
    }
   ],
   "source": [
    "# Removing duplicate values\n",
    "data = data.drop_duplicates()\n",
    "print(data.shape)"
   ]
  },
  {
   "cell_type": "code",
   "execution_count": 37,
   "id": "7adba0f3",
   "metadata": {
    "scrolled": true
   },
   "outputs": [
    {
     "data": {
      "text/plain": [
       "Created             0\n",
       "Product_ID         56\n",
       "Source             17\n",
       "Mobile           1810\n",
       "EMAIL               0\n",
       "Sales_Agent        23\n",
       "Location           56\n",
       "Delivery_Mode       0\n",
       "Status              0\n",
       "dtype: int64"
      ]
     },
     "execution_count": 37,
     "metadata": {},
     "output_type": "execute_result"
    }
   ],
   "source": [
    "data.isnull().sum()"
   ]
  },
  {
   "cell_type": "markdown",
   "id": "51e5fbb6",
   "metadata": {},
   "source": [
    "Observation: \n",
    "- Total 5 features has missing values out of which excluding Mobile feature we will impute mode for replacing missing values."
   ]
  },
  {
   "cell_type": "code",
   "execution_count": 38,
   "id": "c45ba6de",
   "metadata": {},
   "outputs": [
    {
     "data": {
      "text/plain": [
       "0    18\n",
       "Name: Product_ID, dtype: object"
      ]
     },
     "execution_count": 38,
     "metadata": {},
     "output_type": "execute_result"
    }
   ],
   "source": [
    "# 1.Product ID  \n",
    "data.Product_ID.mode()"
   ]
  },
  {
   "cell_type": "code",
   "execution_count": 39,
   "id": "4d385b46",
   "metadata": {},
   "outputs": [],
   "source": [
    "data.loc[data['Product_ID'].isnull()==True,'Product_ID']= 18"
   ]
  },
  {
   "cell_type": "code",
   "execution_count": 40,
   "id": "d4c9dced",
   "metadata": {},
   "outputs": [
    {
     "data": {
      "text/plain": [
       "0    Call\n",
       "Name: Source, dtype: object"
      ]
     },
     "execution_count": 40,
     "metadata": {},
     "output_type": "execute_result"
    }
   ],
   "source": [
    "# 2.Source\n",
    "data.Source.mode()"
   ]
  },
  {
   "cell_type": "code",
   "execution_count": 41,
   "id": "25b65d96",
   "metadata": {},
   "outputs": [],
   "source": [
    "data.loc[data['Source'].isnull()==True,'Source']= 'Call'"
   ]
  },
  {
   "cell_type": "code",
   "execution_count": 42,
   "id": "f0c37c75",
   "metadata": {},
   "outputs": [
    {
     "data": {
      "text/plain": [
       "0    Sales-Agent-4\n",
       "Name: Sales_Agent, dtype: object"
      ]
     },
     "execution_count": 42,
     "metadata": {},
     "output_type": "execute_result"
    }
   ],
   "source": [
    "# 3.Sales agent \n",
    "data.Sales_Agent.mode()"
   ]
  },
  {
   "cell_type": "code",
   "execution_count": 43,
   "id": "e277ede4",
   "metadata": {},
   "outputs": [],
   "source": [
    "data.loc[data['Sales_Agent'].isnull()==True,'Sales_Agent']= 'Sales-Agent-4'"
   ]
  },
  {
   "cell_type": "code",
   "execution_count": 44,
   "id": "7296b712",
   "metadata": {},
   "outputs": [
    {
     "data": {
      "text/plain": [
       "0    Other Locations\n",
       "Name: Location, dtype: object"
      ]
     },
     "execution_count": 44,
     "metadata": {},
     "output_type": "execute_result"
    }
   ],
   "source": [
    "# 4.Location \n",
    "data.Location.mode()"
   ]
  },
  {
   "cell_type": "code",
   "execution_count": 45,
   "id": "218765a2",
   "metadata": {},
   "outputs": [],
   "source": [
    "data.loc[data['Location'].isnull()==True,'Location']= 'Other Locations'"
   ]
  },
  {
   "cell_type": "code",
   "execution_count": 46,
   "id": "27aea540",
   "metadata": {},
   "outputs": [
    {
     "data": {
      "text/plain": [
       "Created             0\n",
       "Product_ID          0\n",
       "Source              0\n",
       "Mobile           1810\n",
       "EMAIL               0\n",
       "Sales_Agent         0\n",
       "Location            0\n",
       "Delivery_Mode       0\n",
       "Status              0\n",
       "dtype: int64"
      ]
     },
     "execution_count": 46,
     "metadata": {},
     "output_type": "execute_result"
    }
   ],
   "source": [
    "# Checking missing value after imputation\n",
    "data.isnull().sum()"
   ]
  },
  {
   "cell_type": "markdown",
   "id": "d4ee9576",
   "metadata": {},
   "source": [
    "## Let's Check with Created Feature"
   ]
  },
  {
   "cell_type": "code",
   "execution_count": 47,
   "id": "7aae60a1",
   "metadata": {},
   "outputs": [],
   "source": [
    "# Force Typecasting\n",
    "data['Created'] = pd.to_datetime(data['Created'])"
   ]
  },
  {
   "cell_type": "code",
   "execution_count": 48,
   "id": "d4f1865d",
   "metadata": {},
   "outputs": [
    {
     "name": "stdout",
     "output_type": "stream",
     "text": [
      "<class 'pandas.core.frame.DataFrame'>\n",
      "Int64Index: 7420 entries, 0 to 7421\n",
      "Data columns (total 9 columns):\n",
      " #   Column         Non-Null Count  Dtype         \n",
      "---  ------         --------------  -----         \n",
      " 0   Created        7420 non-null   datetime64[ns]\n",
      " 1   Product_ID     7420 non-null   object        \n",
      " 2   Source         7420 non-null   object        \n",
      " 3   Mobile         5610 non-null   object        \n",
      " 4   EMAIL          7420 non-null   object        \n",
      " 5   Sales_Agent    7420 non-null   object        \n",
      " 6   Location       7420 non-null   object        \n",
      " 7   Delivery_Mode  7420 non-null   object        \n",
      " 8   Status         7420 non-null   object        \n",
      "dtypes: datetime64[ns](1), object(8)\n",
      "memory usage: 579.7+ KB\n"
     ]
    }
   ],
   "source": [
    "data.info()"
   ]
  },
  {
   "cell_type": "code",
   "execution_count": 49,
   "id": "8c36b070",
   "metadata": {},
   "outputs": [
    {
     "data": {
      "text/html": [
       "<div>\n",
       "<style scoped>\n",
       "    .dataframe tbody tr th:only-of-type {\n",
       "        vertical-align: middle;\n",
       "    }\n",
       "\n",
       "    .dataframe tbody tr th {\n",
       "        vertical-align: top;\n",
       "    }\n",
       "\n",
       "    .dataframe thead th {\n",
       "        text-align: right;\n",
       "    }\n",
       "</style>\n",
       "<table border=\"1\" class=\"dataframe\">\n",
       "  <thead>\n",
       "    <tr style=\"text-align: right;\">\n",
       "      <th></th>\n",
       "      <th>Created</th>\n",
       "      <th>Product_ID</th>\n",
       "      <th>Source</th>\n",
       "      <th>Mobile</th>\n",
       "      <th>EMAIL</th>\n",
       "      <th>Sales_Agent</th>\n",
       "      <th>Location</th>\n",
       "      <th>Delivery_Mode</th>\n",
       "      <th>Status</th>\n",
       "    </tr>\n",
       "  </thead>\n",
       "  <tbody>\n",
       "    <tr>\n",
       "      <th>0</th>\n",
       "      <td>2018-11-14 10:05:00</td>\n",
       "      <td>18</td>\n",
       "      <td>Website</td>\n",
       "      <td>984XXXXXXX</td>\n",
       "      <td>aXXXXXXX@gmail.com</td>\n",
       "      <td>Sales-Agent-11</td>\n",
       "      <td>Other Locations</td>\n",
       "      <td>Mode-5</td>\n",
       "      <td>Open</td>\n",
       "    </tr>\n",
       "    <tr>\n",
       "      <th>1</th>\n",
       "      <td>2018-11-14 09:22:00</td>\n",
       "      <td>18</td>\n",
       "      <td>Website</td>\n",
       "      <td>XXXXXXX</td>\n",
       "      <td>#VALUE!</td>\n",
       "      <td>Sales-Agent-10</td>\n",
       "      <td>Other Locations</td>\n",
       "      <td>Mode-5</td>\n",
       "      <td>Open</td>\n",
       "    </tr>\n",
       "    <tr>\n",
       "      <th>2</th>\n",
       "      <td>2018-11-14 09:21:00</td>\n",
       "      <td>18</td>\n",
       "      <td>Website</td>\n",
       "      <td>XXXXXXX</td>\n",
       "      <td>dXXXXXXX@yahoo.com</td>\n",
       "      <td>Sales-Agent-10</td>\n",
       "      <td>Other Locations</td>\n",
       "      <td>Mode-5</td>\n",
       "      <td>Open</td>\n",
       "    </tr>\n",
       "    <tr>\n",
       "      <th>3</th>\n",
       "      <td>2018-11-14 08:46:00</td>\n",
       "      <td>18</td>\n",
       "      <td>Website</td>\n",
       "      <td>XXXXXXX</td>\n",
       "      <td>wXXXXXXX@gmail.com</td>\n",
       "      <td>Sales-Agent-10</td>\n",
       "      <td>Other Locations</td>\n",
       "      <td>Mode-5</td>\n",
       "      <td>Open</td>\n",
       "    </tr>\n",
       "    <tr>\n",
       "      <th>4</th>\n",
       "      <td>2018-11-14 07:34:00</td>\n",
       "      <td>18</td>\n",
       "      <td>Website</td>\n",
       "      <td>XXXXXXX</td>\n",
       "      <td>cXXXXXXX@gmail.com</td>\n",
       "      <td>Sales-Agent-10</td>\n",
       "      <td>Other Locations</td>\n",
       "      <td>Mode-5</td>\n",
       "      <td>Open</td>\n",
       "    </tr>\n",
       "  </tbody>\n",
       "</table>\n",
       "</div>"
      ],
      "text/plain": [
       "              Created Product_ID   Source      Mobile               EMAIL  \\\n",
       "0 2018-11-14 10:05:00         18  Website  984XXXXXXX  aXXXXXXX@gmail.com   \n",
       "1 2018-11-14 09:22:00         18  Website     XXXXXXX             #VALUE!   \n",
       "2 2018-11-14 09:21:00         18  Website     XXXXXXX  dXXXXXXX@yahoo.com   \n",
       "3 2018-11-14 08:46:00         18  Website     XXXXXXX  wXXXXXXX@gmail.com   \n",
       "4 2018-11-14 07:34:00         18  Website     XXXXXXX  cXXXXXXX@gmail.com   \n",
       "\n",
       "      Sales_Agent         Location Delivery_Mode Status  \n",
       "0  Sales-Agent-11  Other Locations        Mode-5   Open  \n",
       "1  Sales-Agent-10  Other Locations        Mode-5   Open  \n",
       "2  Sales-Agent-10  Other Locations        Mode-5   Open  \n",
       "3  Sales-Agent-10  Other Locations        Mode-5   Open  \n",
       "4  Sales-Agent-10  Other Locations        Mode-5   Open  "
      ]
     },
     "execution_count": 49,
     "metadata": {},
     "output_type": "execute_result"
    }
   ],
   "source": [
    "data.head()"
   ]
  },
  {
   "cell_type": "code",
   "execution_count": 50,
   "id": "643096c9",
   "metadata": {},
   "outputs": [],
   "source": [
    "# Creating new column from created feature\n",
    "data['Day_Of_Week'] = data['Created'].dt.day_name()"
   ]
  },
  {
   "cell_type": "code",
   "execution_count": 51,
   "id": "ac688e9f",
   "metadata": {},
   "outputs": [
    {
     "data": {
      "text/html": [
       "<div>\n",
       "<style scoped>\n",
       "    .dataframe tbody tr th:only-of-type {\n",
       "        vertical-align: middle;\n",
       "    }\n",
       "\n",
       "    .dataframe tbody tr th {\n",
       "        vertical-align: top;\n",
       "    }\n",
       "\n",
       "    .dataframe thead th {\n",
       "        text-align: right;\n",
       "    }\n",
       "</style>\n",
       "<table border=\"1\" class=\"dataframe\">\n",
       "  <thead>\n",
       "    <tr style=\"text-align: right;\">\n",
       "      <th></th>\n",
       "      <th>Created</th>\n",
       "      <th>Product_ID</th>\n",
       "      <th>Source</th>\n",
       "      <th>Mobile</th>\n",
       "      <th>EMAIL</th>\n",
       "      <th>Sales_Agent</th>\n",
       "      <th>Location</th>\n",
       "      <th>Delivery_Mode</th>\n",
       "      <th>Status</th>\n",
       "      <th>Day_Of_Week</th>\n",
       "    </tr>\n",
       "  </thead>\n",
       "  <tbody>\n",
       "    <tr>\n",
       "      <th>0</th>\n",
       "      <td>2018-11-14 10:05:00</td>\n",
       "      <td>18</td>\n",
       "      <td>Website</td>\n",
       "      <td>984XXXXXXX</td>\n",
       "      <td>aXXXXXXX@gmail.com</td>\n",
       "      <td>Sales-Agent-11</td>\n",
       "      <td>Other Locations</td>\n",
       "      <td>Mode-5</td>\n",
       "      <td>Open</td>\n",
       "      <td>Wednesday</td>\n",
       "    </tr>\n",
       "    <tr>\n",
       "      <th>1</th>\n",
       "      <td>2018-11-14 09:22:00</td>\n",
       "      <td>18</td>\n",
       "      <td>Website</td>\n",
       "      <td>XXXXXXX</td>\n",
       "      <td>#VALUE!</td>\n",
       "      <td>Sales-Agent-10</td>\n",
       "      <td>Other Locations</td>\n",
       "      <td>Mode-5</td>\n",
       "      <td>Open</td>\n",
       "      <td>Wednesday</td>\n",
       "    </tr>\n",
       "    <tr>\n",
       "      <th>2</th>\n",
       "      <td>2018-11-14 09:21:00</td>\n",
       "      <td>18</td>\n",
       "      <td>Website</td>\n",
       "      <td>XXXXXXX</td>\n",
       "      <td>dXXXXXXX@yahoo.com</td>\n",
       "      <td>Sales-Agent-10</td>\n",
       "      <td>Other Locations</td>\n",
       "      <td>Mode-5</td>\n",
       "      <td>Open</td>\n",
       "      <td>Wednesday</td>\n",
       "    </tr>\n",
       "    <tr>\n",
       "      <th>3</th>\n",
       "      <td>2018-11-14 08:46:00</td>\n",
       "      <td>18</td>\n",
       "      <td>Website</td>\n",
       "      <td>XXXXXXX</td>\n",
       "      <td>wXXXXXXX@gmail.com</td>\n",
       "      <td>Sales-Agent-10</td>\n",
       "      <td>Other Locations</td>\n",
       "      <td>Mode-5</td>\n",
       "      <td>Open</td>\n",
       "      <td>Wednesday</td>\n",
       "    </tr>\n",
       "    <tr>\n",
       "      <th>4</th>\n",
       "      <td>2018-11-14 07:34:00</td>\n",
       "      <td>18</td>\n",
       "      <td>Website</td>\n",
       "      <td>XXXXXXX</td>\n",
       "      <td>cXXXXXXX@gmail.com</td>\n",
       "      <td>Sales-Agent-10</td>\n",
       "      <td>Other Locations</td>\n",
       "      <td>Mode-5</td>\n",
       "      <td>Open</td>\n",
       "      <td>Wednesday</td>\n",
       "    </tr>\n",
       "  </tbody>\n",
       "</table>\n",
       "</div>"
      ],
      "text/plain": [
       "              Created Product_ID   Source      Mobile               EMAIL  \\\n",
       "0 2018-11-14 10:05:00         18  Website  984XXXXXXX  aXXXXXXX@gmail.com   \n",
       "1 2018-11-14 09:22:00         18  Website     XXXXXXX             #VALUE!   \n",
       "2 2018-11-14 09:21:00         18  Website     XXXXXXX  dXXXXXXX@yahoo.com   \n",
       "3 2018-11-14 08:46:00         18  Website     XXXXXXX  wXXXXXXX@gmail.com   \n",
       "4 2018-11-14 07:34:00         18  Website     XXXXXXX  cXXXXXXX@gmail.com   \n",
       "\n",
       "      Sales_Agent         Location Delivery_Mode Status Day_Of_Week  \n",
       "0  Sales-Agent-11  Other Locations        Mode-5   Open   Wednesday  \n",
       "1  Sales-Agent-10  Other Locations        Mode-5   Open   Wednesday  \n",
       "2  Sales-Agent-10  Other Locations        Mode-5   Open   Wednesday  \n",
       "3  Sales-Agent-10  Other Locations        Mode-5   Open   Wednesday  \n",
       "4  Sales-Agent-10  Other Locations        Mode-5   Open   Wednesday  "
      ]
     },
     "execution_count": 51,
     "metadata": {},
     "output_type": "execute_result"
    }
   ],
   "source": [
    "data.head()"
   ]
  },
  {
   "cell_type": "code",
   "execution_count": 52,
   "id": "a1f9fd10",
   "metadata": {},
   "outputs": [
    {
     "data": {
      "text/plain": [
       "Timestamp('2018-01-05 01:15:00')"
      ]
     },
     "execution_count": 52,
     "metadata": {},
     "output_type": "execute_result"
    }
   ],
   "source": [
    "# Checking with start date of data\n",
    "data['Created'].min()"
   ]
  },
  {
   "cell_type": "code",
   "execution_count": 53,
   "id": "66765877",
   "metadata": {},
   "outputs": [
    {
     "data": {
      "text/plain": [
       "Timestamp('2018-12-11 22:33:00')"
      ]
     },
     "execution_count": 53,
     "metadata": {},
     "output_type": "execute_result"
    }
   ],
   "source": [
    "# Checking with end date of data \n",
    "data['Created'].max()"
   ]
  },
  {
   "cell_type": "code",
   "execution_count": 54,
   "id": "010b5031",
   "metadata": {},
   "outputs": [
    {
     "data": {
      "text/plain": [
       "Timedelta('340 days 21:18:00')"
      ]
     },
     "execution_count": 54,
     "metadata": {},
     "output_type": "execute_result"
    }
   ],
   "source": [
    "# Days within start and end dates\n",
    "data['Created'].max() - data['Created'].min()"
   ]
  },
  {
   "cell_type": "code",
   "execution_count": 55,
   "id": "b98e9aba",
   "metadata": {},
   "outputs": [
    {
     "data": {
      "text/html": [
       "<div>\n",
       "<style scoped>\n",
       "    .dataframe tbody tr th:only-of-type {\n",
       "        vertical-align: middle;\n",
       "    }\n",
       "\n",
       "    .dataframe tbody tr th {\n",
       "        vertical-align: top;\n",
       "    }\n",
       "\n",
       "    .dataframe thead th {\n",
       "        text-align: right;\n",
       "    }\n",
       "</style>\n",
       "<table border=\"1\" class=\"dataframe\">\n",
       "  <thead>\n",
       "    <tr style=\"text-align: right;\">\n",
       "      <th></th>\n",
       "      <th>Created</th>\n",
       "      <th>Product_ID</th>\n",
       "      <th>Source</th>\n",
       "      <th>Mobile</th>\n",
       "      <th>EMAIL</th>\n",
       "      <th>Sales_Agent</th>\n",
       "      <th>Location</th>\n",
       "      <th>Delivery_Mode</th>\n",
       "      <th>Status</th>\n",
       "      <th>Day_Of_Week</th>\n",
       "      <th>year</th>\n",
       "      <th>month</th>\n",
       "      <th>day</th>\n",
       "    </tr>\n",
       "  </thead>\n",
       "  <tbody>\n",
       "    <tr>\n",
       "      <th>0</th>\n",
       "      <td>2018-11-14 10:05:00</td>\n",
       "      <td>18</td>\n",
       "      <td>Website</td>\n",
       "      <td>984XXXXXXX</td>\n",
       "      <td>aXXXXXXX@gmail.com</td>\n",
       "      <td>Sales-Agent-11</td>\n",
       "      <td>Other Locations</td>\n",
       "      <td>Mode-5</td>\n",
       "      <td>Open</td>\n",
       "      <td>Wednesday</td>\n",
       "      <td>2018</td>\n",
       "      <td>11</td>\n",
       "      <td>14</td>\n",
       "    </tr>\n",
       "    <tr>\n",
       "      <th>1</th>\n",
       "      <td>2018-11-14 09:22:00</td>\n",
       "      <td>18</td>\n",
       "      <td>Website</td>\n",
       "      <td>XXXXXXX</td>\n",
       "      <td>#VALUE!</td>\n",
       "      <td>Sales-Agent-10</td>\n",
       "      <td>Other Locations</td>\n",
       "      <td>Mode-5</td>\n",
       "      <td>Open</td>\n",
       "      <td>Wednesday</td>\n",
       "      <td>2018</td>\n",
       "      <td>11</td>\n",
       "      <td>14</td>\n",
       "    </tr>\n",
       "    <tr>\n",
       "      <th>2</th>\n",
       "      <td>2018-11-14 09:21:00</td>\n",
       "      <td>18</td>\n",
       "      <td>Website</td>\n",
       "      <td>XXXXXXX</td>\n",
       "      <td>dXXXXXXX@yahoo.com</td>\n",
       "      <td>Sales-Agent-10</td>\n",
       "      <td>Other Locations</td>\n",
       "      <td>Mode-5</td>\n",
       "      <td>Open</td>\n",
       "      <td>Wednesday</td>\n",
       "      <td>2018</td>\n",
       "      <td>11</td>\n",
       "      <td>14</td>\n",
       "    </tr>\n",
       "    <tr>\n",
       "      <th>3</th>\n",
       "      <td>2018-11-14 08:46:00</td>\n",
       "      <td>18</td>\n",
       "      <td>Website</td>\n",
       "      <td>XXXXXXX</td>\n",
       "      <td>wXXXXXXX@gmail.com</td>\n",
       "      <td>Sales-Agent-10</td>\n",
       "      <td>Other Locations</td>\n",
       "      <td>Mode-5</td>\n",
       "      <td>Open</td>\n",
       "      <td>Wednesday</td>\n",
       "      <td>2018</td>\n",
       "      <td>11</td>\n",
       "      <td>14</td>\n",
       "    </tr>\n",
       "    <tr>\n",
       "      <th>4</th>\n",
       "      <td>2018-11-14 07:34:00</td>\n",
       "      <td>18</td>\n",
       "      <td>Website</td>\n",
       "      <td>XXXXXXX</td>\n",
       "      <td>cXXXXXXX@gmail.com</td>\n",
       "      <td>Sales-Agent-10</td>\n",
       "      <td>Other Locations</td>\n",
       "      <td>Mode-5</td>\n",
       "      <td>Open</td>\n",
       "      <td>Wednesday</td>\n",
       "      <td>2018</td>\n",
       "      <td>11</td>\n",
       "      <td>14</td>\n",
       "    </tr>\n",
       "  </tbody>\n",
       "</table>\n",
       "</div>"
      ],
      "text/plain": [
       "              Created Product_ID   Source      Mobile               EMAIL  \\\n",
       "0 2018-11-14 10:05:00         18  Website  984XXXXXXX  aXXXXXXX@gmail.com   \n",
       "1 2018-11-14 09:22:00         18  Website     XXXXXXX             #VALUE!   \n",
       "2 2018-11-14 09:21:00         18  Website     XXXXXXX  dXXXXXXX@yahoo.com   \n",
       "3 2018-11-14 08:46:00         18  Website     XXXXXXX  wXXXXXXX@gmail.com   \n",
       "4 2018-11-14 07:34:00         18  Website     XXXXXXX  cXXXXXXX@gmail.com   \n",
       "\n",
       "      Sales_Agent         Location Delivery_Mode Status Day_Of_Week  year  \\\n",
       "0  Sales-Agent-11  Other Locations        Mode-5   Open   Wednesday  2018   \n",
       "1  Sales-Agent-10  Other Locations        Mode-5   Open   Wednesday  2018   \n",
       "2  Sales-Agent-10  Other Locations        Mode-5   Open   Wednesday  2018   \n",
       "3  Sales-Agent-10  Other Locations        Mode-5   Open   Wednesday  2018   \n",
       "4  Sales-Agent-10  Other Locations        Mode-5   Open   Wednesday  2018   \n",
       "\n",
       "   month  day  \n",
       "0     11   14  \n",
       "1     11   14  \n",
       "2     11   14  \n",
       "3     11   14  \n",
       "4     11   14  "
      ]
     },
     "execution_count": 55,
     "metadata": {},
     "output_type": "execute_result"
    }
   ],
   "source": [
    "# Creating year, month and days from this datetime feature\n",
    "data['year'] = data['Created'].dt.year\n",
    "data['month'] = data['Created'].dt.month\n",
    "data['day'] = data['Created'].dt.day\n",
    "data.head()"
   ]
  },
  {
   "cell_type": "code",
   "execution_count": 56,
   "id": "03e8195c",
   "metadata": {},
   "outputs": [
    {
     "data": {
      "text/html": [
       "<div>\n",
       "<style scoped>\n",
       "    .dataframe tbody tr th:only-of-type {\n",
       "        vertical-align: middle;\n",
       "    }\n",
       "\n",
       "    .dataframe tbody tr th {\n",
       "        vertical-align: top;\n",
       "    }\n",
       "\n",
       "    .dataframe thead th {\n",
       "        text-align: right;\n",
       "    }\n",
       "</style>\n",
       "<table border=\"1\" class=\"dataframe\">\n",
       "  <thead>\n",
       "    <tr style=\"text-align: right;\">\n",
       "      <th></th>\n",
       "      <th>Created</th>\n",
       "      <th>Product_ID</th>\n",
       "      <th>Source</th>\n",
       "      <th>Mobile</th>\n",
       "      <th>EMAIL</th>\n",
       "      <th>Sales_Agent</th>\n",
       "      <th>Location</th>\n",
       "      <th>Delivery_Mode</th>\n",
       "      <th>Status</th>\n",
       "      <th>Day_Of_Week</th>\n",
       "      <th>year</th>\n",
       "      <th>month</th>\n",
       "      <th>day</th>\n",
       "      <th>date_is_weekend</th>\n",
       "    </tr>\n",
       "  </thead>\n",
       "  <tbody>\n",
       "    <tr>\n",
       "      <th>0</th>\n",
       "      <td>2018-11-14 10:05:00</td>\n",
       "      <td>18</td>\n",
       "      <td>Website</td>\n",
       "      <td>984XXXXXXX</td>\n",
       "      <td>aXXXXXXX@gmail.com</td>\n",
       "      <td>Sales-Agent-11</td>\n",
       "      <td>Other Locations</td>\n",
       "      <td>Mode-5</td>\n",
       "      <td>Open</td>\n",
       "      <td>Wednesday</td>\n",
       "      <td>2018</td>\n",
       "      <td>11</td>\n",
       "      <td>14</td>\n",
       "      <td>0</td>\n",
       "    </tr>\n",
       "    <tr>\n",
       "      <th>1</th>\n",
       "      <td>2018-11-14 09:22:00</td>\n",
       "      <td>18</td>\n",
       "      <td>Website</td>\n",
       "      <td>XXXXXXX</td>\n",
       "      <td>#VALUE!</td>\n",
       "      <td>Sales-Agent-10</td>\n",
       "      <td>Other Locations</td>\n",
       "      <td>Mode-5</td>\n",
       "      <td>Open</td>\n",
       "      <td>Wednesday</td>\n",
       "      <td>2018</td>\n",
       "      <td>11</td>\n",
       "      <td>14</td>\n",
       "      <td>0</td>\n",
       "    </tr>\n",
       "    <tr>\n",
       "      <th>2</th>\n",
       "      <td>2018-11-14 09:21:00</td>\n",
       "      <td>18</td>\n",
       "      <td>Website</td>\n",
       "      <td>XXXXXXX</td>\n",
       "      <td>dXXXXXXX@yahoo.com</td>\n",
       "      <td>Sales-Agent-10</td>\n",
       "      <td>Other Locations</td>\n",
       "      <td>Mode-5</td>\n",
       "      <td>Open</td>\n",
       "      <td>Wednesday</td>\n",
       "      <td>2018</td>\n",
       "      <td>11</td>\n",
       "      <td>14</td>\n",
       "      <td>0</td>\n",
       "    </tr>\n",
       "    <tr>\n",
       "      <th>3</th>\n",
       "      <td>2018-11-14 08:46:00</td>\n",
       "      <td>18</td>\n",
       "      <td>Website</td>\n",
       "      <td>XXXXXXX</td>\n",
       "      <td>wXXXXXXX@gmail.com</td>\n",
       "      <td>Sales-Agent-10</td>\n",
       "      <td>Other Locations</td>\n",
       "      <td>Mode-5</td>\n",
       "      <td>Open</td>\n",
       "      <td>Wednesday</td>\n",
       "      <td>2018</td>\n",
       "      <td>11</td>\n",
       "      <td>14</td>\n",
       "      <td>0</td>\n",
       "    </tr>\n",
       "    <tr>\n",
       "      <th>4</th>\n",
       "      <td>2018-11-14 07:34:00</td>\n",
       "      <td>18</td>\n",
       "      <td>Website</td>\n",
       "      <td>XXXXXXX</td>\n",
       "      <td>cXXXXXXX@gmail.com</td>\n",
       "      <td>Sales-Agent-10</td>\n",
       "      <td>Other Locations</td>\n",
       "      <td>Mode-5</td>\n",
       "      <td>Open</td>\n",
       "      <td>Wednesday</td>\n",
       "      <td>2018</td>\n",
       "      <td>11</td>\n",
       "      <td>14</td>\n",
       "      <td>0</td>\n",
       "    </tr>\n",
       "  </tbody>\n",
       "</table>\n",
       "</div>"
      ],
      "text/plain": [
       "              Created Product_ID   Source      Mobile               EMAIL  \\\n",
       "0 2018-11-14 10:05:00         18  Website  984XXXXXXX  aXXXXXXX@gmail.com   \n",
       "1 2018-11-14 09:22:00         18  Website     XXXXXXX             #VALUE!   \n",
       "2 2018-11-14 09:21:00         18  Website     XXXXXXX  dXXXXXXX@yahoo.com   \n",
       "3 2018-11-14 08:46:00         18  Website     XXXXXXX  wXXXXXXX@gmail.com   \n",
       "4 2018-11-14 07:34:00         18  Website     XXXXXXX  cXXXXXXX@gmail.com   \n",
       "\n",
       "      Sales_Agent         Location Delivery_Mode Status Day_Of_Week  year  \\\n",
       "0  Sales-Agent-11  Other Locations        Mode-5   Open   Wednesday  2018   \n",
       "1  Sales-Agent-10  Other Locations        Mode-5   Open   Wednesday  2018   \n",
       "2  Sales-Agent-10  Other Locations        Mode-5   Open   Wednesday  2018   \n",
       "3  Sales-Agent-10  Other Locations        Mode-5   Open   Wednesday  2018   \n",
       "4  Sales-Agent-10  Other Locations        Mode-5   Open   Wednesday  2018   \n",
       "\n",
       "   month  day  date_is_weekend  \n",
       "0     11   14                0  \n",
       "1     11   14                0  \n",
       "2     11   14                0  \n",
       "3     11   14                0  \n",
       "4     11   14                0  "
      ]
     },
     "execution_count": 56,
     "metadata": {},
     "output_type": "execute_result"
    }
   ],
   "source": [
    "# Creating another column whether date is weekend\n",
    "data['date_is_weekend'] = np.where(data['Day_Of_Week'].isin(['Saturday','Sunday']),1, 0)\n",
    "data.head()"
   ]
  },
  {
   "cell_type": "code",
   "execution_count": 57,
   "id": "dd752711",
   "metadata": {},
   "outputs": [
    {
     "data": {
      "text/plain": [
       "Day_Of_Week\n",
       "Friday       1076\n",
       "Monday       1474\n",
       "Saturday      797\n",
       "Sunday        598\n",
       "Thursday     1084\n",
       "Tuesday      1191\n",
       "Wednesday    1200\n",
       "dtype: int64"
      ]
     },
     "execution_count": 57,
     "metadata": {},
     "output_type": "execute_result"
    }
   ],
   "source": [
    "data.groupby('Day_Of_Week').size()"
   ]
  },
  {
   "cell_type": "code",
   "execution_count": 58,
   "id": "a0fd740c",
   "metadata": {},
   "outputs": [
    {
     "data": {
      "text/plain": [
       "year\n",
       "2018    7420\n",
       "dtype: int64"
      ]
     },
     "execution_count": 58,
     "metadata": {},
     "output_type": "execute_result"
    }
   ],
   "source": [
    "# This has become a constant feature as only one year in all data \n",
    "data.groupby('year').size()"
   ]
  },
  {
   "cell_type": "code",
   "execution_count": 59,
   "id": "d937f5e4",
   "metadata": {
    "scrolled": true
   },
   "outputs": [
    {
     "data": {
      "text/plain": [
       "month\n",
       "1      226\n",
       "2      295\n",
       "3      255\n",
       "4      370\n",
       "5     1041\n",
       "6     1045\n",
       "7      960\n",
       "8      914\n",
       "9      922\n",
       "10     829\n",
       "11     350\n",
       "12     213\n",
       "dtype: int64"
      ]
     },
     "execution_count": 59,
     "metadata": {},
     "output_type": "execute_result"
    }
   ],
   "source": [
    "# Let's check month size\n",
    "data.groupby('month').size()"
   ]
  },
  {
   "cell_type": "code",
   "execution_count": 60,
   "id": "62a907ae",
   "metadata": {},
   "outputs": [
    {
     "data": {
      "image/png": "[encoded data removed]",
      "text/plain": [
       "<Figure size 1000x600 with 1 Axes>"
      ]
     },
     "metadata": {},
     "output_type": "display_data"
    }
   ],
   "source": [
    "# Let's visualise month wise data \n",
    "plt.figure(figsize=(10,6))\n",
    "sns.countplot(data.month)\n",
    "plt.xticks(rotation = 90)\n",
    "plt.xlabel('Month', fontsize = 18)\n",
    "plt.show()"
   ]
  },
  {
   "cell_type": "markdown",
   "id": "91584198",
   "metadata": {},
   "source": [
    "Observation: \n",
    "- Above plot shows that from 5th month to 10th month there is high count of sales compare to rest of the months.\n",
    "\n",
    "    "
   ]
  },
  {
   "cell_type": "code",
   "execution_count": 61,
   "id": "795b11db",
   "metadata": {
    "scrolled": true
   },
   "outputs": [
    {
     "data": {
      "text/plain": [
       "date_is_weekend\n",
       "0    6025\n",
       "1    1395\n",
       "dtype: int64"
      ]
     },
     "execution_count": 61,
     "metadata": {},
     "output_type": "execute_result"
    }
   ],
   "source": [
    "data.groupby('date_is_weekend').size()"
   ]
  },
  {
   "cell_type": "code",
   "execution_count": 62,
   "id": "33cdc18a",
   "metadata": {},
   "outputs": [
    {
     "data": {
      "text/plain": [
       "day\n",
       "5     478\n",
       "6     499\n",
       "7     450\n",
       "8     437\n",
       "9     453\n",
       "10    402\n",
       "11    320\n",
       "13    275\n",
       "14    242\n",
       "15    191\n",
       "16    221\n",
       "17    222\n",
       "18    253\n",
       "19    192\n",
       "20    205\n",
       "21    214\n",
       "22    248\n",
       "23    265\n",
       "24    203\n",
       "25    259\n",
       "26    215\n",
       "27    209\n",
       "28    221\n",
       "29    267\n",
       "30    296\n",
       "31    183\n",
       "dtype: int64"
      ]
     },
     "execution_count": 62,
     "metadata": {},
     "output_type": "execute_result"
    }
   ],
   "source": [
    "data.groupby('day').size()"
   ]
  },
  {
   "cell_type": "code",
   "execution_count": 63,
   "id": "54a1cd7d",
   "metadata": {},
   "outputs": [
    {
     "data": {
      "image/png": "[encoded data removed]",
      "text/plain": [
       "<Figure size 1000x600 with 1 Axes>"
      ]
     },
     "metadata": {},
     "output_type": "display_data"
    }
   ],
   "source": [
    "# Let's visualise days of every month\n",
    "plt.figure(figsize=(10,6))\n",
    "sns.countplot(data.day)\n",
    "plt.xticks(rotation = 90)\n",
    "plt.xlabel('Day', fontsize = 18)\n",
    "plt.show()"
   ]
  },
  {
   "cell_type": "markdown",
   "id": "04a4eb00",
   "metadata": {},
   "source": [
    "Observation:\n",
    "- Working days starts with 5th of every month and from 5th day to 9th day of every month sales count is actually high."
   ]
  },
  {
   "cell_type": "markdown",
   "id": "8f413071",
   "metadata": {},
   "source": [
    "## Compressing and merging labels"
   ]
  },
  {
   "cell_type": "markdown",
   "id": "a778a2a1",
   "metadata": {},
   "source": [
    "### 1. Product ID"
   ]
  },
  {
   "cell_type": "code",
   "execution_count": 64,
   "id": "6d78ced1",
   "metadata": {},
   "outputs": [],
   "source": [
    "# These 13 product id features has been sold to minimum so we can replace into minimum sold product\n",
    "data.Product_ID.replace(['11','22','3','17','6','8','13','24','16','23','0','28','7','4'],'minimum sold',inplace=True)"
   ]
  },
  {
   "cell_type": "markdown",
   "id": "4f79a863",
   "metadata": {},
   "source": [
    "### 2. Source"
   ]
  },
  {
   "cell_type": "code",
   "execution_count": 65,
   "id": "3b5ec8c6",
   "metadata": {},
   "outputs": [
    {
     "data": {
      "text/plain": [
       "Call                             2564\n",
       "Live Chat-Direct                 1834\n",
       "Website                          1592\n",
       "Live Chat-Google Organic          274\n",
       "Live Chat -PPC                    249\n",
       "Live Chat-Blog                    237\n",
       "Customer Referral                 180\n",
       "US Website                        137\n",
       "Just Dial                          56\n",
       "Existing Client                    51\n",
       "Personal Contact                   50\n",
       "Live Chat-CPC                      50\n",
       "By Recommendation                  32\n",
       "CRM form                           23\n",
       "Existing Customer                  22\n",
       "Live Chat-Google Ads               21\n",
       "Campaign                           19\n",
       "E-mail Campaign                    12\n",
       "Live Chat-Adwords Remarketing       7\n",
       "Live Chat-Quora                     2\n",
       "Other                               2\n",
       "SMS Campaign                        2\n",
       "Live Chat-Youtube                   2\n",
       "E-Mail Message                      1\n",
       "Live Chat-Justdial                  1\n",
       "Name: Source, dtype: int64"
      ]
     },
     "execution_count": 65,
     "metadata": {},
     "output_type": "execute_result"
    }
   ],
   "source": [
    "# Checking the value counts\n",
    "data.Source.value_counts()"
   ]
  },
  {
   "cell_type": "code",
   "execution_count": 66,
   "id": "92246761",
   "metadata": {},
   "outputs": [],
   "source": [
    "# This feature contains total 25 labels in that synthetic search/inquery of customer in different category\n",
    "# so by making groups and putting them in one group of similar labels as [(Live ChatDirect,Live ChatGoogle Organic,Live Chat PPC)--> live chats]\n",
    "\n",
    "# 1st group - Live chat\n",
    "data.Source.replace(['Live Chat-Direct','Live Chat-Google Organic','Live Chat -PPC','Live Chat-Blog','Live Chat-CPC',\n",
    "                    'Live Chat-Google Ads','Live Chat-Adwords Remarketing','Live Chat-Quora','Live Chat-Youtube',\n",
    "                    'Live Chat-Justdial'],'live chat',inplace=True)\n",
    "\n",
    "# 2nd group - new client\n",
    "data.Source.replace(['Existing Client','Personal Contact','CRM form','Existing Customer'],'new client',inplace=True)\n",
    "\n",
    "# 3rd group - website\n",
    "data.Source.replace(['US Website','Just Dial'],'social',inplace=True)\n",
    "\n",
    "# 4th group - recommendation\n",
    "data.Source.replace(['Customer Referral','By Recommendation'],'recommendation',inplace=True)\n",
    "\n",
    "# 5th group - campaign\n",
    "data.Source.replace(['Campaign','E-mail Campaign','SMS Campaign','E-Mail Message'],'campaign',inplace=True)\n"
   ]
  },
  {
   "cell_type": "code",
   "execution_count": 67,
   "id": "49c19a4b",
   "metadata": {
    "scrolled": true
   },
   "outputs": [
    {
     "data": {
      "text/plain": [
       "live chat         2677\n",
       "Call              2564\n",
       "Website           1592\n",
       "recommendation     212\n",
       "social             193\n",
       "new client         146\n",
       "campaign            34\n",
       "Other                2\n",
       "Name: Source, dtype: int64"
      ]
     },
     "execution_count": 67,
     "metadata": {},
     "output_type": "execute_result"
    }
   ],
   "source": [
    "# After grouping checking the value counts\n",
    "data.Source.value_counts()"
   ]
  },
  {
   "cell_type": "markdown",
   "id": "ee8695b9",
   "metadata": {},
   "source": [
    "### 3. Location"
   ]
  },
  {
   "cell_type": "code",
   "execution_count": 68,
   "id": "2d1690d2",
   "metadata": {},
   "outputs": [
    {
     "data": {
      "text/plain": [
       "Other Locations    2556\n",
       "Bangalore          2084\n",
       "Chennai             909\n",
       "Hyderabad           528\n",
       "Delhi               471\n",
       "Mumbai              402\n",
       "Pune                142\n",
       "UAE                  79\n",
       "Trivandrum           58\n",
       "Kolkata              55\n",
       "USA                  45\n",
       "UK                   41\n",
       "AUSTRALIA            25\n",
       "Singapore            17\n",
       "Malaysia              4\n",
       "EUROPE                3\n",
       "Howrah                1\n",
       "Name: Location, dtype: int64"
      ]
     },
     "execution_count": 68,
     "metadata": {},
     "output_type": "execute_result"
    }
   ],
   "source": [
    "# Checking the value counts\n",
    "data.Location.value_counts()"
   ]
  },
  {
   "cell_type": "code",
   "execution_count": 69,
   "id": "4114f20d",
   "metadata": {},
   "outputs": [],
   "source": [
    "# This feature all country city location include so we are merge into different group\n",
    "\n",
    "# 1st group\n",
    "data.Location.replace(['Trivandrum','Kolkata','Howrah'],'Other Locations',inplace=True)\n",
    "\n",
    "# 2nd group \n",
    "data.Location.replace(['UAE','Malaysia','Singapore'],'asia',inplace=True)\n",
    "\n",
    "# 3rd group \n",
    "data.Location.replace(['USA','UK','AUSTRALIA','EUROPE'],'west country',inplace=True)"
   ]
  },
  {
   "cell_type": "code",
   "execution_count": 70,
   "id": "da687f0c",
   "metadata": {},
   "outputs": [
    {
     "data": {
      "text/plain": [
       "Other Locations    2670\n",
       "Bangalore          2084\n",
       "Chennai             909\n",
       "Hyderabad           528\n",
       "Delhi               471\n",
       "Mumbai              402\n",
       "Pune                142\n",
       "west country        114\n",
       "asia                100\n",
       "Name: Location, dtype: int64"
      ]
     },
     "execution_count": 70,
     "metadata": {},
     "output_type": "execute_result"
    }
   ],
   "source": [
    "# After grouping checking value counts\n",
    "data.Location.value_counts()"
   ]
  },
  {
   "cell_type": "markdown",
   "id": "c55482ea",
   "metadata": {},
   "source": [
    "### 4. Status"
   ]
  },
  {
   "cell_type": "code",
   "execution_count": 71,
   "id": "06dcf28a",
   "metadata": {},
   "outputs": [
    {
     "data": {
      "text/plain": [
       "Junk Lead               1536\n",
       "Not Responding          1129\n",
       "CONVERTED                834\n",
       "Just Enquiry             760\n",
       "Potential                708\n",
       "Long Term                646\n",
       "In Progress Positive     643\n",
       "In Progress Negative     626\n",
       "LOST                     440\n",
       "Open                      80\n",
       "converted                 18\n",
       "Name: Status, dtype: int64"
      ]
     },
     "execution_count": 71,
     "metadata": {},
     "output_type": "execute_result"
    }
   ],
   "source": [
    "# Checking for value counts\n",
    "data.Status.value_counts()"
   ]
  },
  {
   "cell_type": "code",
   "execution_count": 72,
   "id": "31b0c8f2",
   "metadata": {},
   "outputs": [],
   "source": [
    "# This is a target variable, after seprating the label & we are making two groups like high potential and low potential\n",
    "\n",
    "# 1st group - low potential\n",
    "data.Status.replace(['Junk Lead','Not Responding','In Progress Negative','Just Enquiry','LOST'],'low potential',inplace=True)\n",
    "\n",
    "# 2nd group - high potential\n",
    "data.Status.replace(['CONVERTED','Potential','Long Term','In Progress Positive','Open','converted'],'high potential',inplace=True)"
   ]
  },
  {
   "cell_type": "code",
   "execution_count": 73,
   "id": "8b85c801",
   "metadata": {},
   "outputs": [
    {
     "data": {
      "text/plain": [
       "low potential     4491\n",
       "high potential    2929\n",
       "Name: Status, dtype: int64"
      ]
     },
     "execution_count": 73,
     "metadata": {},
     "output_type": "execute_result"
    }
   ],
   "source": [
    "# After grouping checking value counts\n",
    "data.Status.value_counts()"
   ]
  },
  {
   "cell_type": "code",
   "execution_count": 74,
   "id": "c86cafbf",
   "metadata": {},
   "outputs": [
    {
     "data": {
      "image/png": "[encoded data removed]",
      "text/plain": [
       "<Figure size 640x480 with 1 Axes>"
      ]
     },
     "metadata": {},
     "output_type": "display_data"
    }
   ],
   "source": [
    "# Let's visualise target variable\n",
    "sns.countplot(data['Status'])\n",
    "plt.show()"
   ]
  },
  {
   "cell_type": "markdown",
   "id": "2e77cecf",
   "metadata": {},
   "source": [
    "Observation:\n",
    "- The above plot shows that the dataset is imbalanced."
   ]
  },
  {
   "cell_type": "markdown",
   "id": "04f7f2d1",
   "metadata": {},
   "source": [
    "## Let's check monthwise relation with target variable"
   ]
  },
  {
   "cell_type": "code",
   "execution_count": 75,
   "id": "7b5bb297",
   "metadata": {},
   "outputs": [
    {
     "data": {
      "image/png": "[encoded data removed]",
      "text/plain": [
       "<Figure size 640x480 with 1 Axes>"
      ]
     },
     "metadata": {},
     "output_type": "display_data"
    }
   ],
   "source": [
    "sns.countplot(x = 'month', hue = 'Status', data = data)\n",
    "plt.show()"
   ]
  },
  {
   "cell_type": "markdown",
   "id": "8bd4ef73",
   "metadata": {},
   "source": [
    "Observation:\n",
    "- There is a significant increase in both type of potentials in a range of 5th to 10th month. Where low potential is high.\n",
    "- But overall if we compare the high potential count is also high with rest of the months which we can take it in a positive way according to sales of a company."
   ]
  },
  {
   "cell_type": "markdown",
   "id": "93513151",
   "metadata": {},
   "source": [
    "## Let's check relation with date is weekend and target variable"
   ]
  },
  {
   "cell_type": "code",
   "execution_count": 76,
   "id": "13e2e130",
   "metadata": {},
   "outputs": [
    {
     "data": {
      "image/png": "[encoded data removed]",
      "text/plain": [
       "<Figure size 640x480 with 1 Axes>"
      ]
     },
     "metadata": {},
     "output_type": "display_data"
    }
   ],
   "source": [
    "sns.countplot(x = 'date_is_weekend', hue = 'Status', data = data)\n",
    "plt.show()"
   ]
  },
  {
   "cell_type": "markdown",
   "id": "56822a62",
   "metadata": {},
   "source": [
    "Observation:\n",
    "- The overall sales of company achives on week days. weekend sale is very less."
   ]
  },
  {
   "cell_type": "markdown",
   "id": "d1c3d4f1",
   "metadata": {},
   "source": [
    "## 3. Categorical Data Conversion"
   ]
  },
  {
   "cell_type": "code",
   "execution_count": 77,
   "id": "15fbb547",
   "metadata": {},
   "outputs": [],
   "source": [
    "# Frequency Encoding\n",
    "# 1. Product_ID\n",
    "\n",
    "data.loc[data['Product_ID']=='minimum sold', 'Product_ID'] = 0"
   ]
  },
  {
   "cell_type": "code",
   "execution_count": 78,
   "id": "22be003a",
   "metadata": {},
   "outputs": [],
   "source": [
    "# 2.Source\n",
    "\n",
    "data.loc[data['Source']=='live chat','Source']=7\n",
    "data.loc[data['Source']=='Call','Source']=6\n",
    "data.loc[data['Source']=='Website','Source']=5\n",
    "data.loc[data['Source']=='recommendation','Source']=4\n",
    "data.loc[data['Source']=='social','Source']=3\n",
    "data.loc[data['Source']=='new client','Source']=2\n",
    "data.loc[data['Source']=='campaign','Source']=1\n",
    "data.loc[data['Source']=='Other','Source']=0"
   ]
  },
  {
   "cell_type": "code",
   "execution_count": 79,
   "id": "08786539",
   "metadata": {},
   "outputs": [],
   "source": [
    "# 3.Sales Agent\n",
    "\n",
    "data.loc[data['Sales_Agent']=='Sales-Agent-4','Sales_Agent']=11\n",
    "data.loc[data['Sales_Agent']=='Sales-Agent-11','Sales_Agent']=10\n",
    "data.loc[data['Sales_Agent']=='Sales-Agent-5','Sales_Agent']=9\n",
    "data.loc[data['Sales_Agent']=='Sales-Agent-9','Sales_Agent']=8\n",
    "data.loc[data['Sales_Agent']=='Sales-Agent-3','Sales_Agent']=7\n",
    "data.loc[data['Sales_Agent']=='Sales-Agent-7','Sales_Agent']=6\n",
    "data.loc[data['Sales_Agent']=='Sales-Agent-2','Sales_Agent']=5\n",
    "data.loc[data['Sales_Agent']=='Sales-Agent-12','Sales_Agent']=4\n",
    "data.loc[data['Sales_Agent']=='Sales-Agent-6','Sales_Agent']=3\n",
    "data.loc[data['Sales_Agent']=='Sales-Agent-8','Sales_Agent']=2\n",
    "data.loc[data['Sales_Agent']=='Sales-Agent-10','Sales_Agent']=1\n",
    "data.loc[data['Sales_Agent']=='Sales-Agent-1','Sales_Agent']=0"
   ]
  },
  {
   "cell_type": "code",
   "execution_count": 80,
   "id": "28c0c827",
   "metadata": {},
   "outputs": [],
   "source": [
    "# 4.Location \n",
    "\n",
    "data.loc[data['Location']=='Other Locations','Location']=8\n",
    "data.loc[data['Location']=='Bangalore','Location']=7\n",
    "data.loc[data['Location']=='Chennai','Location']=6\n",
    "data.loc[data['Location']=='Hyderabad','Location']=5\n",
    "data.loc[data['Location']=='Delhi','Location']=4\n",
    "data.loc[data['Location']=='Mumbai','Location']=3\n",
    "data.loc[data['Location']=='Pune','Location']=2\n",
    "data.loc[data['Location']=='west country','Location']=1\n",
    "data.loc[data['Location']=='asia','Location']=0"
   ]
  },
  {
   "cell_type": "code",
   "execution_count": 81,
   "id": "cd176f7e",
   "metadata": {},
   "outputs": [],
   "source": [
    "# 5. Delivery_Mode\n",
    "\n",
    "data.loc[data['Delivery_Mode'] == 'Mode-5','Delivery_Mode']=4\n",
    "data.loc[data['Delivery_Mode'] == 'Mode-1','Delivery_Mode']=3\n",
    "data.loc[data['Delivery_Mode'] == 'Mode-3','Delivery_Mode']=2\n",
    "data.loc[data['Delivery_Mode'] == 'Mode-4','Delivery_Mode']=1\n",
    "data.loc[data['Delivery_Mode'] == 'Mode-2','Delivery_Mode']=0"
   ]
  },
  {
   "cell_type": "code",
   "execution_count": 82,
   "id": "691ed4f7",
   "metadata": {},
   "outputs": [],
   "source": [
    "# 6. Day_Of_week\n",
    "\n",
    "data.loc[data['Day_Of_Week'] == 'Monday', 'Day_Of_Week'] = 0\n",
    "data.loc[data['Day_Of_Week'] == 'Tuesday', 'Day_Of_Week'] = 1\n",
    "data.loc[data['Day_Of_Week'] == 'Wednesday', 'Day_Of_Week'] = 2\n",
    "data.loc[data['Day_Of_Week'] == 'Thursday', 'Day_Of_Week'] = 3\n",
    "data.loc[data['Day_Of_Week'] == 'Friday', 'Day_Of_Week'] = 4\n",
    "data.loc[data['Day_Of_Week'] == 'Saturday', 'Day_Of_Week'] = 5\n",
    "data.loc[data['Day_Of_Week'] == 'Sunday', 'Day_Of_Week'] = 6"
   ]
  },
  {
   "cell_type": "code",
   "execution_count": 83,
   "id": "0fed472e",
   "metadata": {},
   "outputs": [],
   "source": [
    "# 7. Status\n",
    "\n",
    "data.loc[data['Status']=='low potential','Status']=1\n",
    "data.loc[data['Status']=='high potential','Status']=0"
   ]
  },
  {
   "cell_type": "code",
   "execution_count": 84,
   "id": "792fef5b",
   "metadata": {},
   "outputs": [
    {
     "data": {
      "text/html": [
       "<div>\n",
       "<style scoped>\n",
       "    .dataframe tbody tr th:only-of-type {\n",
       "        vertical-align: middle;\n",
       "    }\n",
       "\n",
       "    .dataframe tbody tr th {\n",
       "        vertical-align: top;\n",
       "    }\n",
       "\n",
       "    .dataframe thead th {\n",
       "        text-align: right;\n",
       "    }\n",
       "</style>\n",
       "<table border=\"1\" class=\"dataframe\">\n",
       "  <thead>\n",
       "    <tr style=\"text-align: right;\">\n",
       "      <th></th>\n",
       "      <th>Created</th>\n",
       "      <th>Product_ID</th>\n",
       "      <th>Source</th>\n",
       "      <th>Mobile</th>\n",
       "      <th>EMAIL</th>\n",
       "      <th>Sales_Agent</th>\n",
       "      <th>Location</th>\n",
       "      <th>Delivery_Mode</th>\n",
       "      <th>Status</th>\n",
       "      <th>Day_Of_Week</th>\n",
       "      <th>year</th>\n",
       "      <th>month</th>\n",
       "      <th>day</th>\n",
       "      <th>date_is_weekend</th>\n",
       "    </tr>\n",
       "  </thead>\n",
       "  <tbody>\n",
       "    <tr>\n",
       "      <th>0</th>\n",
       "      <td>2018-11-14 10:05:00</td>\n",
       "      <td>18</td>\n",
       "      <td>5</td>\n",
       "      <td>984XXXXXXX</td>\n",
       "      <td>aXXXXXXX@gmail.com</td>\n",
       "      <td>10</td>\n",
       "      <td>8</td>\n",
       "      <td>4</td>\n",
       "      <td>0</td>\n",
       "      <td>2</td>\n",
       "      <td>2018</td>\n",
       "      <td>11</td>\n",
       "      <td>14</td>\n",
       "      <td>0</td>\n",
       "    </tr>\n",
       "    <tr>\n",
       "      <th>1</th>\n",
       "      <td>2018-11-14 09:22:00</td>\n",
       "      <td>18</td>\n",
       "      <td>5</td>\n",
       "      <td>XXXXXXX</td>\n",
       "      <td>#VALUE!</td>\n",
       "      <td>1</td>\n",
       "      <td>8</td>\n",
       "      <td>4</td>\n",
       "      <td>0</td>\n",
       "      <td>2</td>\n",
       "      <td>2018</td>\n",
       "      <td>11</td>\n",
       "      <td>14</td>\n",
       "      <td>0</td>\n",
       "    </tr>\n",
       "    <tr>\n",
       "      <th>2</th>\n",
       "      <td>2018-11-14 09:21:00</td>\n",
       "      <td>18</td>\n",
       "      <td>5</td>\n",
       "      <td>XXXXXXX</td>\n",
       "      <td>dXXXXXXX@yahoo.com</td>\n",
       "      <td>1</td>\n",
       "      <td>8</td>\n",
       "      <td>4</td>\n",
       "      <td>0</td>\n",
       "      <td>2</td>\n",
       "      <td>2018</td>\n",
       "      <td>11</td>\n",
       "      <td>14</td>\n",
       "      <td>0</td>\n",
       "    </tr>\n",
       "    <tr>\n",
       "      <th>3</th>\n",
       "      <td>2018-11-14 08:46:00</td>\n",
       "      <td>18</td>\n",
       "      <td>5</td>\n",
       "      <td>XXXXXXX</td>\n",
       "      <td>wXXXXXXX@gmail.com</td>\n",
       "      <td>1</td>\n",
       "      <td>8</td>\n",
       "      <td>4</td>\n",
       "      <td>0</td>\n",
       "      <td>2</td>\n",
       "      <td>2018</td>\n",
       "      <td>11</td>\n",
       "      <td>14</td>\n",
       "      <td>0</td>\n",
       "    </tr>\n",
       "    <tr>\n",
       "      <th>4</th>\n",
       "      <td>2018-11-14 07:34:00</td>\n",
       "      <td>18</td>\n",
       "      <td>5</td>\n",
       "      <td>XXXXXXX</td>\n",
       "      <td>cXXXXXXX@gmail.com</td>\n",
       "      <td>1</td>\n",
       "      <td>8</td>\n",
       "      <td>4</td>\n",
       "      <td>0</td>\n",
       "      <td>2</td>\n",
       "      <td>2018</td>\n",
       "      <td>11</td>\n",
       "      <td>14</td>\n",
       "      <td>0</td>\n",
       "    </tr>\n",
       "  </tbody>\n",
       "</table>\n",
       "</div>"
      ],
      "text/plain": [
       "              Created Product_ID Source      Mobile               EMAIL  \\\n",
       "0 2018-11-14 10:05:00         18      5  984XXXXXXX  aXXXXXXX@gmail.com   \n",
       "1 2018-11-14 09:22:00         18      5     XXXXXXX             #VALUE!   \n",
       "2 2018-11-14 09:21:00         18      5     XXXXXXX  dXXXXXXX@yahoo.com   \n",
       "3 2018-11-14 08:46:00         18      5     XXXXXXX  wXXXXXXX@gmail.com   \n",
       "4 2018-11-14 07:34:00         18      5     XXXXXXX  cXXXXXXX@gmail.com   \n",
       "\n",
       "  Sales_Agent Location Delivery_Mode Status Day_Of_Week  year  month  day  \\\n",
       "0          10        8             4      0           2  2018     11   14   \n",
       "1           1        8             4      0           2  2018     11   14   \n",
       "2           1        8             4      0           2  2018     11   14   \n",
       "3           1        8             4      0           2  2018     11   14   \n",
       "4           1        8             4      0           2  2018     11   14   \n",
       "\n",
       "   date_is_weekend  \n",
       "0                0  \n",
       "1                0  \n",
       "2                0  \n",
       "3                0  \n",
       "4                0  "
      ]
     },
     "execution_count": 84,
     "metadata": {},
     "output_type": "execute_result"
    }
   ],
   "source": [
    "data.head()"
   ]
  },
  {
   "cell_type": "markdown",
   "id": "59f790d6",
   "metadata": {},
   "source": [
    "## Feature Selection"
   ]
  },
  {
   "cell_type": "code",
   "execution_count": 85,
   "id": "e7e504ec",
   "metadata": {},
   "outputs": [],
   "source": [
    "# Droppping Created and Year column as they are unique and constant features.\n",
    "data.drop(['Created','Mobile', 'EMAIL','year'], axis = 1, inplace = True)"
   ]
  },
  {
   "cell_type": "code",
   "execution_count": 86,
   "id": "f5a3629b",
   "metadata": {},
   "outputs": [
    {
     "data": {
      "text/html": [
       "<div>\n",
       "<style scoped>\n",
       "    .dataframe tbody tr th:only-of-type {\n",
       "        vertical-align: middle;\n",
       "    }\n",
       "\n",
       "    .dataframe tbody tr th {\n",
       "        vertical-align: top;\n",
       "    }\n",
       "\n",
       "    .dataframe thead th {\n",
       "        text-align: right;\n",
       "    }\n",
       "</style>\n",
       "<table border=\"1\" class=\"dataframe\">\n",
       "  <thead>\n",
       "    <tr style=\"text-align: right;\">\n",
       "      <th></th>\n",
       "      <th>Product_ID</th>\n",
       "      <th>Source</th>\n",
       "      <th>Sales_Agent</th>\n",
       "      <th>Location</th>\n",
       "      <th>Delivery_Mode</th>\n",
       "      <th>Status</th>\n",
       "      <th>Day_Of_Week</th>\n",
       "      <th>month</th>\n",
       "      <th>day</th>\n",
       "      <th>date_is_weekend</th>\n",
       "    </tr>\n",
       "  </thead>\n",
       "  <tbody>\n",
       "    <tr>\n",
       "      <th>0</th>\n",
       "      <td>18</td>\n",
       "      <td>5</td>\n",
       "      <td>10</td>\n",
       "      <td>8</td>\n",
       "      <td>4</td>\n",
       "      <td>0</td>\n",
       "      <td>2</td>\n",
       "      <td>11</td>\n",
       "      <td>14</td>\n",
       "      <td>0</td>\n",
       "    </tr>\n",
       "    <tr>\n",
       "      <th>1</th>\n",
       "      <td>18</td>\n",
       "      <td>5</td>\n",
       "      <td>1</td>\n",
       "      <td>8</td>\n",
       "      <td>4</td>\n",
       "      <td>0</td>\n",
       "      <td>2</td>\n",
       "      <td>11</td>\n",
       "      <td>14</td>\n",
       "      <td>0</td>\n",
       "    </tr>\n",
       "    <tr>\n",
       "      <th>2</th>\n",
       "      <td>18</td>\n",
       "      <td>5</td>\n",
       "      <td>1</td>\n",
       "      <td>8</td>\n",
       "      <td>4</td>\n",
       "      <td>0</td>\n",
       "      <td>2</td>\n",
       "      <td>11</td>\n",
       "      <td>14</td>\n",
       "      <td>0</td>\n",
       "    </tr>\n",
       "    <tr>\n",
       "      <th>3</th>\n",
       "      <td>18</td>\n",
       "      <td>5</td>\n",
       "      <td>1</td>\n",
       "      <td>8</td>\n",
       "      <td>4</td>\n",
       "      <td>0</td>\n",
       "      <td>2</td>\n",
       "      <td>11</td>\n",
       "      <td>14</td>\n",
       "      <td>0</td>\n",
       "    </tr>\n",
       "    <tr>\n",
       "      <th>4</th>\n",
       "      <td>18</td>\n",
       "      <td>5</td>\n",
       "      <td>1</td>\n",
       "      <td>8</td>\n",
       "      <td>4</td>\n",
       "      <td>0</td>\n",
       "      <td>2</td>\n",
       "      <td>11</td>\n",
       "      <td>14</td>\n",
       "      <td>0</td>\n",
       "    </tr>\n",
       "  </tbody>\n",
       "</table>\n",
       "</div>"
      ],
      "text/plain": [
       "  Product_ID Source Sales_Agent Location Delivery_Mode Status Day_Of_Week  \\\n",
       "0         18      5          10        8             4      0           2   \n",
       "1         18      5           1        8             4      0           2   \n",
       "2         18      5           1        8             4      0           2   \n",
       "3         18      5           1        8             4      0           2   \n",
       "4         18      5           1        8             4      0           2   \n",
       "\n",
       "   month  day  date_is_weekend  \n",
       "0     11   14                0  \n",
       "1     11   14                0  \n",
       "2     11   14                0  \n",
       "3     11   14                0  \n",
       "4     11   14                0  "
      ]
     },
     "execution_count": 86,
     "metadata": {},
     "output_type": "execute_result"
    }
   ],
   "source": [
    "data.head()"
   ]
  },
  {
   "cell_type": "code",
   "execution_count": 87,
   "id": "cd4e1546",
   "metadata": {},
   "outputs": [
    {
     "name": "stdout",
     "output_type": "stream",
     "text": [
      "<class 'pandas.core.frame.DataFrame'>\n",
      "Int64Index: 7420 entries, 0 to 7421\n",
      "Data columns (total 10 columns):\n",
      " #   Column           Non-Null Count  Dtype \n",
      "---  ------           --------------  ----- \n",
      " 0   Product_ID       7420 non-null   object\n",
      " 1   Source           7420 non-null   object\n",
      " 2   Sales_Agent      7420 non-null   object\n",
      " 3   Location         7420 non-null   object\n",
      " 4   Delivery_Mode    7420 non-null   object\n",
      " 5   Status           7420 non-null   object\n",
      " 6   Day_Of_Week      7420 non-null   object\n",
      " 7   month            7420 non-null   int64 \n",
      " 8   day              7420 non-null   int64 \n",
      " 9   date_is_weekend  7420 non-null   int32 \n",
      "dtypes: int32(1), int64(2), object(7)\n",
      "memory usage: 608.7+ KB\n"
     ]
    }
   ],
   "source": [
    "data.info()"
   ]
  },
  {
   "cell_type": "markdown",
   "id": "a57122ac",
   "metadata": {},
   "source": [
    "## Changing Data Type"
   ]
  },
  {
   "cell_type": "code",
   "execution_count": 88,
   "id": "556500bc",
   "metadata": {},
   "outputs": [],
   "source": [
    "# First will converet the data-type of all feature is object to int\n",
    "data_type_dict = {'Product_ID':'int64','Source':'int64','Sales_Agent':'int64','Location':'int64','Delivery_Mode':'int64',\n",
    "             'Status':'int64','Day_Of_Week':'int64'}\n",
    "\n",
    "data = data.astype(data_type_dict)\n"
   ]
  },
  {
   "cell_type": "code",
   "execution_count": 89,
   "id": "3eec4cab",
   "metadata": {},
   "outputs": [
    {
     "name": "stdout",
     "output_type": "stream",
     "text": [
      "<class 'pandas.core.frame.DataFrame'>\n",
      "Int64Index: 7420 entries, 0 to 7421\n",
      "Data columns (total 10 columns):\n",
      " #   Column           Non-Null Count  Dtype\n",
      "---  ------           --------------  -----\n",
      " 0   Product_ID       7420 non-null   int64\n",
      " 1   Source           7420 non-null   int64\n",
      " 2   Sales_Agent      7420 non-null   int64\n",
      " 3   Location         7420 non-null   int64\n",
      " 4   Delivery_Mode    7420 non-null   int64\n",
      " 5   Status           7420 non-null   int64\n",
      " 6   Day_Of_Week      7420 non-null   int64\n",
      " 7   month            7420 non-null   int64\n",
      " 8   day              7420 non-null   int64\n",
      " 9   date_is_weekend  7420 non-null   int32\n",
      "dtypes: int32(1), int64(9)\n",
      "memory usage: 608.7 KB\n"
     ]
    }
   ],
   "source": [
    "data.info()"
   ]
  },
  {
   "cell_type": "code",
   "execution_count": 90,
   "id": "1ea05a7f",
   "metadata": {},
   "outputs": [
    {
     "data": {
      "image/png": "[encoded data removed]",
      "text/plain": [
       "<Figure size 1200x800 with 2 Axes>"
      ]
     },
     "metadata": {},
     "output_type": "display_data"
    }
   ],
   "source": [
    "# Checking Correlation\n",
    "plt.figure(figsize=(12,8))\n",
    "sns.heatmap(data.corr(),annot=True,cmap='PuOr')\n",
    "plt.show()"
   ]
  },
  {
   "cell_type": "markdown",
   "id": "a2126b09",
   "metadata": {},
   "source": [
    "## Model Creation"
   ]
  },
  {
   "cell_type": "code",
   "execution_count": 91,
   "id": "31263147",
   "metadata": {},
   "outputs": [],
   "source": [
    "# Split X and y\n",
    "X = data.drop(columns = ['Status'])\n",
    "y = data['Status']"
   ]
  },
  {
   "cell_type": "code",
   "execution_count": 93,
   "id": "eb2de707",
   "metadata": {},
   "outputs": [
    {
     "name": "stdout",
     "output_type": "stream",
     "text": [
      "unbalanced data Counter({1: 4491, 0: 2929})\n",
      "Balanced data Counter({0: 4491, 1: 4491})\n"
     ]
    }
   ],
   "source": [
    "# balancing data\n",
    "from collections import Counter\n",
    "from imblearn.over_sampling import SMOTE\n",
    "sm = SMOTE() #object creation\n",
    "print(\"unbalanced data\",Counter(y))\n",
    "X_sm,y_sm = sm.fit_resample(X,y)\n",
    "print('Balanced data',Counter(y_sm))"
   ]
  },
  {
   "cell_type": "code",
   "execution_count": 94,
   "id": "5042d6b7",
   "metadata": {},
   "outputs": [],
   "source": [
    "# Splitting the training and testing data\n",
    "from sklearn.model_selection import train_test_split\n",
    "X_train,X_test,y_train,y_test = train_test_split(X_sm,y_sm,test_size=0.2,random_state=42)"
   ]
  },
  {
   "cell_type": "code",
   "execution_count": 95,
   "id": "49168196",
   "metadata": {},
   "outputs": [
    {
     "name": "stdout",
     "output_type": "stream",
     "text": [
      "(7185, 9)\n",
      "(7185,)\n",
      "(1797, 9)\n",
      "(1797,)\n"
     ]
    }
   ],
   "source": [
    "print(X_train.shape)\n",
    "print(y_train.shape)\n",
    "print(X_test.shape)\n",
    "print(y_test.shape)"
   ]
  },
  {
   "cell_type": "markdown",
   "id": "4614120c",
   "metadata": {},
   "source": [
    "## 1. Logistic Regression"
   ]
  },
  {
   "cell_type": "code",
   "execution_count": 96,
   "id": "5542ef8e",
   "metadata": {},
   "outputs": [],
   "source": [
    "# Step:1 importing library\n",
    "from sklearn.linear_model import LogisticRegression\n",
    "\n",
    "# Step:2 Object creation\n",
    "lr = LogisticRegression(penalty = 'l2',random_state=5)\n",
    "\n",
    "# Step:3 fitting the training data\n",
    "lr.fit(X_train,y_train)\n",
    "\n",
    "# Step:4 Prediction on test data\n",
    "lr_test_predict = lr.predict(X_test)\n",
    "\n",
    "# Step:5 Prediction on training data\n",
    "lr_train_predict = lr.predict(X_train)"
   ]
  },
  {
   "cell_type": "markdown",
   "id": "1654139f",
   "metadata": {},
   "source": [
    "## Training Accuracy"
   ]
  },
  {
   "cell_type": "code",
   "execution_count": 97,
   "id": "b9a37506",
   "metadata": {},
   "outputs": [
    {
     "name": "stdout",
     "output_type": "stream",
     "text": [
      "Training accuracy of Logistic regression model 61.40570633263744\n",
      "Logistic regression training Classification report: \n",
      "               precision    recall  f1-score   support\n",
      "\n",
      "           0       0.61      0.61      0.61      3565\n",
      "           1       0.62      0.61      0.62      3620\n",
      "\n",
      "    accuracy                           0.61      7185\n",
      "   macro avg       0.61      0.61      0.61      7185\n",
      "weighted avg       0.61      0.61      0.61      7185\n",
      "\n"
     ]
    }
   ],
   "source": [
    "# Import library\n",
    "from sklearn.metrics import accuracy_score,f1_score,recall_score,precision_score,classification_report,confusion_matrix\n",
    "lr_train_accuracy = accuracy_score(lr_train_predict,y_train)\n",
    "print(\"Training accuracy of Logistic regression model\",lr_train_accuracy*100)\n",
    "print(\"Logistic regression training Classification report: \\n\",classification_report(lr_train_predict,y_train))"
   ]
  },
  {
   "cell_type": "code",
   "execution_count": 98,
   "id": "ffdad909",
   "metadata": {},
   "outputs": [
    {
     "name": "stdout",
     "output_type": "stream",
     "text": [
      "Testing accuracy of Logistic regression model 62.99387868670006\n",
      "Logistic regression testing Classification report: \n",
      "               precision    recall  f1-score   support\n",
      "\n",
      "           0       0.61      0.64      0.62       864\n",
      "           1       0.65      0.62      0.64       933\n",
      "\n",
      "    accuracy                           0.63      1797\n",
      "   macro avg       0.63      0.63      0.63      1797\n",
      "weighted avg       0.63      0.63      0.63      1797\n",
      "\n"
     ]
    }
   ],
   "source": [
    "# Testing Accuracy\n",
    "lr_test_accuracy = accuracy_score(lr_test_predict,y_test)\n",
    "print(\"Testing accuracy of Logistic regression model\",lr_test_accuracy*100)\n",
    "print(\"Logistic regression testing Classification report: \\n\",classification_report(lr_test_predict,y_test))"
   ]
  },
  {
   "cell_type": "code",
   "execution_count": 99,
   "id": "8965b217",
   "metadata": {},
   "outputs": [
    {
     "name": "stdout",
     "output_type": "stream",
     "text": [
      "[[552 353]\n",
      " [312 580]]\n"
     ]
    }
   ],
   "source": [
    "# Confusion Matrix\n",
    "print(confusion_matrix(y_test,lr_test_predict))"
   ]
  },
  {
   "cell_type": "markdown",
   "id": "26f317ea",
   "metadata": {},
   "source": [
    "## 2. KNN Classifier"
   ]
  },
  {
   "cell_type": "code",
   "execution_count": 100,
   "id": "e3259e55",
   "metadata": {},
   "outputs": [
    {
     "name": "stdout",
     "output_type": "stream",
     "text": [
      "Error rate: [0.29827490261547024, 0.28213689482470783, 0.29827490261547024, 0.29271007234279356, 0.30105731775180855, 0.30328324986087923, 0.29549248747913187, 0.30161380077907624, 0.29938786867000555]\n"
     ]
    }
   ],
   "source": [
    "# Step:1 Taking the optimal value of k\n",
    "from sklearn.neighbors import KNeighborsClassifier\n",
    "error_rate = [] # Creating empty list\n",
    "for i in range(2,11):\n",
    "    knn = KNeighborsClassifier(n_neighbors=i)\n",
    "    knn.fit(X_train,y_train)\n",
    "    y_knn_predict = knn.predict(X_test)\n",
    "    error_rate.append(np.mean(y_knn_predict != y_test))\n",
    "print(\"Error rate:\",error_rate)"
   ]
  },
  {
   "cell_type": "code",
   "execution_count": 101,
   "id": "a3c5a0fe",
   "metadata": {},
   "outputs": [
    {
     "data": {
      "image/png": "[encoded data removed]",
      "text/plain": [
       "<Figure size 1000x600 with 1 Axes>"
      ]
     },
     "metadata": {},
     "output_type": "display_data"
    }
   ],
   "source": [
    "# Step:2 Plotting the error rate\n",
    "plt.figure(figsize=(10,6))\n",
    "plt.plot(range(2,11),error_rate,color='blue', linestyle='dashed',marker='o',markerfacecolor='red', markersize=10)\n",
    "plt.title('Error Rate vs. K Value')\n",
    "plt.xlabel('K')\n",
    "plt.ylabel('Error Rate')\n",
    "plt.show()"
   ]
  },
  {
   "cell_type": "code",
   "execution_count": 102,
   "id": "0058dee4",
   "metadata": {},
   "outputs": [],
   "source": [
    "# Step:3 Get nearst neighbors\n",
    "knn1 = KNeighborsClassifier(n_neighbors=3)\n",
    "\n",
    "# Step:4 Fitting the training data\n",
    "knn1.fit(X_train,y_train)\n",
    "\n",
    "# Step:5 Prediction on testing data\n",
    "knn_test_predict = knn1.predict(X_test)\n",
    "\n",
    "# Step:6 Prediction on training data\n",
    "knn_train_predict = knn1.predict(X_train)"
   ]
  },
  {
   "cell_type": "code",
   "execution_count": 103,
   "id": "f650b56d",
   "metadata": {},
   "outputs": [
    {
     "name": "stdout",
     "output_type": "stream",
     "text": [
      "Training accuracy of knn model  84.81558803061935\n",
      "Training classification report:\n",
      "               precision    recall  f1-score   support\n",
      "\n",
      "           0       0.89      0.82      0.85      3899\n",
      "           1       0.80      0.88      0.84      3286\n",
      "\n",
      "    accuracy                           0.85      7185\n",
      "   macro avg       0.85      0.85      0.85      7185\n",
      "weighted avg       0.85      0.85      0.85      7185\n",
      "\n"
     ]
    }
   ],
   "source": [
    "# Training Accuracy\n",
    "knn_train_accuracy = accuracy_score(y_train,knn_train_predict)\n",
    "print(\"Training accuracy of knn model \",knn_train_accuracy*100)\n",
    "print(\"Training classification report:\\n\",classification_report(knn_train_predict,y_train))"
   ]
  },
  {
   "cell_type": "code",
   "execution_count": 104,
   "id": "e87a7666",
   "metadata": {},
   "outputs": [
    {
     "name": "stdout",
     "output_type": "stream",
     "text": [
      "Testing accuracy of knn model 71.78631051752922\n",
      "Testing classification report: \n",
      "               precision    recall  f1-score   support\n",
      "\n",
      "           0       0.69      0.79      0.74       905\n",
      "           1       0.75      0.64      0.69       892\n",
      "\n",
      "    accuracy                           0.72      1797\n",
      "   macro avg       0.72      0.72      0.72      1797\n",
      "weighted avg       0.72      0.72      0.72      1797\n",
      "\n"
     ]
    }
   ],
   "source": [
    "# Testing Accuracy\n",
    "knn_test_accuracy = accuracy_score(y_test,knn_test_predict)\n",
    "print(\"Testing accuracy of knn model\",knn_test_accuracy*100)\n",
    "print(\"Testing classification report: \\n\",classification_report(y_test,knn_test_predict))"
   ]
  },
  {
   "cell_type": "code",
   "execution_count": 105,
   "id": "843d49b5",
   "metadata": {},
   "outputs": [
    {
     "name": "stdout",
     "output_type": "stream",
     "text": [
      "[[718 187]\n",
      " [320 572]]\n"
     ]
    }
   ],
   "source": [
    "# Confusion Matrix\n",
    "print(confusion_matrix(y_test,knn_test_predict))"
   ]
  },
  {
   "cell_type": "markdown",
   "id": "a96a6888",
   "metadata": {},
   "source": [
    "### USE BAGGING ON KNEIGHBOURS CLASSIFIER"
   ]
  },
  {
   "cell_type": "code",
   "execution_count": 106,
   "id": "57462616",
   "metadata": {},
   "outputs": [],
   "source": [
    "# step:1 Create a K-neighbour classifier object\n",
    "knn1 = KNeighborsClassifier(n_neighbors=3)\n",
    "\n",
    "# Step:2 importing library and creating bagging object\n",
    "from sklearn.ensemble import BaggingClassifier\n",
    "bagg = BaggingClassifier(base_estimator=knn1,n_estimators=50)\n",
    "\n",
    "# Step:3 Fitting the training data\n",
    "bagg.fit(X_train,y_train)\n",
    "\n",
    "# Step:4 Prediction on test data\n",
    "bagg_predict = bagg.predict(X_test)"
   ]
  },
  {
   "cell_type": "code",
   "execution_count": 107,
   "id": "b7e5277b",
   "metadata": {},
   "outputs": [
    {
     "name": "stdout",
     "output_type": "stream",
     "text": [
      "Score after bagging: 72.34279354479688\n"
     ]
    }
   ],
   "source": [
    "bagg_accuracy = accuracy_score(y_test,bagg_predict)\n",
    "print(\"Score after bagging:\",bagg_accuracy*100)"
   ]
  },
  {
   "cell_type": "markdown",
   "id": "6b7c7a72",
   "metadata": {},
   "source": [
    "## 3. Decision Tree"
   ]
  },
  {
   "cell_type": "code",
   "execution_count": 108,
   "id": "c3ef3881",
   "metadata": {},
   "outputs": [],
   "source": [
    "# Step:1 Importing library and object creation\n",
    "from sklearn.tree import DecisionTreeClassifier\n",
    "\n",
    "dt = DecisionTreeClassifier(criterion = 'entropy',max_depth = None , random_state = 21 , max_features = None, min_samples_leaf =20)\n",
    "\n",
    "# Step:2 fitting training data\n",
    "dt.fit(X_train,y_train)\n",
    "\n",
    "# Step:3 Prediction on test data\n",
    "dt_test_predict = dt.predict(X_test)\n",
    "\n",
    "# Step:4 Prediction on training data\n",
    "dt_train_predict = dt.predict(X_train)"
   ]
  },
  {
   "cell_type": "code",
   "execution_count": 109,
   "id": "b2fd7126",
   "metadata": {},
   "outputs": [
    {
     "name": "stdout",
     "output_type": "stream",
     "text": [
      "Training accuracy of Decision tree classifier: 75.51844119693807\n",
      "classification report of training:\n",
      "               precision    recall  f1-score   support\n",
      "\n",
      "           0       0.75      0.77      0.76      3586\n",
      "           1       0.76      0.74      0.75      3599\n",
      "\n",
      "    accuracy                           0.76      7185\n",
      "   macro avg       0.76      0.76      0.76      7185\n",
      "weighted avg       0.76      0.76      0.76      7185\n",
      "\n"
     ]
    }
   ],
   "source": [
    "# Training Accuracy\n",
    "dt_train_accuracy = accuracy_score(y_train,dt_train_predict)\n",
    "print(\"Training accuracy of Decision tree classifier:\",dt_train_accuracy*100)\n",
    "print(\"classification report of training:\"'\\n',classification_report(y_train,dt_train_predict))"
   ]
  },
  {
   "cell_type": "code",
   "execution_count": 110,
   "id": "d18ae8c1",
   "metadata": {},
   "outputs": [
    {
     "name": "stdout",
     "output_type": "stream",
     "text": [
      "Training accuracy of Decision tree classifier: 70.4507512520868\n",
      "classification report of training:\n",
      "               precision    recall  f1-score   support\n",
      "\n",
      "           0       0.70      0.71      0.71       905\n",
      "           1       0.70      0.70      0.70       892\n",
      "\n",
      "    accuracy                           0.70      1797\n",
      "   macro avg       0.70      0.70      0.70      1797\n",
      "weighted avg       0.70      0.70      0.70      1797\n",
      "\n"
     ]
    }
   ],
   "source": [
    "# Testing Accuracy\n",
    "dt_test_accuracy = accuracy_score(y_test,dt_test_predict)\n",
    "print(\"Training accuracy of Decision tree classifier:\",dt_test_accuracy*100)\n",
    "print(\"classification report of training:\"'\\n',classification_report(y_test,dt_test_predict))"
   ]
  },
  {
   "cell_type": "code",
   "execution_count": 111,
   "id": "1ddee13e",
   "metadata": {},
   "outputs": [
    {
     "name": "stdout",
     "output_type": "stream",
     "text": [
      "[[644 261]\n",
      " [270 622]]\n"
     ]
    }
   ],
   "source": [
    "# Confusion Matrix\n",
    "print(confusion_matrix(y_test,dt_test_predict))"
   ]
  },
  {
   "cell_type": "markdown",
   "id": "3c075f74",
   "metadata": {},
   "source": [
    "### Hyperparameter Tuning"
   ]
  },
  {
   "cell_type": "code",
   "execution_count": 112,
   "id": "36cbf7f4",
   "metadata": {},
   "outputs": [
    {
     "name": "stdout",
     "output_type": "stream",
     "text": [
      "Fitting 3 folds for each of 4176 candidates, totalling 12528 fits\n",
      "Best paramters: {'criterion': 'entropy', 'max_depth': 8, 'min_samples_leaf': 1, 'min_samples_split': 2, 'splitter': 'best'}\n"
     ]
    }
   ],
   "source": [
    "# Step:1 importing library\n",
    "from sklearn.model_selection import GridSearchCV\n",
    "\n",
    "# Step:2 Tunning the parameter\n",
    "params = {\n",
    "    \"criterion\":(\"gini\", \"entropy\"), \n",
    "    \"splitter\":(\"best\", \"random\"), \n",
    "    \"max_depth\":(list(range(1, 30))), \n",
    "    \"min_samples_split\":[2, 3, 4,5], \n",
    "    \"min_samples_leaf\":list(range(1, 10)),}\n",
    "\n",
    "\n",
    "tree_c = DecisionTreeClassifier(random_state=3)\n",
    "tree_cv = GridSearchCV(tree_c, params, scoring=\"f1\", n_jobs=-1, verbose=2, cv=3)\n",
    "\n",
    "# Fitting traning data\n",
    "tree_cv.fit(X_train,y_train)\n",
    "\n",
    "# Get the best parameter\n",
    "best_params = tree_cv.best_params_\n",
    "print(f\"Best paramters: {best_params}\")"
   ]
  },
  {
   "cell_type": "code",
   "execution_count": 113,
   "id": "f27df3c0",
   "metadata": {},
   "outputs": [],
   "source": [
    "# Step:3 place the parameter on decision tree classifier\n",
    "dt1=DecisionTreeClassifier(criterion='gini',\n",
    "                           max_depth=13,min_samples_leaf=1,\n",
    "                           min_samples_split=2,splitter='best')"
   ]
  },
  {
   "cell_type": "code",
   "execution_count": 114,
   "id": "90d3b085",
   "metadata": {},
   "outputs": [],
   "source": [
    "# Step:4 fitting training data\n",
    "dt1.fit(X_train,y_train)\n",
    "\n",
    "# Step:5 prdiction on testing data\n",
    "yhat = dt1.predict(X_test)"
   ]
  },
  {
   "cell_type": "code",
   "execution_count": 115,
   "id": "a1e0268d",
   "metadata": {},
   "outputs": [
    {
     "name": "stdout",
     "output_type": "stream",
     "text": [
      "Accuracy score: 69.39343350027825\n",
      "Classification report:\n",
      "               precision    recall  f1-score   support\n",
      "\n",
      "           0       0.68      0.73      0.71       905\n",
      "           1       0.71      0.65      0.68       892\n",
      "\n",
      "    accuracy                           0.69      1797\n",
      "   macro avg       0.69      0.69      0.69      1797\n",
      "weighted avg       0.69      0.69      0.69      1797\n",
      "\n"
     ]
    }
   ],
   "source": [
    "# Testing Accuracy\n",
    "dt1_test_accuracy = accuracy_score(y_test,yhat)\n",
    "print(\"Accuracy score:\",dt1_test_accuracy*100)\n",
    "print(\"Classification report:\"'\\n',classification_report(y_test,yhat))"
   ]
  },
  {
   "cell_type": "markdown",
   "id": "10a50f82",
   "metadata": {},
   "source": [
    "## 4.Random Forest Classifier"
   ]
  },
  {
   "cell_type": "code",
   "execution_count": 118,
   "id": "85f6615f",
   "metadata": {},
   "outputs": [],
   "source": [
    "# Step:1 import library and object creation\n",
    "from sklearn.ensemble import RandomForestClassifier\n",
    "rf = RandomForestClassifier()\n",
    "\n",
    "# Step:2 fitting the training data\n",
    "rf.fit(X_train,y_train)\n",
    "\n",
    "# Step:3 Prediction on test data\n",
    "rf_test_predict = rf.predict(X_test)\n",
    "\n",
    "# Step:4 Prediction on training data\n",
    "rf_train_predict = rf.predict(X_train)"
   ]
  },
  {
   "cell_type": "code",
   "execution_count": 119,
   "id": "609414f4",
   "metadata": {},
   "outputs": [
    {
     "name": "stdout",
     "output_type": "stream",
     "text": [
      "Training accuracy of random forest classifier: 98.52470424495476\n",
      "Classification report of training:\n",
      "               precision    recall  f1-score   support\n",
      "\n",
      "           0       0.99      0.98      0.99      3586\n",
      "           1       0.98      0.99      0.99      3599\n",
      "\n",
      "    accuracy                           0.99      7185\n",
      "   macro avg       0.99      0.99      0.99      7185\n",
      "weighted avg       0.99      0.99      0.99      7185\n",
      "\n"
     ]
    }
   ],
   "source": [
    "# Training Accuracy\n",
    "rf_train_accuracy = accuracy_score(y_train,rf_train_predict)\n",
    "print(\"Training accuracy of random forest classifier:\",rf_train_accuracy*100)\n",
    "print(\"Classification report of training:\"'\\n',classification_report(y_train,rf_train_predict))"
   ]
  },
  {
   "cell_type": "code",
   "execution_count": 120,
   "id": "a1b2f986",
   "metadata": {},
   "outputs": [
    {
     "name": "stdout",
     "output_type": "stream",
     "text": [
      "Testing accuracy of random forest classifier: 74.62437395659433\n",
      "Classification report of training:\n",
      "               precision    recall  f1-score   support\n",
      "\n",
      "           0       0.73      0.78      0.76       905\n",
      "           1       0.76      0.71      0.74       892\n",
      "\n",
      "    accuracy                           0.75      1797\n",
      "   macro avg       0.75      0.75      0.75      1797\n",
      "weighted avg       0.75      0.75      0.75      1797\n",
      "\n"
     ]
    }
   ],
   "source": [
    "# Testing Accuracy\n",
    "rf_test_accuracy = accuracy_score(y_test,rf_test_predict)\n",
    "print(\"Testing accuracy of random forest classifier:\",rf_test_accuracy*100)\n",
    "print(\"Classification report of training:\"'\\n',classification_report(y_test,rf_test_predict))"
   ]
  },
  {
   "cell_type": "code",
   "execution_count": 121,
   "id": "1a5f7d87",
   "metadata": {},
   "outputs": [
    {
     "name": "stdout",
     "output_type": "stream",
     "text": [
      "[[705 200]\n",
      " [256 636]]\n"
     ]
    }
   ],
   "source": [
    "# Confusion Matrix\n",
    "print(confusion_matrix(y_test,rf_test_predict))"
   ]
  },
  {
   "cell_type": "markdown",
   "id": "56f368bb",
   "metadata": {},
   "source": [
    "## Hyperparameter tuning"
   ]
  },
  {
   "cell_type": "code",
   "execution_count": 122,
   "id": "20354a14",
   "metadata": {},
   "outputs": [
    {
     "name": "stdout",
     "output_type": "stream",
     "text": [
      "Fitting 3 folds for each of 100 candidates, totalling 300 fits\n",
      "Best paramters: {'n_estimators': 2000, 'min_samples_split': 5, 'min_samples_leaf': 1, 'max_features': 'sqrt', 'max_depth': 21})\n"
     ]
    }
   ],
   "source": [
    "# Step:1 [imutation of parameter]\n",
    "from sklearn.model_selection import RandomizedSearchCV\n",
    "# not used grid search cv beacuse memory reason\n",
    "\n",
    "n_estimators = [int(x) for x in np.linspace(start=100, stop=2000, num=10)]\n",
    "max_features = ['auto', 'sqrt'] ### auto - select randomly, sqrt - \n",
    "max_depth = [int(x) for x in np.linspace(10, 110, num=10)] ### level in the tree\n",
    "max_depth.append(None)\n",
    "min_samples_split = [2, 5, 15]\n",
    "min_samples_leaf = [1, 2, 4]\n",
    "\n",
    "\n",
    "# Step:2 make a dictionary of parameter\n",
    "random_grid = {'n_estimators': n_estimators, 'max_features': max_features,\n",
    "               'max_depth': max_depth, 'min_samples_split': min_samples_split,\n",
    "               'min_samples_leaf': min_samples_leaf}\n",
    "\n",
    "# Step:3 Object creation\n",
    "rf_clf1 = RandomForestClassifier(random_state=42) \n",
    "# provide random state beacuse select row and column randomly\n",
    "\n",
    "\n",
    "# Step:4 randomized search cv with parameter\n",
    "rf_cv = RandomizedSearchCV(estimator=rf_clf1, scoring='f1',param_distributions=random_grid, n_iter=100, cv=3, \n",
    "                               verbose=3, random_state=42, n_jobs=-1)\n",
    "\n",
    "\n",
    "# Step:5 fitting the training data\n",
    "rf_cv.fit(X_train, y_train)\n",
    "\n",
    "# Step:6 Getting the best parameter\n",
    "rf_best_params = rf_cv.best_params_\n",
    "print(f\"Best paramters: {rf_best_params})\")\n",
    " \n"
   ]
  },
  {
   "cell_type": "code",
   "execution_count": 123,
   "id": "3efb6b81",
   "metadata": {},
   "outputs": [],
   "source": [
    "# Step:7 \n",
    "rf_clf2 = RandomForestClassifier(**rf_best_params)\n",
    "\n",
    "# Step:8 Fitting the training data\n",
    "rf_clf2.fit(X_train,y_train)\n",
    "\n",
    "# Step:9 Prediction on test data\n",
    "y_predict = rf_clf2.predict(X_test)"
   ]
  },
  {
   "cell_type": "code",
   "execution_count": 124,
   "id": "07980804",
   "metadata": {},
   "outputs": [
    {
     "data": {
      "text/plain": [
       "0.9625608907446068"
      ]
     },
     "execution_count": 124,
     "metadata": {},
     "output_type": "execute_result"
    }
   ],
   "source": [
    "rf_train_predict = rf_clf2.predict(X_train)\n",
    "train_accuracy = accuracy_score(y_train,rf_train_predict)\n",
    "train_accuracy"
   ]
  },
  {
   "cell_type": "code",
   "execution_count": 125,
   "id": "c4b388a4",
   "metadata": {},
   "outputs": [
    {
     "name": "stdout",
     "output_type": "stream",
     "text": [
      "Testing accuracy after hyper parameter tunning: 75.73734001112966\n"
     ]
    }
   ],
   "source": [
    "test_accuracy = accuracy_score(y_test,y_predict)\n",
    "print(\"Testing accuracy after hyper parameter tunning:\",test_accuracy*100)"
   ]
  },
  {
   "cell_type": "markdown",
   "id": "759aefe8",
   "metadata": {},
   "source": [
    "## 5. Gradient Boosting Classifier"
   ]
  },
  {
   "cell_type": "code",
   "execution_count": 126,
   "id": "da236c4f",
   "metadata": {},
   "outputs": [],
   "source": [
    "# Step:1 Object cretion\n",
    "from sklearn.ensemble import GradientBoostingClassifier\n",
    "gb=GradientBoostingClassifier(learning_rate=0.1,n_estimators=150,random_state=42)\n",
    "\n",
    "# Step:2 fitting the training data\n",
    "gb.fit(X_train,y_train) ## fitting the data\n",
    "\n",
    "# Step:3 prediction on test data\n",
    "gb_test_predict=gb.predict(X_test)\n",
    "\n",
    "# Step:4 Prediction on train data\n",
    "gb_train_predict = gb.predict(X_train)"
   ]
  },
  {
   "cell_type": "code",
   "execution_count": 127,
   "id": "3ff74095",
   "metadata": {},
   "outputs": [
    {
     "name": "stdout",
     "output_type": "stream",
     "text": [
      "Grediant boosting classifier training accuracy: 75.43493389004871\n",
      "Classification report of training:\n",
      "               precision    recall  f1-score   support\n",
      "\n",
      "           0       0.74      0.78      0.76      3586\n",
      "           1       0.77      0.73      0.75      3599\n",
      "\n",
      "    accuracy                           0.75      7185\n",
      "   macro avg       0.76      0.75      0.75      7185\n",
      "weighted avg       0.76      0.75      0.75      7185\n",
      "\n"
     ]
    }
   ],
   "source": [
    "# Training Accuracy\n",
    "gb_train_accuracy = accuracy_score(y_train,gb_train_predict)\n",
    "print(\"Grediant boosting classifier training accuracy:\",gb_train_accuracy*100)\n",
    "print(\"Classification report of training:\"'\\n',classification_report(y_train,gb_train_predict))"
   ]
  },
  {
   "cell_type": "code",
   "execution_count": 128,
   "id": "b3f603f5",
   "metadata": {},
   "outputs": [
    {
     "name": "stdout",
     "output_type": "stream",
     "text": [
      "Grediant boosting classifier testing accuracy: 74.45742904841403\n",
      "Classification report of testing:\n",
      "               precision    recall  f1-score   support\n",
      "\n",
      "           0       0.74      0.76      0.75       905\n",
      "           1       0.75      0.73      0.74       892\n",
      "\n",
      "    accuracy                           0.74      1797\n",
      "   macro avg       0.74      0.74      0.74      1797\n",
      "weighted avg       0.74      0.74      0.74      1797\n",
      "\n"
     ]
    }
   ],
   "source": [
    "# Testing Accuracy\n",
    "gb_test_accuracy = accuracy_score(y_test,gb_test_predict)\n",
    "print(\"Grediant boosting classifier testing accuracy:\",gb_test_accuracy*100)\n",
    "print(\"Classification report of testing:\"'\\n',classification_report(y_test,gb_test_predict))"
   ]
  },
  {
   "cell_type": "code",
   "execution_count": 129,
   "id": "25c45b3a",
   "metadata": {},
   "outputs": [
    {
     "name": "stdout",
     "output_type": "stream",
     "text": [
      "[[690 215]\n",
      " [244 648]]\n"
     ]
    }
   ],
   "source": [
    "# Confusion Matrix\n",
    "print(confusion_matrix(y_test,gb_test_predict))"
   ]
  },
  {
   "cell_type": "markdown",
   "id": "f4322f22",
   "metadata": {},
   "source": [
    "## 6. XGB Classifier"
   ]
  },
  {
   "cell_type": "code",
   "execution_count": 130,
   "id": "c56a7b4f",
   "metadata": {},
   "outputs": [],
   "source": [
    "# Step:1 import library and object creation\n",
    "import xgboost\n",
    "from xgboost import XGBClassifier\n",
    "xgb = XGBClassifier()\n",
    "\n",
    "# Step:2 Fitting the training data\n",
    "xgb.fit(X_train,y_train)\n",
    "\n",
    "# Step:3 Prediction on training data\n",
    "xgb_train_predict = xgb.predict(X_train)\n",
    "\n",
    "# Step:4 Prediction on testing data\n",
    "xgb_test_predict = xgb.predict(X_test)"
   ]
  },
  {
   "cell_type": "code",
   "execution_count": 131,
   "id": "fa61481e",
   "metadata": {},
   "outputs": [
    {
     "name": "stdout",
     "output_type": "stream",
     "text": [
      "Training accuracy of xgb model 89.33890048712595\n",
      "Classifiaction report on training: \n",
      "               precision    recall  f1-score   support\n",
      "\n",
      "           0       0.90      0.89      0.89      3654\n",
      "           1       0.88      0.90      0.89      3531\n",
      "\n",
      "    accuracy                           0.89      7185\n",
      "   macro avg       0.89      0.89      0.89      7185\n",
      "weighted avg       0.89      0.89      0.89      7185\n",
      "\n"
     ]
    }
   ],
   "source": [
    "# Training Accuracy\n",
    "xgb_train_accuracy = accuracy_score(xgb_train_predict,y_train)\n",
    "print(\"Training accuracy of xgb model\",xgb_train_accuracy*100)\n",
    "print(\"Classifiaction report on training: \\n\",classification_report(xgb_train_predict,y_train))"
   ]
  },
  {
   "cell_type": "code",
   "execution_count": 133,
   "id": "b7ee9b0a",
   "metadata": {},
   "outputs": [
    {
     "name": "stdout",
     "output_type": "stream",
     "text": [
      "Testing accuracy of xgb model 74.56872565386756\n",
      "Classification report on testing: \n",
      "               precision    recall  f1-score   support\n",
      "\n",
      "           0       0.76      0.74      0.75       936\n",
      "           1       0.73      0.75      0.74       861\n",
      "\n",
      "    accuracy                           0.75      1797\n",
      "   macro avg       0.75      0.75      0.75      1797\n",
      "weighted avg       0.75      0.75      0.75      1797\n",
      "\n"
     ]
    }
   ],
   "source": [
    "# Testing Accuracy\n",
    "xgb_test_accuracy = accuracy_score(xgb_test_predict,y_test)\n",
    "print(\"Testing accuracy of xgb model\",xgb_test_accuracy*100)\n",
    "print(\"Classification report on testing: \\n\",classification_report(xgb_test_predict,y_test))"
   ]
  },
  {
   "cell_type": "code",
   "execution_count": 134,
   "id": "b4819fc2",
   "metadata": {},
   "outputs": [
    {
     "name": "stdout",
     "output_type": "stream",
     "text": [
      "[[692 213]\n",
      " [244 648]]\n"
     ]
    }
   ],
   "source": [
    "# Confusion Matrix\n",
    "print(confusion_matrix(y_test,xgb_test_predict))"
   ]
  },
  {
   "cell_type": "markdown",
   "id": "2552bd40",
   "metadata": {},
   "source": [
    "## Hyperparameter Tuning"
   ]
  },
  {
   "cell_type": "code",
   "execution_count": 135,
   "id": "083e6886",
   "metadata": {},
   "outputs": [
    {
     "name": "stdout",
     "output_type": "stream",
     "text": [
      "Fitting 5 folds for each of 150 candidates, totalling 750 fits\n",
      "Best parameter: {'reg_lambda': 25.6, 'reg_alpha': 0.8, 'n_estimators': 150, 'max_depth': 10, 'learning_rate': 0.4, 'gamma': 0.2}\n"
     ]
    }
   ],
   "source": [
    "# Step:1 import library \n",
    "from sklearn.model_selection import RandomizedSearchCV\n",
    "param_grid = {'gamma': [0,0.1,0.2,0.4,0.8,1.6,3.2,6.4,12.8,25.6,51.2,102.4, 200],\n",
    "              'learning_rate': [0.001,0.01,0.1, 0.03, 0.06, 0.1, 0.15, 0.02,0.003, 0.4, 0.5, 0.6, 0.7],\n",
    "              'max_depth': [3,5,6,7,8,10],\n",
    "              'n_estimators': [50,65,80,100,130,150],\n",
    "              'reg_alpha': [0,0.01,0.1,0.02,0.2,0.4,0.8,1.6,6.4,12.8,25.6,51.2,102.4,200],\n",
    "              'reg_lambda': [0,0.01,0.1,0.02,0.2,0.4,0.8,1.6,3.2,6.4,12.8,25.6,51.2,102.4,200]}\n",
    "\n",
    "# Step:2 Object creation with parameter\n",
    "XGB = XGBClassifier(random_state=42)\n",
    "\n",
    "# Step:3 Create randomized search cv with parameter\n",
    "rcv = RandomizedSearchCV(estimator=XGB,scoring='f1',param_distributions=param_grid,n_iter=150,\n",
    "                        cv=5,verbose=3,random_state=5,n_jobs=-1)\n",
    "\n",
    "#estimator - number of decision tree\n",
    "#scoring - performance matrix to check performance\n",
    "#param_distribution - hyperparametes(dictionary we created)\n",
    "#n_iter - Number of parameter settings that are sampled. n_iter trades off runtime vs quality of the solution.default=10\n",
    "##cv - number of flods\n",
    "#verbose=Controls the verbosity: the higher, the more messages.\n",
    "#n_jobs - Number of jobs to run in parallel,-1 means using all processors.\n",
    "\n",
    "# Step:4 Fitting training data on randomized search cv\n",
    "rcv.fit(X_train,y_train)\n",
    "\n",
    "# Step:5 Get best parameters\n",
    "rcv_best_parameter = rcv.best_params_\n",
    "print(f\"Best parameter: {rcv_best_parameter}\")\n"
   ]
  },
  {
   "cell_type": "code",
   "execution_count": 136,
   "id": "05ecf15e",
   "metadata": {},
   "outputs": [],
   "source": [
    "# Step:6 Place the best parameter\n",
    "XGB2 = XGBClassifier(reg_lambda=25.6,reg_alpha=0.8,n_estimators=150,max_depth=10,learning_rate=0.4,gamma=0.2)\n",
    "\n",
    "# Step:7 Fitting the training data\n",
    "XGB2.fit(X_train,y_train)\n",
    "\n",
    "# Step:8 Prediction on testing data\n",
    "XGB_prediction = XGB2.predict(X_test)"
   ]
  },
  {
   "cell_type": "code",
   "execution_count": 137,
   "id": "dc5bfdb6",
   "metadata": {},
   "outputs": [
    {
     "name": "stdout",
     "output_type": "stream",
     "text": [
      "Accuracy score after hyperparameter tunning 75.57039510294936\n",
      "Classification report: \n",
      "               precision    recall  f1-score   support\n",
      "\n",
      "           0       0.78      0.75      0.76       942\n",
      "           1       0.73      0.76      0.75       855\n",
      "\n",
      "    accuracy                           0.76      1797\n",
      "   macro avg       0.76      0.76      0.76      1797\n",
      "weighted avg       0.76      0.76      0.76      1797\n",
      "\n"
     ]
    }
   ],
   "source": [
    "XGB_accuracy = accuracy_score(XGB_prediction,y_test)\n",
    "print(\"Accuracy score after hyperparameter tunning\",XGB_accuracy*100)\n",
    "print(\"Classification report: \\n\",classification_report(XGB_prediction,y_test))"
   ]
  },
  {
   "cell_type": "markdown",
   "id": "e9fbfcbb",
   "metadata": {},
   "source": [
    "## Support Vector Machine"
   ]
  },
  {
   "cell_type": "code",
   "execution_count": 138,
   "id": "4423d15c",
   "metadata": {},
   "outputs": [],
   "source": [
    "# Step:1 import library and object creation\n",
    "from sklearn.svm import SVC\n",
    "svclassifier = SVC(random_state = 1) ## base model with default parameters\n",
    "\n",
    "# Step:2 Fitting the training data\n",
    "svclassifier.fit(X_train, y_train)\n",
    "\n",
    "# Step:3 Prediction on training data\n",
    "svc_train_predict = svclassifier.predict(X_train)\n",
    "\n",
    "# Step:4 Prediction on testing data\n",
    "svc_test_predict=svclassifier.predict(X_test)"
   ]
  },
  {
   "cell_type": "code",
   "execution_count": 139,
   "id": "98ce63c9",
   "metadata": {},
   "outputs": [
    {
     "name": "stdout",
     "output_type": "stream",
     "text": [
      "Training accuracy of SVC model 65.58107167710509\n",
      "Classifiaction report on training: \n",
      "               precision    recall  f1-score   support\n",
      "\n",
      "           0       0.74      0.63      0.68      4199\n",
      "           1       0.57      0.69      0.62      2986\n",
      "\n",
      "    accuracy                           0.66      7185\n",
      "   macro avg       0.66      0.66      0.65      7185\n",
      "weighted avg       0.67      0.66      0.66      7185\n",
      "\n"
     ]
    }
   ],
   "source": [
    "# Training Accuracy\n",
    "svc_train_accuracy = accuracy_score(svc_train_predict,y_train)\n",
    "print(\"Training accuracy of SVC model\",svc_train_accuracy*100)\n",
    "print(\"Classifiaction report on training: \\n\",classification_report(svc_train_predict,y_train))"
   ]
  },
  {
   "cell_type": "code",
   "execution_count": 140,
   "id": "12dd6b2e",
   "metadata": {},
   "outputs": [
    {
     "name": "stdout",
     "output_type": "stream",
     "text": [
      "Testing accuracy of SVC model 66.33277685030606\n",
      "Classification report on testing: \n",
      "               precision    recall  f1-score   support\n",
      "\n",
      "           0       0.73      0.65      0.69      1024\n",
      "           1       0.59      0.69      0.64       773\n",
      "\n",
      "    accuracy                           0.66      1797\n",
      "   macro avg       0.66      0.67      0.66      1797\n",
      "weighted avg       0.67      0.66      0.66      1797\n",
      "\n"
     ]
    }
   ],
   "source": [
    "# Testing Accuracy\n",
    "svc_test_accuracy = accuracy_score(svc_test_predict,y_test)\n",
    "print(\"Testing accuracy of SVC model\",svc_test_accuracy*100)\n",
    "print(\"Classification report on testing: \\n\",classification_report(svc_test_predict,y_test))"
   ]
  },
  {
   "cell_type": "code",
   "execution_count": 141,
   "id": "3c7c3ec7",
   "metadata": {},
   "outputs": [
    {
     "name": "stdout",
     "output_type": "stream",
     "text": [
      "[[662 243]\n",
      " [362 530]]\n"
     ]
    }
   ],
   "source": [
    "# Confusion Matrix\n",
    "print(confusion_matrix(y_test,svc_test_predict))"
   ]
  },
  {
   "cell_type": "markdown",
   "id": "f48d41d7",
   "metadata": {},
   "source": [
    "## Comparison of Accuracy of above models"
   ]
  },
  {
   "cell_type": "code",
   "execution_count": 142,
   "id": "e8679c26",
   "metadata": {},
   "outputs": [
    {
     "data": {
      "image/png": "[encoded data removed]",
      "text/plain": [
       "<Figure size 1400x1000 with 1 Axes>"
      ]
     },
     "metadata": {},
     "output_type": "display_data"
    }
   ],
   "source": [
    "# set width of the bar\n",
    "barwidth = 0.25\n",
    "fig = plt.subplots(figsize=(14,10))\n",
    "\n",
    "## Define data\n",
    "algorithms = [\"Logistic Regression\",\"KNN Classifier\",\"Decision Tree\",\"Random Forest Classifier\",\"Gradient Boosting Classifier\",\"XGB Classifier\",\"Support Vector Machine\"]\n",
    "train_scores = [lr_train_accuracy,knn_train_accuracy,dt_train_accuracy,rf_train_accuracy,gb_train_accuracy,xgb_train_accuracy,svc_train_accuracy]\n",
    "test_scores = [lr_test_accuracy,knn_test_accuracy,dt_test_accuracy,rf_test_accuracy,gb_test_accuracy,xgb_test_accuracy,svc_test_accuracy]\n",
    "\n",
    "x_axis = np.arange(len(algorithms))\n",
    "\n",
    "# Multi bar chart\n",
    "plt.bar(x_axis + 0.2, train_scores, width = 0.2, label = 'Train Scores')\n",
    "plt.bar(x_axis + 0.2*2, test_scores,width = 0.2, label = 'Test Scores')\n",
    "\n",
    "# Xticks\n",
    "plt.xlabel('Algorithms', fontsize = 18)\n",
    "plt.ylabel('Accuracy Score', fontsize = 18)\n",
    "plt.xticks(x_axis,algorithms,rotation=45)\n",
    "\n",
    "# Add legend\n",
    "plt.legend()\n",
    "\n",
    "# Display\n",
    "plt.show()"
   ]
  },
  {
   "cell_type": "markdown",
   "id": "b960003a",
   "metadata": {},
   "source": [
    "# Conclusion"
   ]
  },
  {
   "cell_type": "markdown",
   "id": "b71a1176",
   "metadata": {},
   "source": [
    "### Task 1: Data Exploration insights - Sales effectiveness\n",
    "- Exploratory Data Analysis and insights are given for the above dataset."
   ]
  },
  {
   "cell_type": "markdown",
   "id": "8d45168a",
   "metadata": {},
   "source": [
    "### Task 2: ML model to predict the Lead Category (High Potential, Low Potential)"
   ]
  },
  {
   "cell_type": "markdown",
   "id": "ec98e523",
   "metadata": {},
   "source": [
    "- After data preprocessing the data was trained and tested by different ML models.\n",
    "\n",
    "- I have used two different techniques that are Normal approach and performed Hyperparameter tuning when model was overfitting or underfitting.\n",
    "\n",
    "- Logistic Regression did not performed well on training as well as testing data.\n",
    "\n",
    "- KNN model performed well on training data but not performed well on testing data so tried with bagging but a slight improvement in accuracy.\n",
    "\n",
    "- Decision tree training accuarcy is 76% and testing accuracy is 70%.\n",
    "\n",
    "- Random Forest training accuracy is 99% and testing accuracy is 75% hence the model is underfitting so did hyperparameter tuning after that score has improved to 76%.\n",
    "  \n",
    "- Gradient Boosting Classifier model gives the highest accuracy score as 74% compare with other methods as this model has low bias and low variance called as generalized model.\n",
    "\n",
    "- XGB Classifier also gave training accuracy as 90% and testing accuracy as 74% which is ovefitted model.\n",
    "\n",
    "- Support vector machine also performed poor on training as well as test side.\n",
    "   \n",
    "- After Hyperparameter tuning of models, Random Forest has given the highest accuracy score as 76%."
   ]
  },
  {
   "cell_type": "code",
   "execution_count": null,
   "id": "ac979449",
   "metadata": {},
   "outputs": [],
   "source": []
  }
 ],
 "metadata": {
  "kernelspec": {
   "display_name": "Python 3 (ipykernel)",
   "language": "python",
   "name": "python3"
  },
  "language_info": {
   "codemirror_mode": {
    "name": "ipython",
    "version": 3
   },
   "file_extension": ".py",
   "mimetype": "text/x-python",
   "name": "python",
   "nbconvert_exporter": "python",
   "pygments_lexer": "ipython3",
   "version": "3.9.13"
  }
 },
 "nbformat": 4,
 "nbformat_minor": 5
}
